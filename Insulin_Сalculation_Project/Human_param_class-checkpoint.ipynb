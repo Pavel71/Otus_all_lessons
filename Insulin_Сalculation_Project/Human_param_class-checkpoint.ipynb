{
 "cells": [
  {
   "cell_type": "markdown",
   "metadata": {},
   "source": [
    "Здесь будет работать класс отвечающий за хранение и обработку данных в словаре!"
   ]
  },
  {
   "cell_type": "code",
   "execution_count": 34,
   "metadata": {},
   "outputs": [],
   "source": [
    "import json\n",
    "import functools\n",
    "\n",
    "class Human_param_json:\n",
    "    \n",
    "    '''\n",
    "    Класс отвечает за создание и обработку словаря с стаитечскими данными по человеку!\n",
    "    \n",
    "    '''\n",
    "    \n",
    "    def __init__(self, name_file ='param_dict.json', ):\n",
    "        '''\n",
    "        Передаем название таблицы!\n",
    "        \n",
    "        '''\n",
    "        \n",
    "        self.name_file = name_file\n",
    "       \n",
    "        \n",
    "    def to_save_json(func):\n",
    "        '''\n",
    "        Запилим декоратор! По записи результат в  json\n",
    "        '''\n",
    "        @functools.wraps(func)\n",
    "        def wrapper(self,*args,**kwargs):\n",
    "            \n",
    "            with open(mode='w+',file=self.name_file) as f:\n",
    "                \n",
    "                result = func(self,*args,**kwargs)\n",
    "                \n",
    "                json.dump(result, f, ensure_ascii=False)\n",
    "        return wrapper        \n",
    "        \n",
    "        \n",
    "    @to_save_json\n",
    "    def create_param_human_dict(self, weight:int,height:int, date_diagnos:str, date_birhtday:str,\n",
    "                           source_data:str, istrument_injection :str,\n",
    "                           instrument_name:str, insulin_food:str,insulin_for_body:str,\n",
    "                           location:str):\n",
    "        '''\n",
    "        Функция создает словарь параметров- Где собираются статичные данные которые редко меняются во времени!\n",
    "        К нему мы будем обращатся! Также словарь можно будет редактирвоать самостоятельно!\n",
    "        \n",
    "        \n",
    "        date_diagnos - 10.10.2018\n",
    "        date_birhtday - 01.01.2018\n",
    "        Приходят строки делаем datetime!\n",
    "\n",
    "        source_data - Источник данных(Dexcom, Frestyle_libre, Глюкометр Acu chek и тд! Прибор который\n",
    "        измеряет сахар в крови!)\n",
    "\n",
    "        istrument_injection - Тип инструмента ввода инсулина(Инсулиновая помпа, шприц ручка, обычный шприц)\n",
    "        instrument_name - Какая конкретно модель! Название помпы или шприц ручки\n",
    "        insulin_food - Указываем какой инсулин идет для компенсации еды - тип и название (Короткий(Новорапид)\n",
    "        location - Описание места обитания Тульская область г. Тула\n",
    "\n",
    "        '''\n",
    "        \n",
    "        # Получаем id_clienta\n",
    "        count_client = self.get_client_id()\n",
    "            \n",
    "\n",
    "        param_dict = {\n",
    "            \n",
    "            # Каждый раз как создаем словрик обновляет client_id\n",
    "            'ID': count_client,\n",
    "            'Вес(кг.)': weight,\n",
    "            'Рост(см.)': height,\n",
    "            'Дата диагноза': date_diagnos,\n",
    "            'День рождения': date_birhtday,\n",
    "            'Источник данных(сахар)': source_data,\n",
    "            'Интсрумент инъекции': istrument_injection,\n",
    "            'Модель инструмента': instrument_name,\n",
    "            'Инсулин под еду': insulin_food,\n",
    "            'Инсулин для организма': insulin_for_body,\n",
    "            'Место Обитания' : location\n",
    "            \n",
    "\n",
    "        }\n",
    "        \n",
    "        # Добавим 1 к count_client и перезапишим файл\n",
    "        with open('client_id.txt','w') as f:\n",
    "            \n",
    "            json.dump({\"count_client\": count_client + 1},f)\n",
    "        \n",
    "        return param_dict\n",
    "\n",
    "## Напишу функцию с помощью которой можно редактировать словарик! \n",
    "## Нужна функция которая открывает словарь и возвращает его\n",
    "\n",
    "    def get_param(self):\n",
    "        '''\n",
    "        Функция открывает считывает словарь с json и передает его\n",
    "        Возвращает словарь\n",
    "        '''\n",
    "        \n",
    "        with open(self.name_file, 'r') as f:\n",
    "\n",
    "            data = json.load(f)\n",
    "            \n",
    "            return data\n",
    "        \n",
    "\n",
    "    def update_human_param_json(self, key_update: str, new_value):\n",
    "\n",
    "        '''\n",
    "        Функция редактирует словарь и меняет значения в лучае чего\n",
    "        Принимиает имя словаря\n",
    "        Ключ по которому меняем значение\n",
    "        Новое значение\n",
    "        '''\n",
    "\n",
    "        data = self.get_param()\n",
    "        if key_update in data:\n",
    "\n",
    "            data[key_update] = new_value\n",
    "                \n",
    "            with open(self.name_file, 'w') as f:\n",
    "                \n",
    "                json.dump(data,f, ensure_ascii=False)\n",
    "            \n",
    "        else: \n",
    "            print('Такой параметр не найден! Повторите запрос!')\n",
    "            \n",
    "    def get_client_id(name_file = 'client_id.txt'):\n",
    "        '''\n",
    "        Функция считывает данные с файла нас интересует номер клиента!\n",
    "        ID - Id клиента\n",
    "\n",
    "        '''\n",
    "\n",
    "        with open('client_id.txt','r') as f:\n",
    "\n",
    "            data = json.load(f)\n",
    "\n",
    "            count = data['count_client']\n",
    "\n",
    "        return count        \n",
    "            \n",
    "    "
   ]
  },
  {
   "cell_type": "code",
   "execution_count": 35,
   "metadata": {},
   "outputs": [],
   "source": [
    "human_param = Human_param_json()"
   ]
  },
  {
   "cell_type": "code",
   "execution_count": 36,
   "metadata": {},
   "outputs": [],
   "source": [
    "human_param.create_param_human_dict(weight=17,height=100,date_birhtday='10/06/2014',date_diagnos='15/08/2017',\n",
    "                        source_data='Freestyle Libre',istrument_injection = 'Инсулиновая ручка',\n",
    "                       instrument_name = 'Novonordisk',insulin_food = 'Короткий(Новорапид)', \n",
    "                        insulin_for_body = 'Длинный(Левимир)',location = 'Тульская область г. Тула')"
   ]
  },
  {
   "cell_type": "code",
   "execution_count": null,
   "metadata": {},
   "outputs": [],
   "source": []
  },
  {
   "cell_type": "code",
   "execution_count": 37,
   "metadata": {},
   "outputs": [
    {
     "data": {
      "text/plain": [
       "{'ID': 2,\n",
       " 'Вес(кг.)': 17,\n",
       " 'Рост(см.)': 100,\n",
       " 'Дата диагноза': '15/08/2017',\n",
       " 'День рождения': '10/06/2014',\n",
       " 'Источник данных(сахар)': 'Freestyle Libre',\n",
       " 'Интсрумент инъекции': 'Инсулиновая ручка',\n",
       " 'Модель инструмента': 'Novonordisk',\n",
       " 'Инсулин под еду': 'Короткий(Новорапид)',\n",
       " 'Инсулин для организма': 'Длинный(Левимир)',\n",
       " 'Место Обитания': 'Тульская область г. Тула'}"
      ]
     },
     "execution_count": 37,
     "metadata": {},
     "output_type": "execute_result"
    }
   ],
   "source": [
    "human_param.get_param()"
   ]
  },
  {
   "cell_type": "code",
   "execution_count": null,
   "metadata": {},
   "outputs": [],
   "source": []
  },
  {
   "cell_type": "code",
   "execution_count": null,
   "metadata": {},
   "outputs": [],
   "source": []
  },
  {
   "cell_type": "code",
   "execution_count": 150,
   "metadata": {},
   "outputs": [],
   "source": [
    "human_param.update_human_param_json(key_update = 'Место Обитания', new_value = 'Луна')"
   ]
  },
  {
   "cell_type": "code",
   "execution_count": null,
   "metadata": {},
   "outputs": [],
   "source": [
    "## Все на этом я заканчиваю с Класовм словарик!"
   ]
  },
  {
   "cell_type": "code",
   "execution_count": null,
   "metadata": {},
   "outputs": [],
   "source": []
  },
  {
   "cell_type": "code",
   "execution_count": null,
   "metadata": {},
   "outputs": [],
   "source": []
  },
  {
   "cell_type": "code",
   "execution_count": null,
   "metadata": {},
   "outputs": [],
   "source": []
  }
 ],
 "metadata": {
  "kernelspec": {
   "display_name": "Python 3",
   "language": "python",
   "name": "python3"
  },
  "language_info": {
   "codemirror_mode": {
    "name": "ipython",
    "version": 3
   },
   "file_extension": ".py",
   "mimetype": "text/x-python",
   "name": "python",
   "nbconvert_exporter": "python",
   "pygments_lexer": "ipython3",
   "version": "3.6.5"
  }
 },
 "nbformat": 4,
 "nbformat_minor": 2
}
