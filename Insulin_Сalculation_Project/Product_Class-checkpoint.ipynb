{
 "cells": [
  {
   "cell_type": "code",
   "execution_count": 2,
   "metadata": {},
   "outputs": [],
   "source": [
    "import bs4 as bs\n",
    "import urllib\n",
    "import urllib.request\n",
    "import re\n",
    "import pandas as pd\n",
    "from IPython.core.interactiveshell import InteractiveShell\n",
    "InteractiveShell.ast_node_interactivity = \"all\""
   ]
  },
  {
   "cell_type": "code",
   "execution_count": 25,
   "metadata": {},
   "outputs": [],
   "source": [
    "import functools\n",
    "from difflib import get_close_matches\n",
    "\n",
    "class Product_Table():\n",
    "    \n",
    "    '''\n",
    "    Этот класс работает с табличкей с продуктами!\n",
    "    \n",
    "    Он может изменять значения в таблице!\n",
    "    Добавлять новые продукты в таблицу!\n",
    "    Выводит информацию о конкретных продуктах или целых категориях\n",
    "    \n",
    "    '''\n",
    "    \n",
    "    def __init__(self,name_table):\n",
    "        \n",
    "        '''\n",
    "        Инициализируем при создание объекта класса DataFrame\n",
    "        '''\n",
    "        # Имя таблицы\n",
    "        self.name_table = name_table\n",
    "#         Откроем Табличку в DataFrame\n",
    "        self.data_table = pd.read_csv(self.name_table)\n",
    "    \n",
    "    \n",
    "    # Запилим декоратор сохранения в csv таблицу\n",
    "    \n",
    "    def to_save_csv(func):\n",
    "        '''\n",
    "        Декоратор! Записывает DattaFrame в csv\n",
    "        \n",
    "        '''\n",
    "        @functools.wraps(func)\n",
    "        def wrapper(self, *args, **kwargs):\n",
    "            \n",
    "            result = func(self,*args, **kwargs)\n",
    "            \n",
    "            result.to_csv(self.name_table,index=False)\n",
    "            \n",
    "        return wrapper   \n",
    "    \n",
    "    @to_save_csv\n",
    "    def add_new_product(self,dict_new_row):\n",
    "        '''\n",
    "        Функция принимает параметры и создает новый датафрейм который можно конкатенировать с \n",
    "        текущей таблицей! Соединяет новый продукт с общей таблицей и пересохраняет таблицу\n",
    "        Принимает: \n",
    "        1. Словарь введеных параметров(Последний параметр это категория продукта)\n",
    "        2. Категория к которой относится продукт\n",
    "        '''\n",
    "\n",
    "\n",
    "        # Сначало проверим есть ли продукт в базе?\n",
    "\n",
    "        name = dict_new_row['Наименование продукта']\n",
    "\n",
    "        if self.search_product_in_table(name):\n",
    "            print('Продукт с таким именем уже есть в базе!')\n",
    "            return \n",
    "\n",
    "        else:    # продукта нет, можно создавать\n",
    "            columns = self.data_table.columns\n",
    "            data_row = pd.DataFrame(columns = columns,data = [dict_new_row])\n",
    "            \n",
    "            # Сделаем список по которому будем пробегатся и вставлять значения из расчета общей таблицы\n",
    "            # В этом списке будут значения которые человек не ввел при добавление продукта\n",
    "            none_columns = columns.difference(dict_new_row.keys())\n",
    "            \n",
    "            # уберем единственный интовый показатель который нужно расчитать отдельно \n",
    "            for col in none_columns.drop('Оценка продукта'):\n",
    "\n",
    "                # Сгрупируй по категории по считай средние значения для пропущенного параметра\n",
    "                data_row[col] = round(self.data_table[self.data_table['Категория продукта'] == dict_new_row['Категория продукта']][col].mean(),1)\n",
    "\n",
    "        # Посчитаем медианную оценку по категории продукта и получим оценку           \n",
    "        data_row['Оценка продукта'] = int(self.data_table[self.data_table['Категория продукта'] == dict_new_row['Категория продукта']]['Оценка продукта'].median())  \n",
    "\n",
    "        # Обновляем продуктовую таблицу и перезаписываем ее\n",
    "        self.data_table = self.data_table.append(data_row,ignore_index=True)\n",
    "\n",
    "       \n",
    "        print('Продукт добавленн!Таблица перезаписанна!')\n",
    "\n",
    "        print(data_row.to_string()) \n",
    "        \n",
    "        return self.data_table\n",
    "        \n",
    "    def search_product_in_table(self, name_product, return_index_prod = False):\n",
    "        '''\n",
    "        Функция открывает таблицу и ищит продукт по названию если он есть то выводит, если нет то пишит что продукта нет\n",
    "        Можно добавлять\n",
    "\n",
    "        '''\n",
    "        for name in self.data_table['Наименование продукта'].values:\n",
    "\n",
    "            if name_product.lower() == name.lower():\n",
    "\n",
    "                print('Продукт есть в базе!')\n",
    "\n",
    "                print(self.data_table[self.data_table['Наименование продукта'] == name].to_string())\n",
    "\n",
    "                # Если стоит задача вернуть и индекс продукта то она будет выполнена!\n",
    "                if return_index_prod:\n",
    "\n",
    "                    return self.data_table[self.data_table['Наименование продукта'] == name].index[0]\n",
    "\n",
    "                return True\n",
    "\n",
    "\n",
    "        print('Продукта с таким именим нет в базе!')\n",
    "        return False    \n",
    "    \n",
    "    def find_product_data(self,name_product):\n",
    "        '''\n",
    "        Функция выведит данные по продукту\n",
    "        Если продукта нет то напишит что нет\n",
    "\n",
    "        '''\n",
    "        if self.search_product_in_table(name_product):\n",
    "\n",
    "            print('Удачного дня!')\n",
    "\n",
    "\n",
    "        else: # продукта нет, можно создавать! Или есть продукт с входящими словами! Возможно нужен он!\n",
    "\n",
    "            print('Пробую найти похожие названия!')\n",
    "            # Применим стороннею библиотеку которая поможет найти похожие слова и фразы!\n",
    "            \n",
    "            list_name = self.data_table['Наименование продукта'].values\n",
    "            \n",
    "            list_close = get_close_matches(word = name_product,possibilities=list_name, n=3,cutoff=0.6)\n",
    "            \n",
    "\n",
    "            for name in list_close:\n",
    "\n",
    "#                 # Беру слово без окончаний и понижаю во избежание ошибок\n",
    "#                 if name_product[:-1].lower() in name.lower():\n",
    "\n",
    "                display(self.data_table[self.data_table['Наименование продукта'] == name])\n",
    "    \n",
    "    @to_save_csv\n",
    "    def delete_product(self,name_product):\n",
    "        '''\n",
    "        Функция принимает имя продукта! И удаляет его из таблицы\n",
    "        после обновляет таблицу!\n",
    "        \n",
    "        '''\n",
    "        \n",
    "        self.data_table.drop(self.data_table[self.data_table['Наименование продукта'] == name_product].index[0],\n",
    "                                                                                         inplace = True)\n",
    "        \n",
    "        print('Продукт удаленн!')\n",
    "        \n",
    "        return self.data_table\n",
    "        \n",
    "      \n",
    "        \n",
    "        \n",
    "    def find_index_product(self, name_product):\n",
    "        '''\n",
    "        Функция ищет объект по имени и выводит его индекс!\n",
    "\n",
    "        '''\n",
    "\n",
    "        # Если продукт есть напичатает что есть и вернет индекс этого продукта\n",
    "        \n",
    "        index = self.search_product_in_table(name_product, return_index_prod = True) \n",
    "        \n",
    "        print('Индекс данного продукта {}.'.format(index))\n",
    "\n",
    "        return index  \n",
    "    \n",
    "    def print_category(self):\n",
    "        '''\n",
    "        Функция выводит на экран все доступные категории продуктов\n",
    "        \n",
    "        '''\n",
    "\n",
    "        display(self.data_table.groupby('Категория продукта').size().sort_values(ascending= False))\n",
    "        \n",
    "    def print_product_on_category(self,category):\n",
    "        '''\n",
    "        Функция выводит все продукты по конкретной категории\n",
    "        \n",
    "        '''\n",
    "        display(self.data_table[self.data_table['Категория продукта'] == category]) \n",
    "       \n",
    "    @to_save_csv\n",
    "    def update_product_table(self, identificator, dict_change):\n",
    "        '''\n",
    "        Функция изменяет любой параметр в объекте!\n",
    "        Принимает Идентификатор - это либо индекс либо имя продукта\n",
    "        dict_change - словарь с значениями которые мы перезаписываем\n",
    "        \n",
    "        '''\n",
    "\n",
    "        # Если Если старший класс инт Нам передали индекс\n",
    "        if isinstance(identificator,int):\n",
    "            \n",
    "            for name_future in dict_change:\n",
    "                \n",
    "                self.data_table.at[identificator, name_future] = dict_change[name_future]\n",
    "                \n",
    "            print('Данные обновленны! Записываю в таблицу')\n",
    "                \n",
    "            display(self.data_table.loc[identificator])\n",
    "            \n",
    "        else:\n",
    "            \n",
    "            # Если попали сюда значит нам передали название продукта\n",
    "            \n",
    "            index = self.find_index_product(identificator)\n",
    "            \n",
    "            # Дальше код просто копируется\n",
    "            \n",
    "            for name_future in dict_change:\n",
    "                \n",
    "                self.data_table.at[index, name_future] = dict_change[name_future]\n",
    "                \n",
    "            print('Данные обновленны! Записываю в таблицу')\n",
    "                \n",
    "            display(self.data_table.loc[index])\n",
    "            \n",
    "        return self.data_table\n",
    "            \n",
    "            \n",
    "    def  get_product(self, name_product: str, new_mass: int):\n",
    "        '''\n",
    "        Функция принимает имя продукта и его массу\n",
    "        Возвращает DataFrame 1ой строкой(Посмотрю может проще словарем)\n",
    "        name_product - название продукта\n",
    "        new_mass- масса продукта\n",
    "        id_meal-идентификатор приема пищи -\n",
    "        '''\n",
    "        new_data = self.data_table[self.data_table['Название продукта'] == name_product]\n",
    "            \n",
    "            \n",
    "        for col in ['Ккал','Белки','Жиры','Углеводы','Глюкоза']:\n",
    "    \n",
    "           \n",
    "            new_data[col] = new_data[col] * new_mass / new_data['Масса(гр.)']\n",
    "        \n",
    "        new_data['Масса(гр.)'] = new_mass\n",
    "        \n",
    "        # Все здесь мы вернули данные По продукту в зависимости от массы!\n",
    "        return new_data\n",
    "        \n",
    "        "
   ]
  },
  {
   "cell_type": "code",
   "execution_count": null,
   "metadata": {},
   "outputs": [],
   "source": []
  },
  {
   "cell_type": "code",
   "execution_count": 14,
   "metadata": {},
   "outputs": [],
   "source": [
    "product_table = Product_Table(name_table='data_table.csv')"
   ]
  },
  {
   "cell_type": "code",
   "execution_count": 15,
   "metadata": {},
   "outputs": [],
   "source": [
    "test_dict = {'Наименование продукта': 'Крогитсы','Ккал':230.57,'Белки': 12.7, 'Жиры': 11.9, \n",
    "             'Углеводы':15.0, 'Категория продукта':'Фастфуд'}"
   ]
  },
  {
   "cell_type": "code",
   "execution_count": 16,
   "metadata": {},
   "outputs": [
    {
     "name": "stdout",
     "output_type": "stream",
     "text": [
      "Продукта с таким именим нет в базе!\n",
      "Продукт добавленн!Таблица перезаписанна!\n",
      "  Наименование продукта  Гликемический индекс    Ккал  Белки  Жиры  Углеводы  Оценка продукта Категория продукта  Глюкоза  Масса(гр.)\n",
      "0              Крогитсы                  88.6  230.57   12.7  11.9      15.0                1            Фастфуд     39.4       100.0\n"
     ]
    }
   ],
   "source": [
    "product_table.add_new_product(test_dict)"
   ]
  },
  {
   "cell_type": "code",
   "execution_count": 17,
   "metadata": {},
   "outputs": [
    {
     "name": "stdout",
     "output_type": "stream",
     "text": [
      "Продукт есть в базе!\n",
      "    Наименование продукта  Гликемический индекс    Ккал  Белки  Жиры  Углеводы  Оценка продукта Категория продукта  Глюкоза  Масса(гр.)\n",
      "251              Крогитсы                  88.6  230.57   12.7  11.9      15.0                1            Фастфуд     39.4       100.0\n",
      "Удачного дня!\n"
     ]
    }
   ],
   "source": [
    "product_table.find_product_data('Крогитсы')"
   ]
  },
  {
   "cell_type": "code",
   "execution_count": 18,
   "metadata": {},
   "outputs": [
    {
     "name": "stdout",
     "output_type": "stream",
     "text": [
      "Продукт есть в базе!\n",
      "    Наименование продукта  Гликемический индекс    Ккал  Белки  Жиры  Углеводы  Оценка продукта Категория продукта  Глюкоза  Масса(гр.)\n",
      "251              Крогитсы                  88.6  230.57   12.7  11.9      15.0                1            Фастфуд     39.4       100.0\n",
      "Индекс данного продукта 251.\n"
     ]
    },
    {
     "data": {
      "text/plain": [
       "251"
      ]
     },
     "execution_count": 18,
     "metadata": {},
     "output_type": "execute_result"
    }
   ],
   "source": [
    "product_table.find_index_product('Крогитсы')"
   ]
  },
  {
   "cell_type": "code",
   "execution_count": 19,
   "metadata": {},
   "outputs": [
    {
     "name": "stdout",
     "output_type": "stream",
     "text": [
      "Продукт есть в базе!\n",
      "    Наименование продукта  Гликемический индекс    Ккал  Белки  Жиры  Углеводы  Оценка продукта Категория продукта  Глюкоза  Масса(гр.)\n",
      "251              Крогитсы                  88.6  230.57   12.7  11.9      15.0                1            Фастфуд     39.4       100.0\n",
      "Удачного дня!\n"
     ]
    }
   ],
   "source": [
    "product_table.find_product_data('Крогитсы')"
   ]
  },
  {
   "cell_type": "code",
   "execution_count": 20,
   "metadata": {},
   "outputs": [
    {
     "data": {
      "text/html": [
       "<div>\n",
       "<style scoped>\n",
       "    .dataframe tbody tr th:only-of-type {\n",
       "        vertical-align: middle;\n",
       "    }\n",
       "\n",
       "    .dataframe tbody tr th {\n",
       "        vertical-align: top;\n",
       "    }\n",
       "\n",
       "    .dataframe thead th {\n",
       "        text-align: right;\n",
       "    }\n",
       "</style>\n",
       "<table border=\"1\" class=\"dataframe\">\n",
       "  <thead>\n",
       "    <tr style=\"text-align: right;\">\n",
       "      <th></th>\n",
       "      <th>Наименование продукта</th>\n",
       "      <th>Гликемический индекс</th>\n",
       "      <th>Ккал</th>\n",
       "      <th>Белки</th>\n",
       "      <th>Жиры</th>\n",
       "      <th>Углеводы</th>\n",
       "      <th>Оценка продукта</th>\n",
       "      <th>Категория продукта</th>\n",
       "      <th>Глюкоза</th>\n",
       "      <th>Масса(гр.)</th>\n",
       "    </tr>\n",
       "  </thead>\n",
       "  <tbody>\n",
       "    <tr>\n",
       "      <th>35</th>\n",
       "      <td>Картофель фри</td>\n",
       "      <td>95.0</td>\n",
       "      <td>266.00</td>\n",
       "      <td>3.8</td>\n",
       "      <td>15.1</td>\n",
       "      <td>29.0</td>\n",
       "      <td>1</td>\n",
       "      <td>Фастфуд</td>\n",
       "      <td>27.550</td>\n",
       "      <td>100.0</td>\n",
       "    </tr>\n",
       "    <tr>\n",
       "      <th>37</th>\n",
       "      <td>Картофельные чипсы</td>\n",
       "      <td>85.0</td>\n",
       "      <td>538.00</td>\n",
       "      <td>2.2</td>\n",
       "      <td>37.6</td>\n",
       "      <td>49.3</td>\n",
       "      <td>1</td>\n",
       "      <td>Фастфуд</td>\n",
       "      <td>41.905</td>\n",
       "      <td>100.0</td>\n",
       "    </tr>\n",
       "    <tr>\n",
       "      <th>246</th>\n",
       "      <td>Шаверма в лаваше (1шт)</td>\n",
       "      <td>70.0</td>\n",
       "      <td>628.00</td>\n",
       "      <td>24.8</td>\n",
       "      <td>29.0</td>\n",
       "      <td>64.0</td>\n",
       "      <td>1</td>\n",
       "      <td>Фастфуд</td>\n",
       "      <td>44.800</td>\n",
       "      <td>100.0</td>\n",
       "    </tr>\n",
       "    <tr>\n",
       "      <th>247</th>\n",
       "      <td>Гамбургер (1 шт)</td>\n",
       "      <td>103.0</td>\n",
       "      <td>486.00</td>\n",
       "      <td>25.8</td>\n",
       "      <td>26.2</td>\n",
       "      <td>36.7</td>\n",
       "      <td>1</td>\n",
       "      <td>Фастфуд</td>\n",
       "      <td>37.801</td>\n",
       "      <td>100.0</td>\n",
       "    </tr>\n",
       "    <tr>\n",
       "      <th>248</th>\n",
       "      <td>Хотдог (1 шт)</td>\n",
       "      <td>90.0</td>\n",
       "      <td>724.00</td>\n",
       "      <td>17.0</td>\n",
       "      <td>36.0</td>\n",
       "      <td>79.0</td>\n",
       "      <td>1</td>\n",
       "      <td>Фастфуд</td>\n",
       "      <td>71.100</td>\n",
       "      <td>100.0</td>\n",
       "    </tr>\n",
       "    <tr>\n",
       "      <th>250</th>\n",
       "      <td>Наггетсы</td>\n",
       "      <td>88.6</td>\n",
       "      <td>230.57</td>\n",
       "      <td>12.7</td>\n",
       "      <td>11.9</td>\n",
       "      <td>15.0</td>\n",
       "      <td>1</td>\n",
       "      <td>Фастфуд</td>\n",
       "      <td>13.290</td>\n",
       "      <td>100.0</td>\n",
       "    </tr>\n",
       "    <tr>\n",
       "      <th>251</th>\n",
       "      <td>Крогитсы</td>\n",
       "      <td>88.6</td>\n",
       "      <td>230.57</td>\n",
       "      <td>12.7</td>\n",
       "      <td>11.9</td>\n",
       "      <td>15.0</td>\n",
       "      <td>1</td>\n",
       "      <td>Фастфуд</td>\n",
       "      <td>39.400</td>\n",
       "      <td>100.0</td>\n",
       "    </tr>\n",
       "  </tbody>\n",
       "</table>\n",
       "</div>"
      ],
      "text/plain": [
       "      Наименование продукта  Гликемический индекс    Ккал  Белки  Жиры  \\\n",
       "35            Картофель фри                  95.0  266.00    3.8  15.1   \n",
       "37       Картофельные чипсы                  85.0  538.00    2.2  37.6   \n",
       "246  Шаверма в лаваше (1шт)                  70.0  628.00   24.8  29.0   \n",
       "247        Гамбургер (1 шт)                 103.0  486.00   25.8  26.2   \n",
       "248           Хотдог (1 шт)                  90.0  724.00   17.0  36.0   \n",
       "250                Наггетсы                  88.6  230.57   12.7  11.9   \n",
       "251                Крогитсы                  88.6  230.57   12.7  11.9   \n",
       "\n",
       "     Углеводы  Оценка продукта Категория продукта  Глюкоза  Масса(гр.)  \n",
       "35       29.0                1            Фастфуд   27.550       100.0  \n",
       "37       49.3                1            Фастфуд   41.905       100.0  \n",
       "246      64.0                1            Фастфуд   44.800       100.0  \n",
       "247      36.7                1            Фастфуд   37.801       100.0  \n",
       "248      79.0                1            Фастфуд   71.100       100.0  \n",
       "250      15.0                1            Фастфуд   13.290       100.0  \n",
       "251      15.0                1            Фастфуд   39.400       100.0  "
      ]
     },
     "metadata": {},
     "output_type": "display_data"
    }
   ],
   "source": [
    "product_table.print_product_on_category(category='Фастфуд')"
   ]
  },
  {
   "cell_type": "code",
   "execution_count": 21,
   "metadata": {},
   "outputs": [
    {
     "data": {
      "text/plain": [
       "Категория продукта\n",
       "Каши и Мучные изделия    40\n",
       "Фрукты и ягоды           39\n",
       "Овощи                    36\n",
       "Рыба или морепродукты    33\n",
       "Мясные продукты          21\n",
       "Молочные продукты        20\n",
       "Напитки                  17\n",
       "Сладости                 10\n",
       "Спиртное                  9\n",
       "Жиры,масла,соусы          9\n",
       "Орехи                     8\n",
       "Фастфуд                   7\n",
       "Яйцо                      3\n",
       "dtype: int64"
      ]
     },
     "metadata": {},
     "output_type": "display_data"
    }
   ],
   "source": [
    "product_table.print_category()"
   ]
  },
  {
   "cell_type": "code",
   "execution_count": 22,
   "metadata": {},
   "outputs": [
    {
     "name": "stdout",
     "output_type": "stream",
     "text": [
      "Продукт есть в базе!\n",
      "    Наименование продукта  Гликемический индекс    Ккал  Белки  Жиры  Углеводы  Оценка продукта Категория продукта  Глюкоза  Масса(гр.)\n",
      "251              Крогитсы                  88.6  230.57   12.7  11.9      15.0                1            Фастфуд     39.4       100.0\n",
      "Индекс данного продукта 251.\n",
      "Данные обновленны! Записываю в таблицу\n"
     ]
    },
    {
     "data": {
      "text/plain": [
       "Наименование продукта    Крогитсы\n",
       "Гликемический индекс         88.6\n",
       "Ккал                       230.57\n",
       "Белки                        12.7\n",
       "Жиры                         11.9\n",
       "Углеводы                      100\n",
       "Оценка продукта                 1\n",
       "Категория продукта        Фастфуд\n",
       "Глюкоза                      39.4\n",
       "Масса(гр.)                    100\n",
       "Name: 251, dtype: object"
      ]
     },
     "metadata": {},
     "output_type": "display_data"
    }
   ],
   "source": [
    "product_table.update_product_table(identificator='Крогитсы',dict_change={'Углеводы': 100})"
   ]
  },
  {
   "cell_type": "code",
   "execution_count": 24,
   "metadata": {},
   "outputs": [
    {
     "name": "stdout",
     "output_type": "stream",
     "text": [
      "\"Карамель, леденцы\",80.0,375.0,0.0,0.1,97.0,1,Сладости,77.6,100.0\r\n",
      "Мармелад,30.0,306.0,0.4,0.1,76.0,1,Сладости,22.8,100.0\r\n",
      "Сахар,70.0,374.0,0.0,0.0,99.8,1,Сладости,69.86,100.0\r\n",
      "Попкорн,85.0,480.0,2.1,20.0,77.6,1,Сладости,65.96,100.0\r\n",
      "Шаверма в лаваше (1шт),70.0,628.0,24.8,29.0,64.0,1,Фастфуд,44.8,100.0\r\n",
      "Гамбургер (1 шт),103.0,486.0,25.8,26.2,36.7,1,Фастфуд,37.801,100.0\r\n",
      "Хотдог (1 шт),90.0,724.0,17.0,36.0,79.0,1,Фастфуд,71.1,100.0\r\n",
      "Морс из Шиповника,40.3,37.2,0.2,3.1,3.4,3,Напитки,1.3702,100.0\r\n",
      "Наггетсы,88.6,230.57,12.7,11.9,15.0,1,Фастфуд,13.29,100.0\r\n",
      "Крогитсы,88.6,230.57,12.7,11.9,100.0,1,Фастфуд,39.4,100.0\r\n"
     ]
    }
   ],
   "source": [
    "!tail data_table.csv"
   ]
  },
  {
   "cell_type": "code",
   "execution_count": 26,
   "metadata": {},
   "outputs": [
    {
     "name": "stdout",
     "output_type": "stream",
     "text": [
      "Продукт удаленн!\n"
     ]
    }
   ],
   "source": [
    "product_table.delete_product(name_product='Крогитсы')"
   ]
  },
  {
   "cell_type": "code",
   "execution_count": 27,
   "metadata": {},
   "outputs": [
    {
     "name": "stdout",
     "output_type": "stream",
     "text": [
      "Халва,70.0,522.0,12.7,29.9,50.6,1,Сладости,35.42,100.0\r\n",
      "\"Карамель, леденцы\",80.0,375.0,0.0,0.1,97.0,1,Сладости,77.6,100.0\r\n",
      "Мармелад,30.0,306.0,0.4,0.1,76.0,1,Сладости,22.8,100.0\r\n",
      "Сахар,70.0,374.0,0.0,0.0,99.8,1,Сладости,69.86,100.0\r\n",
      "Попкорн,85.0,480.0,2.1,20.0,77.6,1,Сладости,65.96,100.0\r\n",
      "Шаверма в лаваше (1шт),70.0,628.0,24.8,29.0,64.0,1,Фастфуд,44.8,100.0\r\n",
      "Гамбургер (1 шт),103.0,486.0,25.8,26.2,36.7,1,Фастфуд,37.801,100.0\r\n",
      "Хотдог (1 шт),90.0,724.0,17.0,36.0,79.0,1,Фастфуд,71.1,100.0\r\n",
      "Морс из Шиповника,40.3,37.2,0.2,3.1,3.4,3,Напитки,1.3702,100.0\r\n",
      "Наггетсы,88.6,230.57,12.7,11.9,15.0,1,Фастфуд,13.29,100.0\r\n"
     ]
    }
   ],
   "source": [
    "!tail data_table.csv"
   ]
  },
  {
   "cell_type": "code",
   "execution_count": null,
   "metadata": {},
   "outputs": [],
   "source": [
    "# Все методы работают можно переходить к 3 таблице!"
   ]
  },
  {
   "cell_type": "markdown",
   "metadata": {},
   "source": [
    "## Ладно пока я оставлю все так! Оттачивать алгоритм времени нет! Завтра я начну составлять таблицу с уколами! и попробую запустить модельку!"
   ]
  },
  {
   "cell_type": "markdown",
   "metadata": {},
   "source": [
    "Итак пропишу какие признаки я вижу в 3 таблице предназначенной для обучения модельки!\n",
    "\n",
    "Id клиента\n",
    "текущий сахар\n",
    "Временные показатели - стаитистические данные\n",
    "Доза инсулина\n",
    "ID приема пищи или это будет завтрак обед полдник и ужин!\n",
    "Сахар по которому будем обучатся пропишу и его тоде покачто\n",
    "Показатели продукта в соответсвие с массой!\n",
    "ТОесть мне нужно будет делать предсказание на датафрейме из несколкьих строк и суммировать результат!\n",
    "Получается что я должен идентифицировать записи Нужно сделать какйото интервал для установления идентификатора\n",
    "Или если мы \n"
   ]
  },
  {
   "cell_type": "code",
   "execution_count": null,
   "metadata": {},
   "outputs": [],
   "source": []
  },
  {
   "cell_type": "code",
   "execution_count": null,
   "metadata": {},
   "outputs": [],
   "source": []
  },
  {
   "cell_type": "code",
   "execution_count": null,
   "metadata": {},
   "outputs": [],
   "source": []
  },
  {
   "cell_type": "code",
   "execution_count": null,
   "metadata": {},
   "outputs": [],
   "source": []
  },
  {
   "cell_type": "code",
   "execution_count": null,
   "metadata": {},
   "outputs": [],
   "source": []
  },
  {
   "cell_type": "code",
   "execution_count": null,
   "metadata": {},
   "outputs": [],
   "source": []
  },
  {
   "cell_type": "code",
   "execution_count": null,
   "metadata": {},
   "outputs": [],
   "source": []
  },
  {
   "cell_type": "code",
   "execution_count": null,
   "metadata": {},
   "outputs": [],
   "source": []
  },
  {
   "cell_type": "code",
   "execution_count": null,
   "metadata": {},
   "outputs": [],
   "source": []
  },
  {
   "cell_type": "code",
   "execution_count": null,
   "metadata": {},
   "outputs": [],
   "source": []
  },
  {
   "cell_type": "code",
   "execution_count": null,
   "metadata": {},
   "outputs": [],
   "source": []
  },
  {
   "cell_type": "code",
   "execution_count": null,
   "metadata": {},
   "outputs": [],
   "source": []
  },
  {
   "cell_type": "code",
   "execution_count": null,
   "metadata": {},
   "outputs": [],
   "source": []
  },
  {
   "cell_type": "code",
   "execution_count": null,
   "metadata": {},
   "outputs": [],
   "source": []
  },
  {
   "cell_type": "code",
   "execution_count": null,
   "metadata": {},
   "outputs": [],
   "source": []
  },
  {
   "cell_type": "code",
   "execution_count": null,
   "metadata": {},
   "outputs": [],
   "source": []
  },
  {
   "cell_type": "code",
   "execution_count": null,
   "metadata": {},
   "outputs": [],
   "source": []
  },
  {
   "cell_type": "code",
   "execution_count": null,
   "metadata": {},
   "outputs": [],
   "source": []
  },
  {
   "cell_type": "code",
   "execution_count": null,
   "metadata": {},
   "outputs": [],
   "source": []
  },
  {
   "cell_type": "code",
   "execution_count": null,
   "metadata": {},
   "outputs": [],
   "source": []
  },
  {
   "cell_type": "code",
   "execution_count": null,
   "metadata": {},
   "outputs": [],
   "source": []
  },
  {
   "cell_type": "code",
   "execution_count": null,
   "metadata": {},
   "outputs": [],
   "source": []
  },
  {
   "cell_type": "code",
   "execution_count": null,
   "metadata": {},
   "outputs": [],
   "source": []
  },
  {
   "cell_type": "code",
   "execution_count": null,
   "metadata": {},
   "outputs": [],
   "source": []
  },
  {
   "cell_type": "code",
   "execution_count": null,
   "metadata": {},
   "outputs": [],
   "source": []
  },
  {
   "cell_type": "code",
   "execution_count": null,
   "metadata": {},
   "outputs": [],
   "source": []
  },
  {
   "cell_type": "code",
   "execution_count": null,
   "metadata": {},
   "outputs": [],
   "source": []
  },
  {
   "cell_type": "code",
   "execution_count": null,
   "metadata": {},
   "outputs": [],
   "source": []
  },
  {
   "cell_type": "code",
   "execution_count": null,
   "metadata": {},
   "outputs": [],
   "source": []
  },
  {
   "cell_type": "code",
   "execution_count": null,
   "metadata": {},
   "outputs": [],
   "source": []
  },
  {
   "cell_type": "code",
   "execution_count": null,
   "metadata": {},
   "outputs": [],
   "source": []
  },
  {
   "cell_type": "code",
   "execution_count": null,
   "metadata": {},
   "outputs": [],
   "source": []
  },
  {
   "cell_type": "code",
   "execution_count": null,
   "metadata": {},
   "outputs": [],
   "source": []
  },
  {
   "cell_type": "code",
   "execution_count": null,
   "metadata": {},
   "outputs": [],
   "source": []
  },
  {
   "cell_type": "code",
   "execution_count": null,
   "metadata": {},
   "outputs": [],
   "source": []
  },
  {
   "cell_type": "code",
   "execution_count": null,
   "metadata": {},
   "outputs": [],
   "source": []
  },
  {
   "cell_type": "code",
   "execution_count": null,
   "metadata": {},
   "outputs": [],
   "source": []
  },
  {
   "cell_type": "code",
   "execution_count": null,
   "metadata": {},
   "outputs": [],
   "source": []
  },
  {
   "cell_type": "code",
   "execution_count": null,
   "metadata": {},
   "outputs": [],
   "source": []
  },
  {
   "cell_type": "code",
   "execution_count": null,
   "metadata": {},
   "outputs": [],
   "source": []
  },
  {
   "cell_type": "code",
   "execution_count": null,
   "metadata": {},
   "outputs": [],
   "source": []
  },
  {
   "cell_type": "code",
   "execution_count": null,
   "metadata": {},
   "outputs": [],
   "source": []
  },
  {
   "cell_type": "code",
   "execution_count": null,
   "metadata": {},
   "outputs": [],
   "source": []
  },
  {
   "cell_type": "code",
   "execution_count": null,
   "metadata": {},
   "outputs": [],
   "source": []
  },
  {
   "cell_type": "code",
   "execution_count": null,
   "metadata": {},
   "outputs": [],
   "source": []
  },
  {
   "cell_type": "code",
   "execution_count": null,
   "metadata": {},
   "outputs": [],
   "source": []
  },
  {
   "cell_type": "code",
   "execution_count": null,
   "metadata": {},
   "outputs": [],
   "source": []
  },
  {
   "cell_type": "code",
   "execution_count": 254,
   "metadata": {},
   "outputs": [
    {
     "name": "stdout",
     "output_type": "stream",
     "text": [
      "Продукт удаленн!\n"
     ]
    }
   ],
   "source": [
    "product_table.delete_product(name_product='Шмагеттсы')"
   ]
  },
  {
   "cell_type": "code",
   "execution_count": null,
   "metadata": {},
   "outputs": [],
   "source": []
  },
  {
   "cell_type": "code",
   "execution_count": 255,
   "metadata": {},
   "outputs": [
    {
     "name": "stdout",
     "output_type": "stream",
     "text": [
      "Халва,70.0,522.0,12.7,29.9,50.6,1,Сладости,35.42,100.0\r\n",
      "\"Карамель, леденцы\",80.0,375.0,0.0,0.1,97.0,1,Сладости,77.6,100.0\r\n",
      "Мармелад,30.0,306.0,0.4,0.1,76.0,1,Сладости,22.8,100.0\r\n",
      "Сахар,70.0,374.0,0.0,0.0,99.8,1,Сладости,69.86,100.0\r\n",
      "Попкорн,85.0,480.0,2.1,20.0,77.6,1,Сладости,65.96,100.0\r\n",
      "Шаверма в лаваше (1шт),70.0,628.0,24.8,29.0,64.0,1,Фастфуд,44.8,100.0\r\n",
      "Гамбургер (1 шт),103.0,486.0,25.8,26.2,36.7,1,Фастфуд,37.801,100.0\r\n",
      "Хотдог (1 шт),90.0,724.0,17.0,36.0,79.0,1,Фастфуд,71.1,100.0\r\n",
      "Морс из Шиповника,40.3,37.2,0.2,3.1,3.4,3,Напитки,1.3702,100.0\r\n",
      "Наггетсы,88.6,230.57,12.7,11.9,15.0,1,Фастфуд,13.29,100.0\r\n"
     ]
    }
   ],
   "source": [
    "!tail data_table.csv"
   ]
  },
  {
   "cell_type": "code",
   "execution_count": null,
   "metadata": {},
   "outputs": [],
   "source": []
  },
  {
   "cell_type": "markdown",
   "metadata": {},
   "source": [
    "## Думаю что с продуктовой таблицей можно заканчивать! Пока этих функций будет достаточно! Следующий этам создать таблицу инъекционных показателей\n",
    "\n",
    "    Нужно определится с форматом этой таблицы! Проще всего сделать просто эти фьючи и добавить суммарные показатели по продуктам за прием пищи! Но тогда я потеряю много полезной информации а именно какие продукты были употребленны и как они повлияли на сахар! или сделать расчет модели для каждого продукта отдельно, и потом клиенту выдать результат инъекции! Таким образом я сохраню данные по приему пищи!\n",
    "    Но есть интересный нюанс не будет учтен комулетивный эффект в сочетании нескольких продуктов! И Как модель будет понимать что она ошиблась?\n",
    "\n",
    "\n",
    "    1. Текущий сахар(Источник данных)\n",
    "    2. Место инъекции\n",
    "    3. Инструмент инъекции\n",
    "    4. Время Укола(Сделать ряд категориальных признаков)\n",
    "    5. Параметры человека(Рост, Вес, Возраст, Стаж, Болезнь(Температура тела))\n",
    "    6. Планируемая физическая активность\n",
    "    7."
   ]
  },
  {
   "cell_type": "code",
   "execution_count": 128,
   "metadata": {},
   "outputs": [],
   "source": [
    "data_new1 = pd.read_csv('data_table.csv')"
   ]
  },
  {
   "cell_type": "code",
   "execution_count": 145,
   "metadata": {},
   "outputs": [],
   "source": [
    "# Добавлю новый признак гликемическая нагрузка в таблицу!"
   ]
  },
  {
   "cell_type": "code",
   "execution_count": 130,
   "metadata": {},
   "outputs": [
    {
     "data": {
      "text/html": [
       "<div>\n",
       "<style scoped>\n",
       "    .dataframe tbody tr th:only-of-type {\n",
       "        vertical-align: middle;\n",
       "    }\n",
       "\n",
       "    .dataframe tbody tr th {\n",
       "        vertical-align: top;\n",
       "    }\n",
       "\n",
       "    .dataframe thead th {\n",
       "        text-align: right;\n",
       "    }\n",
       "</style>\n",
       "<table border=\"1\" class=\"dataframe\">\n",
       "  <thead>\n",
       "    <tr style=\"text-align: right;\">\n",
       "      <th></th>\n",
       "      <th>Наименование продукта</th>\n",
       "      <th>Гликемический индекс</th>\n",
       "      <th>Ккал</th>\n",
       "      <th>Белки</th>\n",
       "      <th>Жиры</th>\n",
       "      <th>Углеводы</th>\n",
       "      <th>Оценка продукта</th>\n",
       "      <th>Категория продукта</th>\n",
       "    </tr>\n",
       "  </thead>\n",
       "  <tbody>\n",
       "    <tr>\n",
       "      <th>0</th>\n",
       "      <td>Укроп</td>\n",
       "      <td>15.0</td>\n",
       "      <td>31.0</td>\n",
       "      <td>2.5</td>\n",
       "      <td>0.5</td>\n",
       "      <td>4.1</td>\n",
       "      <td>5</td>\n",
       "      <td>Овощи</td>\n",
       "    </tr>\n",
       "    <tr>\n",
       "      <th>1</th>\n",
       "      <td>Салат листовой</td>\n",
       "      <td>10.0</td>\n",
       "      <td>17.0</td>\n",
       "      <td>1.5</td>\n",
       "      <td>0.2</td>\n",
       "      <td>2.3</td>\n",
       "      <td>5</td>\n",
       "      <td>Овощи</td>\n",
       "    </tr>\n",
       "    <tr>\n",
       "      <th>2</th>\n",
       "      <td>Помидоры свежие</td>\n",
       "      <td>10.0</td>\n",
       "      <td>23.0</td>\n",
       "      <td>1.1</td>\n",
       "      <td>0.2</td>\n",
       "      <td>3.8</td>\n",
       "      <td>5</td>\n",
       "      <td>Овощи</td>\n",
       "    </tr>\n",
       "    <tr>\n",
       "      <th>3</th>\n",
       "      <td>Огурцы свежие</td>\n",
       "      <td>20.0</td>\n",
       "      <td>13.0</td>\n",
       "      <td>0.6</td>\n",
       "      <td>0.1</td>\n",
       "      <td>1.8</td>\n",
       "      <td>5</td>\n",
       "      <td>Овощи</td>\n",
       "    </tr>\n",
       "    <tr>\n",
       "      <th>4</th>\n",
       "      <td>Лук репчатый сырой</td>\n",
       "      <td>10.0</td>\n",
       "      <td>48.0</td>\n",
       "      <td>1.4</td>\n",
       "      <td>0.0</td>\n",
       "      <td>10.4</td>\n",
       "      <td>5</td>\n",
       "      <td>Овощи</td>\n",
       "    </tr>\n",
       "  </tbody>\n",
       "</table>\n",
       "</div>"
      ],
      "text/plain": [
       "  Наименование продукта  Гликемический индекс  Ккал  Белки  Жиры  Углеводы  \\\n",
       "0                 Укроп                  15.0  31.0    2.5   0.5       4.1   \n",
       "1        Салат листовой                  10.0  17.0    1.5   0.2       2.3   \n",
       "2       Помидоры свежие                  10.0  23.0    1.1   0.2       3.8   \n",
       "3         Огурцы свежие                  20.0  13.0    0.6   0.1       1.8   \n",
       "4    Лук репчатый сырой                  10.0  48.0    1.4   0.0      10.4   \n",
       "\n",
       "   Оценка продукта Категория продукта  \n",
       "0                5              Овощи  \n",
       "1                5              Овощи  \n",
       "2                5              Овощи  \n",
       "3                5              Овощи  \n",
       "4                5              Овощи  "
      ]
     },
     "execution_count": 130,
     "metadata": {},
     "output_type": "execute_result"
    }
   ],
   "source": [
    "data_new1.head()"
   ]
  },
  {
   "cell_type": "code",
   "execution_count": 202,
   "metadata": {},
   "outputs": [
    {
     "data": {
      "text/plain": [
       "Категория продукта\n",
       "Сладости                 48.912400\n",
       "Фастфуд                  39.407667\n",
       "Каши и Мучные изделия    31.207675\n",
       "Фрукты и ягоды            8.219103\n",
       "Молочные продукты         4.710600\n",
       "Напитки                   3.763835\n",
       "Орехи                     3.558125\n",
       "Овощи                     3.265472\n",
       "Спиртное                  3.028444\n",
       "Жиры,масла,соусы          0.823667\n",
       "Мясные продукты           0.592333\n",
       "Рыба или морепродукты     0.362606\n",
       "Яйцо                      0.226000\n",
       "Name: Глюкоза, dtype: float64"
      ]
     },
     "execution_count": 202,
     "metadata": {},
     "output_type": "execute_result"
    }
   ],
   "source": [
    "data_new1.groupby('Категория продукта')['Глюкоза'].mean().sort_values(ascending=False)"
   ]
  },
  {
   "cell_type": "code",
   "execution_count": null,
   "metadata": {},
   "outputs": [],
   "source": []
  },
  {
   "cell_type": "markdown",
   "metadata": {},
   "source": [
    "### Ладно пойду пока по такому пути! Сперва мне нужно подтянуть данные с таблицы продуктов! \n",
    "Скажем пришел запрос на 150г морковки. Тоесть с продуктовой таблицы я возвращаю строку но все параметры изменены в соответсвии с массой потребляемой морковки!"
   ]
  },
  {
   "cell_type": "markdown",
   "metadata": {},
   "source": [
    "### Этот метод готов! Теперь нужно сделать класс в персональной таблице и чтобы он тоже возвращал строку! Потом я все это дело конкатенирую и объеденяю в 1 табличку"
   ]
  },
  {
   "cell_type": "code",
   "execution_count": null,
   "metadata": {},
   "outputs": [],
   "source": []
  },
  {
   "cell_type": "code",
   "execution_count": null,
   "metadata": {},
   "outputs": [],
   "source": []
  },
  {
   "cell_type": "code",
   "execution_count": null,
   "metadata": {},
   "outputs": [],
   "source": []
  },
  {
   "cell_type": "code",
   "execution_count": null,
   "metadata": {},
   "outputs": [],
   "source": []
  }
 ],
 "metadata": {
  "kernelspec": {
   "display_name": "Python 3",
   "language": "python",
   "name": "python3"
  },
  "language_info": {
   "codemirror_mode": {
    "name": "ipython",
    "version": 3
   },
   "file_extension": ".py",
   "mimetype": "text/x-python",
   "name": "python",
   "nbconvert_exporter": "python",
   "pygments_lexer": "ipython3",
   "version": "3.6.5"
  }
 },
 "nbformat": 4,
 "nbformat_minor": 2
}
