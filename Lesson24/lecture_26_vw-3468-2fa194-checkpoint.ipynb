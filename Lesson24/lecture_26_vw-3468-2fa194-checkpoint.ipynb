{
 "cells": [
  {
   "cell_type": "markdown",
   "metadata": {},
   "source": [
    "<img src='otus.png'>"
   ]
  },
  {
   "cell_type": "markdown",
   "metadata": {},
   "source": [
    "# VowpalVabbit\n",
    "\n",
    "<img src=https://cdn.dribbble.com/users/261617/screenshots/3146111/vw-dribbble_1x.png>"
   ]
  },
  {
   "cell_type": "markdown",
   "metadata": {},
   "source": [
    "[Vowpal Wabbit](https://github.com/JohnLangford/vowpal_wabbit/wiki) - это библиотека с большим набором оптимизированных итеративных алгоритмов машинного обучения\n",
    "\n",
    "В этом туториале мы применим эту библиотеку с целью решить задачу классификации с помощью логистической регрессии.\n",
    "\n",
    "**Туториалы:**\n",
    "https://github.com/JohnLangford/vowpal_wabbit/wiki/Tutorial\n",
    "\n",
    "**Туториал для сборки в unix:**\n",
    "https://github.com/JohnLangford/vowpal_wabbit/wiki/v7.0_tutorial.pdf"
   ]
  },
  {
   "cell_type": "markdown",
   "metadata": {},
   "source": [
    "# Загрузка и подготовка данных"
   ]
  },
  {
   "cell_type": "markdown",
   "metadata": {},
   "source": [
    "https://www.kaggle.com/mlg-ulb/creditcardfraud/data"
   ]
  },
  {
   "cell_type": "code",
   "execution_count": 1,
   "metadata": {},
   "outputs": [],
   "source": [
    "import requests\n",
    "import shutil\n",
    "import pandas as pd\n",
    "from sklearn.model_selection import train_test_split\n",
    "from sklearn.metrics import roc_auc_score, roc_curve, precision_recall_curve, precision_recall_fscore_support\n",
    "import matplotlib.pyplot as plt\n",
    "from tqdm import tqdm_notebook\n",
    "\n",
    "%matplotlib inline\n",
    "\n",
    "plt.style.use('ggplot')\n",
    "plt.rcParams['figure.figsize'] = (12,8)\n"
   ]
  },
  {
   "cell_type": "code",
   "execution_count": 2,
   "metadata": {},
   "outputs": [],
   "source": [
    "fn = 'creditcard.csv.zip'\n",
    "\n",
    "fn_out_train = 'creditcard_vw_format_train'\n",
    "fn_out_test = 'creditcard_vw_format_test'\n",
    "fn_out_validation = 'creditcard_vw_format_validation'\n",
    "\n",
    "fn_out_train_weight = 'creditcard_vw_format_train_weight'\n",
    "fn_out_test_weight = 'creditcard_vw_format_test_weight'\n",
    "fn_out_validation_weight = 'creditcard_vw_format_validation_weight'"
   ]
  },
  {
   "cell_type": "code",
   "execution_count": 3,
   "metadata": {},
   "outputs": [],
   "source": [
    "df = pd.read_csv(fn, compression='zip', header=0, sep=',', quotechar='\"')"
   ]
  },
  {
   "cell_type": "code",
   "execution_count": 4,
   "metadata": {},
   "outputs": [],
   "source": [
    "df['Class'] = df['Class']* 2 - 1"
   ]
  },
  {
   "cell_type": "code",
   "execution_count": 5,
   "metadata": {},
   "outputs": [
    {
     "data": {
      "text/html": [
       "<div>\n",
       "<style scoped>\n",
       "    .dataframe tbody tr th:only-of-type {\n",
       "        vertical-align: middle;\n",
       "    }\n",
       "\n",
       "    .dataframe tbody tr th {\n",
       "        vertical-align: top;\n",
       "    }\n",
       "\n",
       "    .dataframe thead th {\n",
       "        text-align: right;\n",
       "    }\n",
       "</style>\n",
       "<table border=\"1\" class=\"dataframe\">\n",
       "  <thead>\n",
       "    <tr style=\"text-align: right;\">\n",
       "      <th></th>\n",
       "      <th>Time</th>\n",
       "      <th>V1</th>\n",
       "      <th>V2</th>\n",
       "      <th>V3</th>\n",
       "      <th>V4</th>\n",
       "      <th>V5</th>\n",
       "      <th>V6</th>\n",
       "      <th>V7</th>\n",
       "      <th>V8</th>\n",
       "      <th>V9</th>\n",
       "      <th>...</th>\n",
       "      <th>V21</th>\n",
       "      <th>V22</th>\n",
       "      <th>V23</th>\n",
       "      <th>V24</th>\n",
       "      <th>V25</th>\n",
       "      <th>V26</th>\n",
       "      <th>V27</th>\n",
       "      <th>V28</th>\n",
       "      <th>Amount</th>\n",
       "      <th>Class</th>\n",
       "    </tr>\n",
       "  </thead>\n",
       "  <tbody>\n",
       "    <tr>\n",
       "      <th>0</th>\n",
       "      <td>0.0</td>\n",
       "      <td>-1.359807</td>\n",
       "      <td>-0.072781</td>\n",
       "      <td>2.536347</td>\n",
       "      <td>1.378155</td>\n",
       "      <td>-0.338321</td>\n",
       "      <td>0.462388</td>\n",
       "      <td>0.239599</td>\n",
       "      <td>0.098698</td>\n",
       "      <td>0.363787</td>\n",
       "      <td>...</td>\n",
       "      <td>-0.018307</td>\n",
       "      <td>0.277838</td>\n",
       "      <td>-0.110474</td>\n",
       "      <td>0.066928</td>\n",
       "      <td>0.128539</td>\n",
       "      <td>-0.189115</td>\n",
       "      <td>0.133558</td>\n",
       "      <td>-0.021053</td>\n",
       "      <td>149.62</td>\n",
       "      <td>-1</td>\n",
       "    </tr>\n",
       "    <tr>\n",
       "      <th>1</th>\n",
       "      <td>0.0</td>\n",
       "      <td>1.191857</td>\n",
       "      <td>0.266151</td>\n",
       "      <td>0.166480</td>\n",
       "      <td>0.448154</td>\n",
       "      <td>0.060018</td>\n",
       "      <td>-0.082361</td>\n",
       "      <td>-0.078803</td>\n",
       "      <td>0.085102</td>\n",
       "      <td>-0.255425</td>\n",
       "      <td>...</td>\n",
       "      <td>-0.225775</td>\n",
       "      <td>-0.638672</td>\n",
       "      <td>0.101288</td>\n",
       "      <td>-0.339846</td>\n",
       "      <td>0.167170</td>\n",
       "      <td>0.125895</td>\n",
       "      <td>-0.008983</td>\n",
       "      <td>0.014724</td>\n",
       "      <td>2.69</td>\n",
       "      <td>-1</td>\n",
       "    </tr>\n",
       "    <tr>\n",
       "      <th>2</th>\n",
       "      <td>1.0</td>\n",
       "      <td>-1.358354</td>\n",
       "      <td>-1.340163</td>\n",
       "      <td>1.773209</td>\n",
       "      <td>0.379780</td>\n",
       "      <td>-0.503198</td>\n",
       "      <td>1.800499</td>\n",
       "      <td>0.791461</td>\n",
       "      <td>0.247676</td>\n",
       "      <td>-1.514654</td>\n",
       "      <td>...</td>\n",
       "      <td>0.247998</td>\n",
       "      <td>0.771679</td>\n",
       "      <td>0.909412</td>\n",
       "      <td>-0.689281</td>\n",
       "      <td>-0.327642</td>\n",
       "      <td>-0.139097</td>\n",
       "      <td>-0.055353</td>\n",
       "      <td>-0.059752</td>\n",
       "      <td>378.66</td>\n",
       "      <td>-1</td>\n",
       "    </tr>\n",
       "    <tr>\n",
       "      <th>3</th>\n",
       "      <td>1.0</td>\n",
       "      <td>-0.966272</td>\n",
       "      <td>-0.185226</td>\n",
       "      <td>1.792993</td>\n",
       "      <td>-0.863291</td>\n",
       "      <td>-0.010309</td>\n",
       "      <td>1.247203</td>\n",
       "      <td>0.237609</td>\n",
       "      <td>0.377436</td>\n",
       "      <td>-1.387024</td>\n",
       "      <td>...</td>\n",
       "      <td>-0.108300</td>\n",
       "      <td>0.005274</td>\n",
       "      <td>-0.190321</td>\n",
       "      <td>-1.175575</td>\n",
       "      <td>0.647376</td>\n",
       "      <td>-0.221929</td>\n",
       "      <td>0.062723</td>\n",
       "      <td>0.061458</td>\n",
       "      <td>123.50</td>\n",
       "      <td>-1</td>\n",
       "    </tr>\n",
       "    <tr>\n",
       "      <th>4</th>\n",
       "      <td>2.0</td>\n",
       "      <td>-1.158233</td>\n",
       "      <td>0.877737</td>\n",
       "      <td>1.548718</td>\n",
       "      <td>0.403034</td>\n",
       "      <td>-0.407193</td>\n",
       "      <td>0.095921</td>\n",
       "      <td>0.592941</td>\n",
       "      <td>-0.270533</td>\n",
       "      <td>0.817739</td>\n",
       "      <td>...</td>\n",
       "      <td>-0.009431</td>\n",
       "      <td>0.798278</td>\n",
       "      <td>-0.137458</td>\n",
       "      <td>0.141267</td>\n",
       "      <td>-0.206010</td>\n",
       "      <td>0.502292</td>\n",
       "      <td>0.219422</td>\n",
       "      <td>0.215153</td>\n",
       "      <td>69.99</td>\n",
       "      <td>-1</td>\n",
       "    </tr>\n",
       "  </tbody>\n",
       "</table>\n",
       "<p>5 rows × 31 columns</p>\n",
       "</div>"
      ],
      "text/plain": [
       "   Time        V1        V2        V3        V4        V5        V6        V7  \\\n",
       "0   0.0 -1.359807 -0.072781  2.536347  1.378155 -0.338321  0.462388  0.239599   \n",
       "1   0.0  1.191857  0.266151  0.166480  0.448154  0.060018 -0.082361 -0.078803   \n",
       "2   1.0 -1.358354 -1.340163  1.773209  0.379780 -0.503198  1.800499  0.791461   \n",
       "3   1.0 -0.966272 -0.185226  1.792993 -0.863291 -0.010309  1.247203  0.237609   \n",
       "4   2.0 -1.158233  0.877737  1.548718  0.403034 -0.407193  0.095921  0.592941   \n",
       "\n",
       "         V8        V9  ...         V21       V22       V23       V24  \\\n",
       "0  0.098698  0.363787  ...   -0.018307  0.277838 -0.110474  0.066928   \n",
       "1  0.085102 -0.255425  ...   -0.225775 -0.638672  0.101288 -0.339846   \n",
       "2  0.247676 -1.514654  ...    0.247998  0.771679  0.909412 -0.689281   \n",
       "3  0.377436 -1.387024  ...   -0.108300  0.005274 -0.190321 -1.175575   \n",
       "4 -0.270533  0.817739  ...   -0.009431  0.798278 -0.137458  0.141267   \n",
       "\n",
       "        V25       V26       V27       V28  Amount  Class  \n",
       "0  0.128539 -0.189115  0.133558 -0.021053  149.62     -1  \n",
       "1  0.167170  0.125895 -0.008983  0.014724    2.69     -1  \n",
       "2 -0.327642 -0.139097 -0.055353 -0.059752  378.66     -1  \n",
       "3  0.647376 -0.221929  0.062723  0.061458  123.50     -1  \n",
       "4 -0.206010  0.502292  0.219422  0.215153   69.99     -1  \n",
       "\n",
       "[5 rows x 31 columns]"
      ]
     },
     "execution_count": 5,
     "metadata": {},
     "output_type": "execute_result"
    }
   ],
   "source": [
    "df.head()"
   ]
  },
  {
   "cell_type": "code",
   "execution_count": 7,
   "metadata": {},
   "outputs": [
    {
     "data": {
      "text/plain": [
       "-1    284315\n",
       " 1       492\n",
       "Name: Class, dtype: int64"
      ]
     },
     "execution_count": 7,
     "metadata": {},
     "output_type": "execute_result"
    }
   ],
   "source": [
    "df['Class'].value_counts()"
   ]
  },
  {
   "cell_type": "code",
   "execution_count": 19,
   "metadata": {
    "scrolled": true
   },
   "outputs": [
    {
     "name": "stdout",
     "output_type": "stream",
     "text": [
      "<class 'pandas.core.frame.DataFrame'>\n",
      "RangeIndex: 284807 entries, 0 to 284806\n",
      "Data columns (total 31 columns):\n",
      "Time      284807 non-null float64\n",
      "V1        284807 non-null float64\n",
      "V2        284807 non-null float64\n",
      "V3        284807 non-null float64\n",
      "V4        284807 non-null float64\n",
      "V5        284807 non-null float64\n",
      "V6        284807 non-null float64\n",
      "V7        284807 non-null float64\n",
      "V8        284807 non-null float64\n",
      "V9        284807 non-null float64\n",
      "V10       284807 non-null float64\n",
      "V11       284807 non-null float64\n",
      "V12       284807 non-null float64\n",
      "V13       284807 non-null float64\n",
      "V14       284807 non-null float64\n",
      "V15       284807 non-null float64\n",
      "V16       284807 non-null float64\n",
      "V17       284807 non-null float64\n",
      "V18       284807 non-null float64\n",
      "V19       284807 non-null float64\n",
      "V20       284807 non-null float64\n",
      "V21       284807 non-null float64\n",
      "V22       284807 non-null float64\n",
      "V23       284807 non-null float64\n",
      "V24       284807 non-null float64\n",
      "V25       284807 non-null float64\n",
      "V26       284807 non-null float64\n",
      "V27       284807 non-null float64\n",
      "V28       284807 non-null float64\n",
      "Amount    284807 non-null float64\n",
      "Class     284807 non-null int64\n",
      "dtypes: float64(30), int64(1)\n",
      "memory usage: 67.4 MB\n"
     ]
    }
   ],
   "source": [
    "df.info()"
   ]
  },
  {
   "cell_type": "code",
   "execution_count": 20,
   "metadata": {},
   "outputs": [
    {
     "data": {
      "text/html": [
       "<div>\n",
       "<style scoped>\n",
       "    .dataframe tbody tr th:only-of-type {\n",
       "        vertical-align: middle;\n",
       "    }\n",
       "\n",
       "    .dataframe tbody tr th {\n",
       "        vertical-align: top;\n",
       "    }\n",
       "\n",
       "    .dataframe thead th {\n",
       "        text-align: right;\n",
       "    }\n",
       "</style>\n",
       "<table border=\"1\" class=\"dataframe\">\n",
       "  <thead>\n",
       "    <tr style=\"text-align: right;\">\n",
       "      <th></th>\n",
       "      <th>Time</th>\n",
       "      <th>V1</th>\n",
       "      <th>V2</th>\n",
       "      <th>V3</th>\n",
       "      <th>V4</th>\n",
       "      <th>V5</th>\n",
       "      <th>V6</th>\n",
       "      <th>V7</th>\n",
       "      <th>V8</th>\n",
       "      <th>V9</th>\n",
       "      <th>...</th>\n",
       "      <th>V21</th>\n",
       "      <th>V22</th>\n",
       "      <th>V23</th>\n",
       "      <th>V24</th>\n",
       "      <th>V25</th>\n",
       "      <th>V26</th>\n",
       "      <th>V27</th>\n",
       "      <th>V28</th>\n",
       "      <th>Amount</th>\n",
       "      <th>Class</th>\n",
       "    </tr>\n",
       "  </thead>\n",
       "  <tbody>\n",
       "    <tr>\n",
       "      <th>count</th>\n",
       "      <td>284807.000000</td>\n",
       "      <td>2.848070e+05</td>\n",
       "      <td>2.848070e+05</td>\n",
       "      <td>2.848070e+05</td>\n",
       "      <td>2.848070e+05</td>\n",
       "      <td>2.848070e+05</td>\n",
       "      <td>2.848070e+05</td>\n",
       "      <td>2.848070e+05</td>\n",
       "      <td>2.848070e+05</td>\n",
       "      <td>2.848070e+05</td>\n",
       "      <td>...</td>\n",
       "      <td>2.848070e+05</td>\n",
       "      <td>2.848070e+05</td>\n",
       "      <td>2.848070e+05</td>\n",
       "      <td>2.848070e+05</td>\n",
       "      <td>2.848070e+05</td>\n",
       "      <td>2.848070e+05</td>\n",
       "      <td>2.848070e+05</td>\n",
       "      <td>2.848070e+05</td>\n",
       "      <td>284807.000000</td>\n",
       "      <td>284807.000000</td>\n",
       "    </tr>\n",
       "    <tr>\n",
       "      <th>mean</th>\n",
       "      <td>94813.859575</td>\n",
       "      <td>1.165980e-15</td>\n",
       "      <td>3.416908e-16</td>\n",
       "      <td>-1.373150e-15</td>\n",
       "      <td>2.086869e-15</td>\n",
       "      <td>9.604066e-16</td>\n",
       "      <td>1.490107e-15</td>\n",
       "      <td>-5.556467e-16</td>\n",
       "      <td>1.177556e-16</td>\n",
       "      <td>-2.406455e-15</td>\n",
       "      <td>...</td>\n",
       "      <td>1.656562e-16</td>\n",
       "      <td>-3.444850e-16</td>\n",
       "      <td>2.578648e-16</td>\n",
       "      <td>4.471968e-15</td>\n",
       "      <td>5.340915e-16</td>\n",
       "      <td>1.687098e-15</td>\n",
       "      <td>-3.666453e-16</td>\n",
       "      <td>-1.220404e-16</td>\n",
       "      <td>88.349619</td>\n",
       "      <td>-0.996545</td>\n",
       "    </tr>\n",
       "    <tr>\n",
       "      <th>std</th>\n",
       "      <td>47488.145955</td>\n",
       "      <td>1.958696e+00</td>\n",
       "      <td>1.651309e+00</td>\n",
       "      <td>1.516255e+00</td>\n",
       "      <td>1.415869e+00</td>\n",
       "      <td>1.380247e+00</td>\n",
       "      <td>1.332271e+00</td>\n",
       "      <td>1.237094e+00</td>\n",
       "      <td>1.194353e+00</td>\n",
       "      <td>1.098632e+00</td>\n",
       "      <td>...</td>\n",
       "      <td>7.345240e-01</td>\n",
       "      <td>7.257016e-01</td>\n",
       "      <td>6.244603e-01</td>\n",
       "      <td>6.056471e-01</td>\n",
       "      <td>5.212781e-01</td>\n",
       "      <td>4.822270e-01</td>\n",
       "      <td>4.036325e-01</td>\n",
       "      <td>3.300833e-01</td>\n",
       "      <td>250.120109</td>\n",
       "      <td>0.083054</td>\n",
       "    </tr>\n",
       "    <tr>\n",
       "      <th>min</th>\n",
       "      <td>0.000000</td>\n",
       "      <td>-5.640751e+01</td>\n",
       "      <td>-7.271573e+01</td>\n",
       "      <td>-4.832559e+01</td>\n",
       "      <td>-5.683171e+00</td>\n",
       "      <td>-1.137433e+02</td>\n",
       "      <td>-2.616051e+01</td>\n",
       "      <td>-4.355724e+01</td>\n",
       "      <td>-7.321672e+01</td>\n",
       "      <td>-1.343407e+01</td>\n",
       "      <td>...</td>\n",
       "      <td>-3.483038e+01</td>\n",
       "      <td>-1.093314e+01</td>\n",
       "      <td>-4.480774e+01</td>\n",
       "      <td>-2.836627e+00</td>\n",
       "      <td>-1.029540e+01</td>\n",
       "      <td>-2.604551e+00</td>\n",
       "      <td>-2.256568e+01</td>\n",
       "      <td>-1.543008e+01</td>\n",
       "      <td>0.000000</td>\n",
       "      <td>-1.000000</td>\n",
       "    </tr>\n",
       "    <tr>\n",
       "      <th>25%</th>\n",
       "      <td>54201.500000</td>\n",
       "      <td>-9.203734e-01</td>\n",
       "      <td>-5.985499e-01</td>\n",
       "      <td>-8.903648e-01</td>\n",
       "      <td>-8.486401e-01</td>\n",
       "      <td>-6.915971e-01</td>\n",
       "      <td>-7.682956e-01</td>\n",
       "      <td>-5.540759e-01</td>\n",
       "      <td>-2.086297e-01</td>\n",
       "      <td>-6.430976e-01</td>\n",
       "      <td>...</td>\n",
       "      <td>-2.283949e-01</td>\n",
       "      <td>-5.423504e-01</td>\n",
       "      <td>-1.618463e-01</td>\n",
       "      <td>-3.545861e-01</td>\n",
       "      <td>-3.171451e-01</td>\n",
       "      <td>-3.269839e-01</td>\n",
       "      <td>-7.083953e-02</td>\n",
       "      <td>-5.295979e-02</td>\n",
       "      <td>5.600000</td>\n",
       "      <td>-1.000000</td>\n",
       "    </tr>\n",
       "    <tr>\n",
       "      <th>50%</th>\n",
       "      <td>84692.000000</td>\n",
       "      <td>1.810880e-02</td>\n",
       "      <td>6.548556e-02</td>\n",
       "      <td>1.798463e-01</td>\n",
       "      <td>-1.984653e-02</td>\n",
       "      <td>-5.433583e-02</td>\n",
       "      <td>-2.741871e-01</td>\n",
       "      <td>4.010308e-02</td>\n",
       "      <td>2.235804e-02</td>\n",
       "      <td>-5.142873e-02</td>\n",
       "      <td>...</td>\n",
       "      <td>-2.945017e-02</td>\n",
       "      <td>6.781943e-03</td>\n",
       "      <td>-1.119293e-02</td>\n",
       "      <td>4.097606e-02</td>\n",
       "      <td>1.659350e-02</td>\n",
       "      <td>-5.213911e-02</td>\n",
       "      <td>1.342146e-03</td>\n",
       "      <td>1.124383e-02</td>\n",
       "      <td>22.000000</td>\n",
       "      <td>-1.000000</td>\n",
       "    </tr>\n",
       "    <tr>\n",
       "      <th>75%</th>\n",
       "      <td>139320.500000</td>\n",
       "      <td>1.315642e+00</td>\n",
       "      <td>8.037239e-01</td>\n",
       "      <td>1.027196e+00</td>\n",
       "      <td>7.433413e-01</td>\n",
       "      <td>6.119264e-01</td>\n",
       "      <td>3.985649e-01</td>\n",
       "      <td>5.704361e-01</td>\n",
       "      <td>3.273459e-01</td>\n",
       "      <td>5.971390e-01</td>\n",
       "      <td>...</td>\n",
       "      <td>1.863772e-01</td>\n",
       "      <td>5.285536e-01</td>\n",
       "      <td>1.476421e-01</td>\n",
       "      <td>4.395266e-01</td>\n",
       "      <td>3.507156e-01</td>\n",
       "      <td>2.409522e-01</td>\n",
       "      <td>9.104512e-02</td>\n",
       "      <td>7.827995e-02</td>\n",
       "      <td>77.165000</td>\n",
       "      <td>-1.000000</td>\n",
       "    </tr>\n",
       "    <tr>\n",
       "      <th>max</th>\n",
       "      <td>172792.000000</td>\n",
       "      <td>2.454930e+00</td>\n",
       "      <td>2.205773e+01</td>\n",
       "      <td>9.382558e+00</td>\n",
       "      <td>1.687534e+01</td>\n",
       "      <td>3.480167e+01</td>\n",
       "      <td>7.330163e+01</td>\n",
       "      <td>1.205895e+02</td>\n",
       "      <td>2.000721e+01</td>\n",
       "      <td>1.559499e+01</td>\n",
       "      <td>...</td>\n",
       "      <td>2.720284e+01</td>\n",
       "      <td>1.050309e+01</td>\n",
       "      <td>2.252841e+01</td>\n",
       "      <td>4.584549e+00</td>\n",
       "      <td>7.519589e+00</td>\n",
       "      <td>3.517346e+00</td>\n",
       "      <td>3.161220e+01</td>\n",
       "      <td>3.384781e+01</td>\n",
       "      <td>25691.160000</td>\n",
       "      <td>1.000000</td>\n",
       "    </tr>\n",
       "  </tbody>\n",
       "</table>\n",
       "<p>8 rows × 31 columns</p>\n",
       "</div>"
      ],
      "text/plain": [
       "                Time            V1            V2            V3            V4  \\\n",
       "count  284807.000000  2.848070e+05  2.848070e+05  2.848070e+05  2.848070e+05   \n",
       "mean    94813.859575  1.165980e-15  3.416908e-16 -1.373150e-15  2.086869e-15   \n",
       "std     47488.145955  1.958696e+00  1.651309e+00  1.516255e+00  1.415869e+00   \n",
       "min         0.000000 -5.640751e+01 -7.271573e+01 -4.832559e+01 -5.683171e+00   \n",
       "25%     54201.500000 -9.203734e-01 -5.985499e-01 -8.903648e-01 -8.486401e-01   \n",
       "50%     84692.000000  1.810880e-02  6.548556e-02  1.798463e-01 -1.984653e-02   \n",
       "75%    139320.500000  1.315642e+00  8.037239e-01  1.027196e+00  7.433413e-01   \n",
       "max    172792.000000  2.454930e+00  2.205773e+01  9.382558e+00  1.687534e+01   \n",
       "\n",
       "                 V5            V6            V7            V8            V9  \\\n",
       "count  2.848070e+05  2.848070e+05  2.848070e+05  2.848070e+05  2.848070e+05   \n",
       "mean   9.604066e-16  1.490107e-15 -5.556467e-16  1.177556e-16 -2.406455e-15   \n",
       "std    1.380247e+00  1.332271e+00  1.237094e+00  1.194353e+00  1.098632e+00   \n",
       "min   -1.137433e+02 -2.616051e+01 -4.355724e+01 -7.321672e+01 -1.343407e+01   \n",
       "25%   -6.915971e-01 -7.682956e-01 -5.540759e-01 -2.086297e-01 -6.430976e-01   \n",
       "50%   -5.433583e-02 -2.741871e-01  4.010308e-02  2.235804e-02 -5.142873e-02   \n",
       "75%    6.119264e-01  3.985649e-01  5.704361e-01  3.273459e-01  5.971390e-01   \n",
       "max    3.480167e+01  7.330163e+01  1.205895e+02  2.000721e+01  1.559499e+01   \n",
       "\n",
       "           ...                 V21           V22           V23           V24  \\\n",
       "count      ...        2.848070e+05  2.848070e+05  2.848070e+05  2.848070e+05   \n",
       "mean       ...        1.656562e-16 -3.444850e-16  2.578648e-16  4.471968e-15   \n",
       "std        ...        7.345240e-01  7.257016e-01  6.244603e-01  6.056471e-01   \n",
       "min        ...       -3.483038e+01 -1.093314e+01 -4.480774e+01 -2.836627e+00   \n",
       "25%        ...       -2.283949e-01 -5.423504e-01 -1.618463e-01 -3.545861e-01   \n",
       "50%        ...       -2.945017e-02  6.781943e-03 -1.119293e-02  4.097606e-02   \n",
       "75%        ...        1.863772e-01  5.285536e-01  1.476421e-01  4.395266e-01   \n",
       "max        ...        2.720284e+01  1.050309e+01  2.252841e+01  4.584549e+00   \n",
       "\n",
       "                V25           V26           V27           V28         Amount  \\\n",
       "count  2.848070e+05  2.848070e+05  2.848070e+05  2.848070e+05  284807.000000   \n",
       "mean   5.340915e-16  1.687098e-15 -3.666453e-16 -1.220404e-16      88.349619   \n",
       "std    5.212781e-01  4.822270e-01  4.036325e-01  3.300833e-01     250.120109   \n",
       "min   -1.029540e+01 -2.604551e+00 -2.256568e+01 -1.543008e+01       0.000000   \n",
       "25%   -3.171451e-01 -3.269839e-01 -7.083953e-02 -5.295979e-02       5.600000   \n",
       "50%    1.659350e-02 -5.213911e-02  1.342146e-03  1.124383e-02      22.000000   \n",
       "75%    3.507156e-01  2.409522e-01  9.104512e-02  7.827995e-02      77.165000   \n",
       "max    7.519589e+00  3.517346e+00  3.161220e+01  3.384781e+01   25691.160000   \n",
       "\n",
       "               Class  \n",
       "count  284807.000000  \n",
       "mean       -0.996545  \n",
       "std         0.083054  \n",
       "min        -1.000000  \n",
       "25%        -1.000000  \n",
       "50%        -1.000000  \n",
       "75%        -1.000000  \n",
       "max         1.000000  \n",
       "\n",
       "[8 rows x 31 columns]"
      ]
     },
     "execution_count": 20,
     "metadata": {},
     "output_type": "execute_result"
    }
   ],
   "source": [
    "df.describe()"
   ]
  },
  {
   "cell_type": "markdown",
   "metadata": {},
   "source": [
    "**Time** - the seconds elapsed between each transaction and the first transaction in the dataset. Numeric  \n",
    "**V1** - First principle component Numeric  \n",
    "**V2** - Second principle component Numeric  \n",
    "**V3** - Third principle component Numeric  \n",
    "...  \n",
    "**V28** - Twenty-eighth principle component Numeric  \n",
    "**Amount** - Transaction Amount Numeric   \n",
    "**Class** - The actual classification classes Numeric  "
   ]
  },
  {
   "cell_type": "markdown",
   "metadata": {},
   "source": [
    "The datasets contains transactions made by credit cards in September 2013 by european cardholders. This dataset presents transactions that occurred in two days, where we have 492 frauds out of 284,807 transactions. The dataset is highly unbalanced, the positive class (frauds) account for 0.172% of all transactions.\n",
    "\n",
    "It contains only numerical input variables which are the result of a PCA transformation. Unfortunately, due to confidentiality issues, we cannot provide the original features and more background information about the data. Features V1, V2, ... V28 are the principal components obtained with PCA, the only features which have not been transformed with PCA are 'Time' and 'Amount'. Feature 'Time' contains the seconds elapsed between each transaction and the first transaction in the dataset. The feature 'Amount' is the transaction Amount, this feature can be used for example-dependant cost-senstive learning. Feature 'Class' is the response variable and it takes value 1 in case of fraud and 0 otherwise.\n",
    "\n",
    "Given the class imbalance ratio, we recommend measuring the accuracy using the Area Under the Precision-Recall Curve (AUPRC). Confusion matrix accuracy is not meaningful for unbalanced classification.\n",
    "\n",
    "The dataset has been collected and analysed during a research collaboration of Worldline and the Machine Learning Group (http://mlg.ulb.ac.be) of ULB (Université Libre de Bruxelles) on big data mining and fraud detection. More details on current and past projects on related topics are available on http://mlg.ulb.ac.be/BruFence and http://mlg.ulb.ac.be/ARTML\n",
    "\n",
    "Please cite: Andrea Dal Pozzolo, Olivier Caelen, Reid A. Johnson and Gianluca Bontempi. Calibrating Probability with Undersampling for Unbalanced Classification. In Symposium on Computational Intelligence and Data Mining (CIDM), IEEE, 2015"
   ]
  },
  {
   "cell_type": "markdown",
   "metadata": {},
   "source": [
    "# Версия vw\n",
    "\n",
    "От версии будет зависеть набор доступных опций"
   ]
  },
  {
   "cell_type": "code",
   "execution_count": 8,
   "metadata": {},
   "outputs": [
    {
     "name": "stdout",
     "output_type": "stream",
     "text": [
      "8.5.0\r\n"
     ]
    }
   ],
   "source": [
    "!vw --version"
   ]
  },
  {
   "cell_type": "markdown",
   "metadata": {},
   "source": [
    "# Формат данных\n",
    "\n",
    "[Описание формата](https://github.com/JohnLangford/vowpal_wabbit/wiki/Input-format)\n"
   ]
  },
  {
   "cell_type": "markdown",
   "metadata": {},
   "source": [
    "[Label] [Importance] [Base] [Tag]|Namespace Features |Namespace Features ... |Namespace Features  \n",
    "Namespace=String[:Value]   \n",
    "Features=(String[:Value] )*  \n",
    "\n",
    "* Label - метка, которую предсказываем, действительное число\n",
    "* Importance  - вес примера, для дисбаланса классов\n",
    "* важны пробелы вокруг символа |\n"
   ]
  },
  {
   "cell_type": "markdown",
   "metadata": {},
   "source": [
    "Например:"
   ]
  },
  {
   "cell_type": "markdown",
   "metadata": {},
   "source": [
    "1 1.0 zebra|MetricFeatures:3.28 height:1.5 length:2.0 |Says black with white stripes |OtherFeatures NumberOfLegs:4.0 HasStripes"
   ]
  },
  {
   "cell_type": "markdown",
   "metadata": {},
   "source": [
    "Приведем данные к этому формату"
   ]
  },
  {
   "cell_type": "code",
   "execution_count": 11,
   "metadata": {},
   "outputs": [],
   "source": [
    "skip_columns = {'Class', 'Index', 'Time'}\n",
    "\n",
    "def df_to_file(file_name, data):\n",
    "    with open(file_name, 'w') as f:\n",
    "        for row in tqdm_notebook(data.itertuples()):\n",
    "            features = row._asdict()\n",
    "            features_formatted = ' '.join('{}:{}'.format(k, v) for k, v in features.iteritems() if k not in skip_columns)\n",
    "            f.write('{} | {}\\n'.format(row.Class, features_formatted))"
   ]
  },
  {
   "cell_type": "code",
   "execution_count": 12,
   "metadata": {},
   "outputs": [],
   "source": [
    "train, test = train_test_split(df, test_size=0.2)\n",
    "train, validation = train_test_split(train, test_size=0.2)"
   ]
  },
  {
   "cell_type": "code",
   "execution_count": 13,
   "metadata": {},
   "outputs": [
    {
     "data": {
      "application/vnd.jupyter.widget-view+json": {
       "model_id": "c8d5b9d5a04d42349012a564b13d5429",
       "version_major": 2,
       "version_minor": 0
      },
      "text/html": [
       "<p>Failed to display Jupyter Widget of type <code>HBox</code>.</p>\n",
       "<p>\n",
       "  If you're reading this message in the Jupyter Notebook or JupyterLab Notebook, it may mean\n",
       "  that the widgets JavaScript is still loading. If this message persists, it\n",
       "  likely means that the widgets JavaScript library is either not installed or\n",
       "  not enabled. See the <a href=\"https://ipywidgets.readthedocs.io/en/stable/user_install.html\">Jupyter\n",
       "  Widgets Documentation</a> for setup instructions.\n",
       "</p>\n",
       "<p>\n",
       "  If you're reading this message in another frontend (for example, a static\n",
       "  rendering on GitHub or <a href=\"https://nbviewer.jupyter.org/\">NBViewer</a>),\n",
       "  it may mean that your frontend doesn't currently support widgets.\n",
       "</p>\n"
      ],
      "text/plain": [
       "HBox(children=(IntProgress(value=1, bar_style=u'info', max=1), HTML(value=u'')))"
      ]
     },
     "metadata": {},
     "output_type": "display_data"
    },
    {
     "name": "stdout",
     "output_type": "stream",
     "text": [
      "\n"
     ]
    },
    {
     "data": {
      "application/vnd.jupyter.widget-view+json": {
       "model_id": "6625a90541924f38bfd81906497ea4d4",
       "version_major": 2,
       "version_minor": 0
      },
      "text/html": [
       "<p>Failed to display Jupyter Widget of type <code>HBox</code>.</p>\n",
       "<p>\n",
       "  If you're reading this message in the Jupyter Notebook or JupyterLab Notebook, it may mean\n",
       "  that the widgets JavaScript is still loading. If this message persists, it\n",
       "  likely means that the widgets JavaScript library is either not installed or\n",
       "  not enabled. See the <a href=\"https://ipywidgets.readthedocs.io/en/stable/user_install.html\">Jupyter\n",
       "  Widgets Documentation</a> for setup instructions.\n",
       "</p>\n",
       "<p>\n",
       "  If you're reading this message in another frontend (for example, a static\n",
       "  rendering on GitHub or <a href=\"https://nbviewer.jupyter.org/\">NBViewer</a>),\n",
       "  it may mean that your frontend doesn't currently support widgets.\n",
       "</p>\n"
      ],
      "text/plain": [
       "HBox(children=(IntProgress(value=1, bar_style=u'info', max=1), HTML(value=u'')))"
      ]
     },
     "metadata": {},
     "output_type": "display_data"
    },
    {
     "name": "stdout",
     "output_type": "stream",
     "text": [
      "\n"
     ]
    }
   ],
   "source": [
    "df_to_file(fn_out_train, train)\n",
    "df_to_file(fn_out_validation, validation)"
   ]
  },
  {
   "cell_type": "code",
   "execution_count": 14,
   "metadata": {},
   "outputs": [
    {
     "name": "stdout",
     "output_type": "stream",
     "text": [
      "182276 creditcard_vw_format_train\n",
      "-1 | V1:-3.08710615037 V2:2.71719247899 V3:-0.951059344373 V4:-2.71851692585 V5:-0.529290824215 V6:-1.76761205807 V7:0.389135761993 V8:0.786636761602 V9:0.974414523853 V10:0.380733458181 V11:-1.01907601373 V12:0.625973437572 V13:0.140280528054 V14:0.391067193766 V15:-0.4972164997 V16:0.374108425158 V17:-0.440924340907 V18:-0.908378954782 V19:-1.01271165664 V20:0.388996090161 V21:-0.346074734907 V22:-0.867620506142 V23:0.0896446566408 V24:0.0306081301379 V25:0.24563780822 V26:0.348512314947 V27:0.0466338084613 V28:0.11602752388 Amount:1.0\n",
      "-1 | V1:1.88666062231 V2:-0.252554896022 V3:-2.87326888087 V4:0.167324042462 V5:1.11485835525 V6:-0.754733862191 V7:1.02938962765 V8:-0.409576762362 V9:-0.12609501648 V10:0.18271573144 V11:0.474788677804 V12:0.5609099078 V13:-0.592995763777 V14:1.1638863863 V15:-0.64503653573 V16:-0.708631516095 V17:-0.455423206012 V18:0.136556904559 V19:0.457467826543 V20:0.00100943711584 V21:0.385472707864 V22:0.971341175272 V23:-0.351394428844 V24:0.295045607098 V25:0.803414302446 V26:0.0901833431751 V27:-0.10904885306 V28:-0.0727304365615 Amount:128.47\n",
      "45569 creditcard_vw_format_validation\n"
     ]
    }
   ],
   "source": [
    "%%sh -s \"$fn_out_train\" \"$fn_out_validation\" \"$fn_out_test\"\n",
    "\n",
    "wc -l $1\n",
    "head -2 $1\n",
    "wc -l $2"
   ]
  },
  {
   "cell_type": "markdown",
   "metadata": {},
   "source": [
    "# Команды"
   ]
  },
  {
   "cell_type": "markdown",
   "metadata": {},
   "source": [
    "[Описание аргументов](https://github.com/JohnLangford/vowpal_wabbit/wiki/Command-line-arguments)"
   ]
  },
  {
   "cell_type": "markdown",
   "metadata": {},
   "source": [
    "## Обучение"
   ]
  },
  {
   "cell_type": "markdown",
   "metadata": {},
   "source": [
    "В vw реализован модифицированный градиентный спуск: http://www.cs.cmu.edu/~sross1/publications/uai13_normalized.pdf"
   ]
  },
  {
   "cell_type": "markdown",
   "metadata": {},
   "source": [
    "By default, VW predictions are in the range [-50, +50] (theoretically any real number, but VW truncates it to [-50, +50]). To convert them to {-1, +1}, use --binary – positive predictions are simply mapped to +1, negative to -1. To convert them to [0, +1], use --link=logistic. This uses the logistic function 1/(1 + exp(-x)). If you use --loss_function=logistic, you can interpret the numbers as probabilities of the +1 class. So to output the probability prediction to a file use --loss_function=logistic --link=logistic -p probs.txt.\n",
    "\n",
    "(For completeness, to convert the predictions to [-1, +1], use --link=glf1. This uses formula 2/(1 + exp(-x)) - 1, i.e. generalized logistic function with limits of 1.)"
   ]
  },
  {
   "cell_type": "code",
   "execution_count": 15,
   "metadata": {},
   "outputs": [
    {
     "name": "stderr",
     "output_type": "stream",
     "text": [
      "final_regressor = ./simple_model.vw\n",
      "Num weight bits = 18\n",
      "learning rate = 0.5\n",
      "initial_t = 0\n",
      "power_t = 0.5\n",
      "decay_learning_rate = 0.95\n",
      "creating cache_file = ./data.cache\n",
      "Reading datafile = creditcard_vw_format_train\n",
      "num sources = 1\n",
      "average  since         example        example  current  current  current\n",
      "loss     last          counter         weight    label  predict features\n",
      "0.693147 0.693147            1            1.0  -1.0000   0.0000       30\n",
      "0.346957 0.000768            2            2.0  -1.0000  -0.9985       30\n",
      "0.625568 0.904178            4            4.0  -1.0000  -0.0603       30\n",
      "0.591586 0.557603            8            8.0  -1.0000   0.0574       30\n",
      "0.547666 0.503746           16           16.0  -1.0000  -0.1756       30\n",
      "0.450647 0.353627           32           32.0  -1.0000  -0.4578       30\n",
      "0.351939 0.253231           64           64.0  -1.0000  -0.6656       30\n",
      "0.260310 0.168681          128          128.0  -1.0000  -0.8508       30\n",
      "0.165897 0.071485          256          256.0  -1.0000  -0.9725       30\n",
      "0.107461 0.049024          512          512.0  -1.0000  -0.9373       30\n",
      "0.071192 0.034924         1024         1024.0  -1.0000  -0.9692       30\n",
      "0.041011 0.010829         2048         2048.0  -1.0000  -0.9858       30\n",
      "0.027106 0.013202         4096         4096.0  -1.0000  -0.9909       30\n",
      "0.016948 0.006790         8192         8192.0  -1.0000  -0.9952       30\n",
      "0.012679 0.008410        16384        16384.0  -1.0000  -0.9972       30\n",
      "0.009353 0.006027        32768        32768.0  -1.0000  -0.9985       30\n",
      "0.006930 0.004508        65536        65536.0  -1.0000  -0.9981       30\n",
      "0.006377 0.005824       131072       131072.0  -1.0000  -0.9982       30\n",
      "0.005501 0.004624       262144       262144.0  -1.0000  -0.9992       30\n",
      "0.004979 0.004457       524288       524288.0  -1.0000  -0.9998       30\n",
      "\n",
      "finished run\n",
      "number of examples per pass = 182276\n",
      "passes used = 4\n",
      "weighted example sum = 729104.000000\n",
      "weighted label sum = -726464.000000\n",
      "average loss = 0.004824\n",
      "best constant = -6.312373\n",
      "best constant's loss = 0.013240\n",
      "total feature number = 21868464\n"
     ]
    }
   ],
   "source": [
    "%%sh -s \"$fn_out_train\" \"$fn_out_validation\" \"$fn_out_test\"\n",
    "\n",
    "vw -d $1 -f ./simple_model.vw \\\n",
    "--sgd --adaptive --normalized --invariant \\\n",
    "--loss_function=logistic --link=glf1 -l 0.5  --decay_learning_rate 0.95 \\\n",
    "--passes 4 --holdout_off --cache_file ./data.cache\n",
    "\n",
    "rm ./data.cache"
   ]
  },
  {
   "cell_type": "markdown",
   "metadata": {},
   "source": [
    "## Предсказание"
   ]
  },
  {
   "cell_type": "code",
   "execution_count": 16,
   "metadata": {},
   "outputs": [
    {
     "name": "stdout",
     "output_type": "stream",
     "text": [
      "args =  --initial_regressor ./simple_model.vw --testonly -d creditcard_vw_format_validation --link=glf1 --loss_function logistic --predictions ./simple_model_predictions.vw --invert_hash ./simple_model.vw.read --bit_precision 18 --hash_seed 0 --link glf1\n"
     ]
    },
    {
     "name": "stderr",
     "output_type": "stream",
     "text": [
      "only testing\n",
      "predictions = ./simple_model_predictions.vw\n",
      "ignoring duplicate option: '--link glf1'\n",
      "Num weight bits = 18\n",
      "learning rate = 0.5\n",
      "initial_t = 0\n",
      "power_t = 0.5\n",
      "using no cache\n",
      "Reading datafile = creditcard_vw_format_validation\n",
      "num sources = 1\n",
      "average  since         example        example  current  current  current\n",
      "loss     last          counter         weight    label  predict features\n",
      "0.000043 0.000043            1            1.0  -1.0000  -0.9999       30\n",
      "0.000060 0.000078            2            2.0  -1.0000  -0.9998       30\n",
      "0.000073 0.000086            4            4.0  -1.0000  -0.9998       30\n",
      "0.000102 0.000131            8            8.0  -1.0000  -0.9993       30\n",
      "0.000128 0.000154           16           16.0  -1.0000  -0.9987       30\n",
      "0.000283 0.000438           32           32.0  -1.0000  -0.9999       30\n",
      "0.000224 0.000165           64           64.0  -1.0000  -0.9998       30\n",
      "0.000210 0.000196          128          128.0  -1.0000  -0.9998       30\n",
      "0.000193 0.000176          256          256.0  -1.0000  -0.9999       30\n",
      "0.000184 0.000175          512          512.0  -1.0000  -0.9999       30\n",
      "0.000245 0.000306         1024         1024.0  -1.0000  -0.9999       30\n",
      "0.001650 0.003054         2048         2048.0  -1.0000  -0.9999       30\n",
      "0.003133 0.004617         4096         4096.0  -1.0000  -0.9997       30\n",
      "0.002269 0.001404         8192         8192.0  -1.0000  -0.9926       30\n",
      "0.002797 0.003324        16384        16384.0  -1.0000  -0.9997       30\n",
      "0.003847 0.004898        32768        32768.0  -1.0000  -0.9998       30\n",
      "\n",
      "finished run\n",
      "number of examples per pass = 45569\n",
      "passes used = 1\n",
      "weighted example sum = 45569.000000\n",
      "weighted label sum = -45425.000000\n",
      "average loss = 0.003901\n",
      "best constant = -6.448736\n",
      "best constant's loss = 0.011770\n",
      "total feature number = 1366779\n"
     ]
    }
   ],
   "source": [
    "%%sh -s \"$fn_out_train\" \"$fn_out_validation\" \"$fn_out_test\"\n",
    "\n",
    "vw -i ./simple_model.vw -t -d $2 --link=glf1 --loss_function=logistic -p ./simple_model_predictions.vw \\\n",
    "--invert_hash ./simple_model.vw.read"
   ]
  },
  {
   "cell_type": "code",
   "execution_count": 28,
   "metadata": {},
   "outputs": [
    {
     "name": "stdout",
     "output_type": "stream",
     "text": [
      "Version 8.5.0\r\n",
      "Id \r\n",
      "Min label:-50\r\n",
      "Max label:50\r\n",
      "bits:18\r\n",
      "lda:0\r\n",
      "0 ngram:\r\n",
      "0 skip:\r\n",
      "options: --hash_seed 0 --link identity --link identity --link identity --link identity --link identity --link glf1 --link glf1 --link glf1 --link glf1 --link glf1 --link glf1 --link glf1 --link glf1 --link glf1 --link glf1 --link glf1 --link glf1\r\n",
      "Checksum: 3169948494\r\n",
      ":0\r\n",
      "Amount:48761:2.51366e-05\r\n",
      "Constant:116060:-9.03765\r\n",
      "V1:142282:0.00795652\r\n",
      "V10:95918:-0.201901\r\n",
      "V11:133386:0.404895\r\n",
      "V12:151819:-0.286079\r\n",
      "V13:39141:-0.467561\r\n",
      "V14:78068:-0.411875\r\n",
      "V15:249132:-0.155082\r\n",
      "V16:253701:-0.186487\r\n",
      "V17:52164:-0.0855553\r\n",
      "V18:228631:0.0761536\r\n",
      "V19:175012:0.0523159\r\n",
      "V2:40106:-0.0037955\r\n",
      "V20:68712:0.023576\r\n",
      "V21:150712:0.0629754\r\n",
      "V22:180395:0.248886\r\n",
      "V23:191497:-0.0343592\r\n",
      "V24:19755:-0.217227\r\n",
      "V25:130312:-0.248832\r\n",
      "V26:72606:-0.0111497\r\n",
      "V27:115973:-0.0308343\r\n",
      "V28:260221:-0.00806349\r\n",
      "V3:35450:-0.0405164\r\n",
      "V4:189175:0.446728\r\n",
      "V5:94135:0.0238077\r\n",
      "V6:24536:-0.0268139\r\n",
      "V7:33330:-0.00351464\r\n",
      "V8:36993:-0.0749918\r\n",
      "V9:148873:-0.244587\r\n"
     ]
    }
   ],
   "source": [
    "!cat ./simple_model.vw.read"
   ]
  },
  {
   "cell_type": "markdown",
   "metadata": {},
   "source": [
    "## Оценка качества"
   ]
  },
  {
   "cell_type": "code",
   "execution_count": 22,
   "metadata": {},
   "outputs": [
    {
     "data": {
      "image/png": "[encoded data removed]",
      "text/plain": [
       "<matplotlib.figure.Figure at 0x7fe3404ab690>"
      ]
     },
     "metadata": {},
     "output_type": "display_data"
    }
   ],
   "source": [
    "with open('simple_model_predictions.vw') as pred_file:\n",
    "    validation_prediction = [(float(label) +1)/2. for label in pred_file.readlines()]\n",
    "\n",
    "auc = roc_auc_score((validation['Class']+1)/2., validation_prediction)\n",
    "curve = roc_curve((validation['Class']+1)/2., validation_prediction)\n",
    "\n",
    "plt.plot(curve[0], curve[1]);\n",
    "plt.plot([0,1], [0,1])\n",
    "plt.xlabel('FPR'); plt.ylabel('TPR'); plt.title('test AUC = %f' % (auc)); plt.axis([-0.05,1.05,-0.05,1.05]);"
   ]
  },
  {
   "cell_type": "code",
   "execution_count": 23,
   "metadata": {},
   "outputs": [
    {
     "data": {
      "image/png": "[encoded data removed]",
      "text/plain": [
       "<matplotlib.figure.Figure at 0x7fe344117d90>"
      ]
     },
     "metadata": {},
     "output_type": "display_data"
    }
   ],
   "source": [
    "from sklearn.metrics import average_precision_score\n",
    "\n",
    "with open('simple_model_predictions.vw') as pred_file:\n",
    "    validation_prediction = [(float(label)+1)/2. for label in pred_file.readlines()]\n",
    "\n",
    "average_precision = average_precision_score((validation['Class']+1)/2., validation_prediction)\n",
    "precision, recall, _ = precision_recall_curve((validation['Class']+1)/2., validation_prediction)\n",
    "\n",
    "# auc()\n",
    "\n",
    "plt.plot(precision, recall);\n",
    "plt.plot([0,1], [0,1])\n",
    "plt.xlabel('precision'); plt.ylabel('recall'); plt.title('test AP = %f' % (average_precision)); plt.axis([-0.05,1.05,-0.05,1.05]);"
   ]
  },
  {
   "cell_type": "code",
   "execution_count": 24,
   "metadata": {},
   "outputs": [],
   "source": [
    "from sklearn.utils import compute_class_weight\n",
    "import numpy as np\n"
   ]
  },
  {
   "cell_type": "code",
   "execution_count": 25,
   "metadata": {},
   "outputs": [
    {
     "data": {
      "text/plain": [
       "{-1: 0.5008652375006595, 1: 289.4380081300813}"
      ]
     },
     "execution_count": 25,
     "metadata": {},
     "output_type": "execute_result"
    }
   ],
   "source": [
    "class_labels = np.unique(df['Class'])\n",
    "class_weights = compute_class_weight(classes=np.unique(df['Class']), y=df['Class'], class_weight='balanced')\n",
    "\n",
    "class_w_dict = {k: v for k, v in zip(class_labels, class_weights)}\n",
    "class_w_dict"
   ]
  },
  {
   "cell_type": "code",
   "execution_count": 26,
   "metadata": {},
   "outputs": [],
   "source": [
    "skip_columns = {'Class', 'Index', 'Time'}\n",
    "\n",
    "def df_to_file_weight(file_name, data):\n",
    "    with open(file_name, 'w') as f:\n",
    "        for row in tqdm_notebook(data.itertuples()):\n",
    "            features = row._asdict()\n",
    "            features_formatted = ' '.join('{}:{}'.format(k, v) for k, v in features.iteritems() if k not in skip_columns)\n",
    "            f.write('{} {} | {}\\n'.format(row.Class, class_w_dict[row.Class], features_formatted))"
   ]
  },
  {
   "cell_type": "code",
   "execution_count": 27,
   "metadata": {},
   "outputs": [
    {
     "data": {
      "application/vnd.jupyter.widget-view+json": {
       "model_id": "a45e0f9f009847c59b04838f8aa2d542",
       "version_major": 2,
       "version_minor": 0
      },
      "text/html": [
       "<p>Failed to display Jupyter Widget of type <code>HBox</code>.</p>\n",
       "<p>\n",
       "  If you're reading this message in the Jupyter Notebook or JupyterLab Notebook, it may mean\n",
       "  that the widgets JavaScript is still loading. If this message persists, it\n",
       "  likely means that the widgets JavaScript library is either not installed or\n",
       "  not enabled. See the <a href=\"https://ipywidgets.readthedocs.io/en/stable/user_install.html\">Jupyter\n",
       "  Widgets Documentation</a> for setup instructions.\n",
       "</p>\n",
       "<p>\n",
       "  If you're reading this message in another frontend (for example, a static\n",
       "  rendering on GitHub or <a href=\"https://nbviewer.jupyter.org/\">NBViewer</a>),\n",
       "  it may mean that your frontend doesn't currently support widgets.\n",
       "</p>\n"
      ],
      "text/plain": [
       "HBox(children=(IntProgress(value=1, bar_style=u'info', max=1), HTML(value=u'')))"
      ]
     },
     "metadata": {},
     "output_type": "display_data"
    },
    {
     "name": "stdout",
     "output_type": "stream",
     "text": [
      "\n"
     ]
    },
    {
     "data": {
      "application/vnd.jupyter.widget-view+json": {
       "model_id": "9219a492f2384dd2b7e3e4c4cebbffd3",
       "version_major": 2,
       "version_minor": 0
      },
      "text/html": [
       "<p>Failed to display Jupyter Widget of type <code>HBox</code>.</p>\n",
       "<p>\n",
       "  If you're reading this message in the Jupyter Notebook or JupyterLab Notebook, it may mean\n",
       "  that the widgets JavaScript is still loading. If this message persists, it\n",
       "  likely means that the widgets JavaScript library is either not installed or\n",
       "  not enabled. See the <a href=\"https://ipywidgets.readthedocs.io/en/stable/user_install.html\">Jupyter\n",
       "  Widgets Documentation</a> for setup instructions.\n",
       "</p>\n",
       "<p>\n",
       "  If you're reading this message in another frontend (for example, a static\n",
       "  rendering on GitHub or <a href=\"https://nbviewer.jupyter.org/\">NBViewer</a>),\n",
       "  it may mean that your frontend doesn't currently support widgets.\n",
       "</p>\n"
      ],
      "text/plain": [
       "HBox(children=(IntProgress(value=1, bar_style=u'info', max=1), HTML(value=u'')))"
      ]
     },
     "metadata": {},
     "output_type": "display_data"
    },
    {
     "name": "stdout",
     "output_type": "stream",
     "text": [
      "\n"
     ]
    }
   ],
   "source": [
    "df_to_file_weight(fn_out_train_weight, train)\n",
    "df_to_file_weight(fn_out_validation_weight, validation)"
   ]
  },
  {
   "cell_type": "code",
   "execution_count": 28,
   "metadata": {},
   "outputs": [
    {
     "name": "stdout",
     "output_type": "stream",
     "text": [
      "-1 0.500865237501 | V1:-3.08710615037 V2:2.71719247899 V3:-0.951059344373 V4:-2.71851692585 V5:-0.529290824215 V6:-1.76761205807 V7:0.389135761993 V8:0.786636761602 V9:0.974414523853 V10:0.380733458181 V11:-1.01907601373 V12:0.625973437572 V13:0.140280528054 V14:0.391067193766 V15:-0.4972164997 V16:0.374108425158 V17:-0.440924340907 V18:-0.908378954782 V19:-1.01271165664 V20:0.388996090161 V21:-0.346074734907 V22:-0.867620506142 V23:0.0896446566408 V24:0.0306081301379 V25:0.24563780822 V26:0.348512314947 V27:0.0466338084613 V28:0.11602752388 Amount:1.0\n",
      "-1 0.500865237501 | V1:1.88666062231 V2:-0.252554896022 V3:-2.87326888087 V4:0.167324042462 V5:1.11485835525 V6:-0.754733862191 V7:1.02938962765 V8:-0.409576762362 V9:-0.12609501648 V10:0.18271573144 V11:0.474788677804 V12:0.5609099078 V13:-0.592995763777 V14:1.1638863863 V15:-0.64503653573 V16:-0.708631516095 V17:-0.455423206012 V18:0.136556904559 V19:0.457467826543 V20:0.00100943711584 V21:0.385472707864 V22:0.971341175272 V23:-0.351394428844 V24:0.295045607098 V25:0.803414302446 V26:0.0901833431751 V27:-0.10904885306 V28:-0.0727304365615 Amount:128.47\n"
     ]
    }
   ],
   "source": [
    "%%sh -s \"$fn_out_train_weight\" \"$fn_out_validation_weight\" \"$fn_out_test_weight\"\n",
    "head -2 $1"
   ]
  },
  {
   "cell_type": "code",
   "execution_count": 29,
   "metadata": {},
   "outputs": [
    {
     "name": "stderr",
     "output_type": "stream",
     "text": [
      "final_regressor = ./model_weights.vw\n",
      "Num weight bits = 18\n",
      "learning rate = 0.9\n",
      "initial_t = 0\n",
      "power_t = 0.5\n",
      "decay_learning_rate = 0.95\n",
      "creating cache_file = ./data.cache\n",
      "Reading datafile = creditcard_vw_format_train_weight\n",
      "num sources = 1\n",
      "average  since         example        example  current  current  current\n",
      "loss     last          counter         weight    label  predict features\n",
      "0.346709 0.346709            2            1.0  -1.0000  -0.9995       30\n",
      "0.645061 0.943414            4            2.0  -1.0000  -0.0642       30\n",
      "0.593573 0.542085            8            4.0  -1.0000   0.0718       30\n",
      "0.536155 0.478736           16            8.0  -1.0000  -0.2068       30\n",
      "0.427142 0.318129           32           16.0  -1.0000  -0.5193       30\n",
      "0.319673 0.212203           64           32.1  -1.0000  -0.7300       30\n",
      "0.229040 0.138408          128           64.1  -1.0000  -0.8899       30\n",
      "0.140973 0.052906          256          128.2  -1.0000  -0.9830       30\n",
      "2.021409 2.725326          363          470.8   1.0000  -0.9200       30\n",
      "2.228360 2.370156          581         1157.8   1.0000  -0.9223       30\n",
      "1.332031 0.603167         2270         2581.6   1.0000  -0.8116       30\n",
      "0.728914 0.134219         4613         5199.9   1.0000   0.9682       30\n",
      "0.466056 0.203248         9228        10400.7   1.0000   0.9997       30\n",
      "0.422596 0.379137        19610        20801.6  -1.0000  -0.9045       30\n",
      "0.284867 0.147139        40374        41603.3  -1.0000  -0.9917       30\n",
      "0.267453 0.250136        81790        83439.5   1.0000   1.0000       30\n",
      "0.221580 0.175707       164734       166879.2  -1.0000  -0.9881       30\n",
      "0.204833 0.188096       327358       333857.3   1.0000   0.6956       30\n",
      "0.188220 0.171611       652582       667801.4   1.0000   1.0000       30\n",
      "\n",
      "finished run\n",
      "number of examples per pass = 182276\n",
      "passes used = 4\n",
      "weighted example sum = 746579.838549\n",
      "weighted label sum = 17536.450514\n",
      "average loss = 0.185349\n",
      "best constant = 0.046987\n",
      "best constant's loss = 0.692871\n",
      "total feature number = 21868464\n"
     ]
    }
   ],
   "source": [
    "%%sh -s \"$fn_out_train_weight\" \"$fn_out_validation_weight\" \"$fn_out_test_weight\"\n",
    "\n",
    "vw -d $1 -f ./model_weights.vw \\\n",
    "--sgd --adaptive --normalized --invariant \\\n",
    "--loss_function=logistic --link=glf1 -l 0.9 --decay_learning_rate 0.95 \\\n",
    "--passes 4 --holdout_off --cache_file ./data.cache\n",
    "\n",
    "rm ./data.cache"
   ]
  },
  {
   "cell_type": "code",
   "execution_count": 30,
   "metadata": {},
   "outputs": [
    {
     "name": "stdout",
     "output_type": "stream",
     "text": [
      "args =  --initial_regressor model_weights.vw --testonly -d creditcard_vw_format_validation_weight --predictions model_weights_predictions.vw --link=glf1 --loss_function logistic --invert_hash ./model_weights.vw.read --bit_precision 18 --hash_seed 0 --link glf1\n"
     ]
    },
    {
     "name": "stderr",
     "output_type": "stream",
     "text": [
      "only testing\n",
      "predictions = model_weights_predictions.vw\n",
      "ignoring duplicate option: '--link glf1'\n",
      "Num weight bits = 18\n",
      "learning rate = 0.5\n",
      "initial_t = 0\n",
      "power_t = 0.5\n",
      "using no cache\n",
      "Reading datafile = creditcard_vw_format_validation_weight\n",
      "num sources = 1\n",
      "average  since         example        example  current  current  current\n",
      "loss     last          counter         weight    label  predict features\n",
      "0.007678 0.007678            2            1.0  -1.0000  -0.9776       30\n",
      "0.016783 0.025887            4            2.0  -1.0000  -0.9132       30\n",
      "0.059346 0.101909            8            4.0  -1.0000  -0.7757       30\n",
      "0.108073 0.156801           16            8.0  -1.0000  -0.3655       30\n",
      "0.296431 0.484788           32           16.0  -1.0000  -0.9600       30\n",
      "0.193277 0.090124           64           32.1  -1.0000  -0.8639       30\n",
      "0.151484 0.109690          128           64.1  -1.0000  -0.9076       30\n",
      "0.121475 0.091467          256          128.2  -1.0000  -0.9945       30\n",
      "0.111939 0.102402          512          256.4  -1.0000  -0.9912       30\n",
      "0.068060 0.044080          872          725.7   1.0000   1.0000       30\n",
      "0.054862 0.045212         1700         1718.3   1.0000   1.0000       30\n",
      "0.075786 0.094160         4453         3675.0   1.0000   1.0000       30\n",
      "0.070942 0.066098         8330         7350.5  -1.0000  -0.8533       30\n",
      "0.089751 0.108559        14930        14701.3  -1.0000  -0.7993       30\n",
      "0.136629 0.183506        28130        29403.0  -1.0000  -0.9528       30\n",
      "\n",
      "finished run\n",
      "number of examples per pass = 45569\n",
      "passes used = 1\n",
      "weighted example sum = 43627.400117\n",
      "weighted label sum = -1948.329805\n",
      "average loss = 0.173114\n",
      "best constant = -0.089376\n",
      "best constant's loss = 0.692150\n",
      "total feature number = 1366779\n"
     ]
    }
   ],
   "source": [
    "%%sh -s \"$fn_out_train_weight\" \"$fn_out_validation_weight\" \"$fn_out_test_weight\"\n",
    "\n",
    "vw -i model_weights.vw  -t -d $2 -p model_weights_predictions.vw --link=glf1 --loss_function=logistic \\\n",
    "--invert_hash ./model_weights.vw.read"
   ]
  },
  {
   "cell_type": "code",
   "execution_count": 38,
   "metadata": {},
   "outputs": [
    {
     "name": "stdout",
     "output_type": "stream",
     "text": [
      "Version 8.5.0\r\n",
      "Id \r\n",
      "Min label:-50\r\n",
      "Max label:50\r\n",
      "bits:18\r\n",
      "lda:0\r\n",
      "0 ngram:\r\n",
      "0 skip:\r\n",
      "options: --hash_seed 0 --link identity --link identity --link identity --link identity --link identity --link identity --link identity --link glf1 --link glf1 --link glf1 --link glf1 --link glf1 --link glf1 --link glf1 --link glf1 --link glf1 --link glf1\r\n",
      "Checksum: 2847609393\r\n",
      ":0\r\n",
      "Amount:48761:0.000373009\r\n",
      "Constant:116060:-3.08315\r\n",
      "V1:142282:0.062764\r\n",
      "V10:95918:-0.675883\r\n",
      "V11:133386:0.358414\r\n",
      "V12:151819:-0.627742\r\n",
      "V13:39141:-0.296054\r\n",
      "V14:78068:-0.776124\r\n",
      "V15:249132:-0.218317\r\n",
      "V16:253701:-0.212691\r\n",
      "V17:52164:-0.0875918\r\n",
      "V18:228631:-0.180547\r\n",
      "V19:175012:0.242286\r\n",
      "V2:40106:0.0163247\r\n",
      "V20:68712:0.140901\r\n",
      "V21:150712:0.192772\r\n",
      "V22:180395:0.473977\r\n",
      "V23:191497:-0.191096\r\n",
      "V24:19755:-0.359122\r\n",
      "V25:130312:0.23369\r\n",
      "V26:72606:-0.509199\r\n",
      "V27:115973:0.0549339\r\n",
      "V28:260221:0.233924\r\n",
      "V3:35450:-0.0726709\r\n",
      "V4:189175:0.885539\r\n",
      "V5:94135:0.0669985\r\n",
      "V6:24536:-0.104295\r\n",
      "V7:33330:0.0522486\r\n",
      "V8:36993:-0.294962\r\n",
      "V9:148873:-0.196309\r\n"
     ]
    }
   ],
   "source": [
    "!cat model_weights.vw.read"
   ]
  },
  {
   "cell_type": "code",
   "execution_count": 31,
   "metadata": {},
   "outputs": [
    {
     "data": {
      "image/png": "[encoded data removed]",
      "text/plain": [
       "<matplotlib.figure.Figure at 0x7fe3403b5ed0>"
      ]
     },
     "metadata": {},
     "output_type": "display_data"
    }
   ],
   "source": [
    "with open('model_weights_predictions.vw') as pred_file:\n",
    "    validation_prediction = [(float(label) + 1)/2. for label in pred_file.readlines()]\n",
    "\n",
    "auc = roc_auc_score((validation['Class'] + 1)/2., validation_prediction)\n",
    "curve = roc_curve((validation['Class'] + 1)/2., validation_prediction)\n",
    "\n",
    "plt.plot(curve[0], curve[1]);\n",
    "plt.plot([0,1], [0,1])\n",
    "plt.xlabel('FPR'); plt.ylabel('TPR'); plt.title('test AUC = %f' % (auc)); plt.axis([-0.05,1.05,-0.05,1.05]);"
   ]
  },
  {
   "cell_type": "code",
   "execution_count": 32,
   "metadata": {},
   "outputs": [
    {
     "data": {
      "image/png": "[encoded data removed]",
      "text/plain": [
       "<matplotlib.figure.Figure at 0x7fe3403b5610>"
      ]
     },
     "metadata": {},
     "output_type": "display_data"
    }
   ],
   "source": [
    "from sklearn.metrics import average_precision_score\n",
    "\n",
    "with open('model_weights_predictions.vw') as pred_file:\n",
    "    validation_prediction = [(float(label) + 1)/2. for label in pred_file.readlines()]\n",
    "\n",
    "average_precision = average_precision_score((validation['Class'] + 1)/2., validation_prediction)\n",
    "precision, recall, _ = precision_recall_curve((validation['Class']+ 1)/2., validation_prediction)\n",
    "\n",
    "plt.plot(precision, recall);\n",
    "plt.plot([0,1], [0,1])\n",
    "plt.xlabel('precision'); plt.ylabel('recall'); plt.title('test AP = %f' % (average_precision)); plt.axis([-0.05,1.05,-0.05,1.05]);"
   ]
  },
  {
   "cell_type": "markdown",
   "metadata": {},
   "source": [
    "# StackOverflow - 10 class classification\n",
    "https://www.kaggle.com/c/facebook-recruiting-iii-keyword-extraction/data"
   ]
  },
  {
   "cell_type": "code",
   "execution_count": 33,
   "metadata": {},
   "outputs": [
    {
     "name": "stdout",
     "output_type": "stream",
     "text": [
      "6.8G\tTrain.csv\r\n"
     ]
    }
   ],
   "source": [
    "fn = 'Train.csv'\n",
    "fnwv = 'train.vw'\n",
    "!du -h Train.csv"
   ]
  },
  {
   "cell_type": "code",
   "execution_count": 36,
   "metadata": {},
   "outputs": [
    {
     "name": "stdout",
     "output_type": "stream",
     "text": [
      "\"Id\",\"Title\",\"Body\",\"Tags\"\r",
      "\r\n",
      "\"1\",\"How to check if an uploaded file is an image without mime type?\",\"<p>I'd like to check if an uploaded file is an image file (e.g png, jpg, jpeg, gif, bmp) or another file. The problem is that I'm using Uploadify to upload the files, which changes the mime type and gives a 'text/octal' or something as the mime type, no matter which file type you upload.</p>\r\n",
      "\r\n",
      "<p>Is there a way to check if the uploaded file is an image apart from checking the file extension using PHP?</p>\r\n",
      "\",\"php image-processing file-upload upload mime-types\"\r",
      "\r\n"
     ]
    }
   ],
   "source": [
    "!head -5 Train.csv"
   ]
  },
  {
   "cell_type": "code",
   "execution_count": 38,
   "metadata": {},
   "outputs": [
    {
     "name": "stdout",
     "output_type": "stream",
     "text": [
      "{'java': 1, 'scala': 2, 'c#': 3, 'swift': 10, 'javascript': 5, 'c++': 6, 'python': 7, 'go': 8, 'php': 9, 'ruby': 4}\n"
     ]
    }
   ],
   "source": [
    "filter_tags = {'javascript', 'java', 'python', 'ruby', 'php', 'c++', 'c#', 'go', 'scala', 'swift'}\n",
    "tags_ids = {tag: tag_id + 1 for tag_id, tag in enumerate(filter_tags)}\n",
    "print(tags_ids)"
   ]
  },
  {
   "cell_type": "code",
   "execution_count": 40,
   "metadata": {},
   "outputs": [],
   "source": [
    "import csv\n",
    "import string\n",
    "\n",
    "with open(fn) as csvfile:\n",
    "    reader = csv.reader(csvfile, delimiter=',', quotechar='\"')\n",
    "    with open(fnwv, 'w') as writer:\n",
    "        for row_id, title, body, tags in reader:\n",
    "\n",
    "            tags_set = set(tags.split())\n",
    "            good_tags = tags_set & filter_tags\n",
    "            if not good_tags:\n",
    "                continue\n",
    "\n",
    "            tag = next(iter(good_tags))\n",
    "            tokens = filter(None, '{} {}'.format(title, body).lower().translate(None, string.punctuation).split())\n",
    "            writer.write('{} | {}\\n'.format(tags_ids[tag], ' '.join(tokens)))\n"
   ]
  },
  {
   "cell_type": "code",
   "execution_count": 41,
   "metadata": {
    "scrolled": true
   },
   "outputs": [
    {
     "name": "stdout",
     "output_type": "stream",
     "text": [
      "9 | how to check if an uploaded file is an image without mime type pid like to check if an uploaded file is an image file eg png jpg jpeg gif bmp or another file the problem is that im using uploadify to upload the files which changes the mime type and gives a textoctal or something as the mime type no matter which file type you uploadp pis there a way to check if the uploaded file is an image apart from checking the file extension using phpp\r\n",
      "3 | how do i replace special characters in a url pthis is probably very simple but i simply cannot find the answer myself p pbasicaly what i want is given this stringp phttpwwwgooglecomsearchhlenampqc objectsp pi want this outputp pa hrefhttpwwwgooglecomsearchhlenampqc23objectshttpwwwgooglecomsearchhlenampqc23objectsap pim sure theres some helper class somewhere buried in the framework that takes care of that for me but im having trouble finding itp pedit i should add that this is for a winforms appp\r\n",
      "9 | how to modify whois contact details precodefunction modify mcontact filegetcontents httpstesthttpapicomapicontactsmodifyjsonauthuseriduidampauthpasswordpassampcontactidcidampnamename ampcompanycompanyampemailemailampaddressline1streetampcitycityampcountrycountryampzipcodepincodeampphonecccountrycodelistphcampphonephone mdetails jsondecode mcontact true return mdetails codepre pusing this modify function displays warning mesage p pre classlangnone prettyprintoverridecodewarning filegetcontentshttpshihfgcomampaddressline13dfgdffgdfampcitydfgfdampcountryindiaampzipcode641005ampphonecc91ampphone756657 functionfilegetcontents failed to open stream http request failed http10 400 bad request in homegfdgfdpublichtmlnewonecustomeraccountclasswhoisphp on line 49 codepre pplease help me modify contact detailsp\r\n",
      "3 | how to fetch an xml feed using aspnet pive decided to convert a windows phone 7 app that fetches an xml feed and then parses it to an aspnet web app using visual web developer express i figure since the code already works for wp7 it should be a matter of mostly copying and pasting it for the c code behind p precodehttpwebrequest request httpwebrequestcreatehttphttpwebservicesnextbuscomservicepublicxmlfeedcommandrouteconfigampasfmuniampr line1 codepre pthats the first line of code from my wp7 app that fetches the xml feed but i cant even get httpwebrequest to work in visual web developer like that intellisense shows a create and createdefault but no createhttp like there was in windows phone 7 i just need to figure out how to fetch the page i assume the parsing will be the same as on my phone app any helpp pthanksp pamandap\r\n",
      "5 | net library for generating javascript pdo you know of a net library for generating javascript code p pi want to generate javascript code based on information in my net application i would like to be able to create an astlike datastructure using c and have it turned into valid javascript i need to be able to create functions statements expressions etc so i need something more than a json serializer but i guess you could think of this as a emveryem generalized json serializerp pdo such libraries exist and if so could you recommend anyp pthank youp\r\n",
      "9 | php framework url conventions pa lot of frameworks use url conventions like codecontrolleractionidcode which is great but if you need any configuration beyond that its up to you to write your own routesp phow would you handle urls like codeusersidfriendscode on the backend to list all of a users friendsp pim thinking that in the controller something like this would be appropriatep precodeclass user function index echo user index class friend extends user function indexuserid echo friend index codepre pthen you would have the following mapp precodeusers gt userindex usersid gt userviewid usersidfriends gt friendindexuserid codepre pi wanted to put the friend class inside the user class but apparently you cant do that in php so this is the best i could come up with thoughtsp pwhat url would use for editing your list of friends codeusersidfriendseditcode could work but it doesnt seem appropriate since you should never be editing someone elses friend list would codeaccountfriendseditcode be a better choice where would you put the corresponding code for that in a friend controller or a user controller or a specialized account controllerp pbonus question which do you prefer codephotosdeleteidcode or codephotosiddeletecodep phr p pstrongthe answersstrongp pso what ive gathered from the answers is that if the thing is complicated like friends but doesnt have its own controller you can give it one without a model or if its not you should stuff it in with whatever its most closely related to your urls should not influence where you put your code most people seem to think you should stick to codecontrolleractionidcode whever possible because its what people are familiar withp pno one really commented on the extended class aside from saying its awkward perhaps friendlist would have been a more appropriate class in that case if i really wanted to separate it outp pthanks for all the answers p\r\n",
      "5 | play framework auto javascript and css minifier pdoes anyone know a good play plugin that automatically minifies javascript and css to attach to a production play serverp pive found this one but i guess there are more out therep pa hrefhttpsgithubcomgreenlaw110playgreenscript relnofollowhttpsgithubcomgreenlaw110playgreenscriptap pthe main problem i see here is that the having javascript being generated from the play side the plugin would have to detect js code that gets generated on the fly mainly because im writing values directly into the javascript likep precodefunction foohandleridsomevar var x someval var t foohandleridbar codepre\r\n",
      "9 | creating a repetitive node from a hash array with simplexmlloadstring a cycle and variables p i need your kindly help to accomplish a simple task ive been searching but i cant find what i need it shouldnt be difficult probably its a matter of syntax p pi create a string representing an xml inside the function like thisp precodesxe simplexmlloadstring ltxmlfilegt ltitem paramvariablegt ltsubitemgtvar2sltsubitemgt ltitemgt ltxmlfilegt codepre pthe contents of the variables are plain strings like this codeabcdefghicode in both variables which i obtain from a hash this wayp precodeissetvariable variable issetvars2 vars2 foreach hasharray as stringkey gt stringvalue i separate each result with a comma variable stringkey vars2 stringvalue then remove the last comma variable substrvariable 0 1 vars2 substrvars2 0 1 codepre pwhen i save my xml with codesxegtasxmlxmlmygreatfilexmlcode i got something similar top precodeltxmlfilegt ltitem paramabcdefghigt ltsubitemgtjklmnopqrltsubitemgt ltitemgt ltxmlfilegt codepre pthat was fine but now for my new requirement i need a result similar to thisp precodeltxmlfilegt ltitem paramabcgt ltsubitemgtjklltsubitemgt ltitemgt ltitem paramdefgt ltsubitemgtmnoltsubitemgt ltitemgt ltitem paramghigt ltsubitemgtpqrltsubitemgt ltitemgt ltxmlfilegt codepre phow can i create this repetitive node i tried to concatenate php functions inside the codesimplexmlloadstringcode string as i did with the variables but seems to be its not possiblep precodesxe simplexmlloadstring ltxmlfilegt syntax error uu foreach hasharray as stringkey gt stringvalue variable stringkey vars2 stringvalue ltitem paramvariablegt ltsubitemgtvar2sltsubitemgt ltitemgt ltxmlfilegt codepre pof course my syntax its wrong but i want to create this repetitive node somehow maybe with a cycle and maybe using my hash array directly instead of passing it to stringp pcan somebody please help me thanks a lot p\r\n",
      "3 | get all ve number count in linq pi am using the following thingp precodeint a 1 2 3 0 5 0 int x aselectb gt b 0count codepre pi am getting strong6strong as the value how can i get strong4strong instead of strong6strongp pcan someone please guid mep\r\n",
      "3 | c converting set flags in a variable of type flag enumeration to an array of integers pi came up with this piece of code that converts the set flags in a variable of type flag enumeration and returns the set flags as integers id like to know if this is the best approachp pexample enumeration precodeflags enum status none 0x0 active 0x1 inactive 0x2 canceled 0x4 suspended 0x8 precodep pthe extension method that converts the set flags to array of int that i came up withp precodepublic static class extensions public static int tointarraythis systemenum o return otostring splitnew string stringsplitoptionsnone selecti intenumparseogettype i toarray codepre pthis is how i use itp precodestatus filterstatus statussuspended statuscanceled int filterflags filterstatustointarray foreach int flag in filterflags consolewriteline0n flag codepre pit will outputp precode4 8codepre pas you can see to get this done im doing the followingp ol liconverting the variable to string it outputs something like suspended canceledli lisplitting that string into an array of strings suspended canceled li liconverting that string to the enumeration value with enumparseli licasting the value to an integerli liconverting the ienumerable to intli ol pit works but i just dont think its the best approach any suggestions to improve this bit of codep\r\n"
     ]
    }
   ],
   "source": [
    "!head train.vw"
   ]
  },
  {
   "cell_type": "code",
   "execution_count": 42,
   "metadata": {},
   "outputs": [
    {
     "name": "stdout",
     "output_type": "stream",
     "text": [
      "2042254 train.vw\r\n"
     ]
    }
   ],
   "source": [
    "!wc -l train.vw"
   ]
  },
  {
   "cell_type": "code",
   "execution_count": 43,
   "metadata": {},
   "outputs": [
    {
     "data": {
      "text/plain": [
       "1429577.7999999998"
      ]
     },
     "execution_count": 43,
     "metadata": {},
     "output_type": "execute_result"
    }
   ],
   "source": [
    "2042254 * 0.7"
   ]
  },
  {
   "cell_type": "code",
   "execution_count": 33,
   "metadata": {},
   "outputs": [],
   "source": [
    "!rm train_parts*"
   ]
  },
  {
   "cell_type": "code",
   "execution_count": 44,
   "metadata": {},
   "outputs": [],
   "source": [
    "!split -l 1429577 train.vw train_parts.vw"
   ]
  },
  {
   "cell_type": "code",
   "execution_count": 45,
   "metadata": {},
   "outputs": [
    {
     "name": "stdout",
     "output_type": "stream",
     "text": [
      "-rwxrwxrwx 1 root root 1439239972 Feb 13 21:09 train_parts.vwaa\r\n",
      "-rwxrwxrwx 1 root root  616743041 Feb 13 21:09 train_parts.vwab\r\n",
      "-rwxrwxrwx 1 root root 2055983013 Feb 13 21:08 train.vw\r\n"
     ]
    }
   ],
   "source": [
    "!ls -l train*"
   ]
  },
  {
   "cell_type": "code",
   "execution_count": 49,
   "metadata": {},
   "outputs": [],
   "source": [
    "!mv train_parts.vwaa train_parts_train.vw\n",
    "!mv train_parts.vwab train_parts_test.vw"
   ]
  },
  {
   "cell_type": "code",
   "execution_count": 50,
   "metadata": {},
   "outputs": [
    {
     "name": "stdout",
     "output_type": "stream",
     "text": [
      "2.0G\ttrain.vw\r\n",
      "589M\ttrain_parts_test.vw\r\n",
      "1.4G\ttrain_parts_train.vw\r\n"
     ]
    }
   ],
   "source": [
    "!du -h train*"
   ]
  },
  {
   "cell_type": "code",
   "execution_count": 51,
   "metadata": {},
   "outputs": [
    {
     "name": "stdout",
     "output_type": "stream",
     "text": [
      "CPU times: user 1.41 s, sys: 164 ms, total: 1.57 s\n",
      "Wall time: 1min\n"
     ]
    }
   ],
   "source": [
    "%%time\n",
    "!vw --oaa 10 -d train_parts_train.vw -f vw_model1.vw -b 28 --random_seed 17 --quiet"
   ]
  },
  {
   "cell_type": "code",
   "execution_count": 52,
   "metadata": {},
   "outputs": [
    {
     "name": "stdout",
     "output_type": "stream",
     "text": [
      "CPU times: user 1.57 s, sys: 136 ms, total: 1.7 s\n",
      "Wall time: 1min 3s\n"
     ]
    }
   ],
   "source": [
    "%%time\n",
    "!vw -t -i vw_model1.vw -d train_parts_test.vw -p vw_test_pred.csv --random_seed 17 --quiet"
   ]
  },
  {
   "cell_type": "code",
   "execution_count": 54,
   "metadata": {},
   "outputs": [
    {
     "name": "stdout",
     "output_type": "stream",
     "text": [
      "3\r\n",
      "3\r\n",
      "9\r\n",
      "3\r\n",
      "5\r\n",
      "1\r\n",
      "9\r\n",
      "3\r\n",
      "5\r\n",
      "6\r\n"
     ]
    }
   ],
   "source": [
    "!head vw_test_pred.csv"
   ]
  },
  {
   "cell_type": "code",
   "execution_count": 55,
   "metadata": {},
   "outputs": [
    {
     "name": "stdout",
     "output_type": "stream",
     "text": [
      "3 | how to display data in particular gridview when particular checkbox is selected pi have 6 check boxes in 1 panel and 6 gridviews i other seven differnt panels when i check checkbox 1 the data should be displayed in gridview one and so on how to do thisp\n",
      "3 | is timer efficient pi have created an application that is used to read a mail box at certain intervals if there is a new mail it downloads the attachment creates pdf files say 100 combines it and mail it back to a particular list due to some server policies am in a position to convert it to a window service i have used a timer my code given belowp precodeprivate systemthreadingtimer timer timer new systemthreadingtimertimertick null timespanzero timespanfromminutes1 void timertickobject state var minute datetimenowminute if minute lastminute ampamp minute 5 0 check mail here codepre pis implementing a timer like this an efficient way of doing this is there any better way to handle this i am worried about the performance because the applications need to run 24 x7 and hence can end up in utilizing more cpu memory if inefficientp pemstrongis timer the only best available option in this scenario emstrongp\n",
      "3\n",
      "3\n"
     ]
    }
   ],
   "source": [
    "!cat train_parts_test.vw | awk '{print $1}' > train_parts_test.labels\n",
    "!head -2 train_parts_test.vw\n",
    "!head -2 train_parts_test.labels"
   ]
  },
  {
   "cell_type": "code",
   "execution_count": 56,
   "metadata": {},
   "outputs": [
    {
     "data": {
      "text/plain": [
       "0.9303336015551424"
      ]
     },
     "execution_count": 56,
     "metadata": {},
     "output_type": "execute_result"
    }
   ],
   "source": [
    "import numpy as np\n",
    "from sklearn.metrics import accuracy_score\n",
    "\n",
    "vw_pred = np.loadtxt('vw_test_pred.csv')\n",
    "test_labels = np.loadtxt('train_parts_test.labels')\n",
    "accuracy_score(test_labels, vw_pred)"
   ]
  },
  {
   "cell_type": "markdown",
   "metadata": {},
   "source": [
    "# StackOverflow - LDA"
   ]
  },
  {
   "cell_type": "markdown",
   "metadata": {},
   "source": [
    "http://papers.nips.cc/paper/3902-online-learning-for-latent-dirichlet-allocation.pdf\n",
    "\n",
    "Online Learning for Latent Dirichlet Allocation"
   ]
  },
  {
   "cell_type": "code",
   "execution_count": 57,
   "metadata": {},
   "outputs": [
    {
     "name": "stdout",
     "output_type": "stream",
     "text": [
      "6.8G\tTrain.csv\r\n"
     ]
    }
   ],
   "source": [
    "fn = 'Train.csv'\n",
    "fnwv = 'train.lda.vw'\n",
    "!du -h Train.csv"
   ]
  },
  {
   "cell_type": "code",
   "execution_count": 84,
   "metadata": {},
   "outputs": [
    {
     "ename": "ValueError",
     "evalue": "translation table must be 256 characters long",
     "output_type": "error",
     "traceback": [
      "\u001b[0;31m---------------------------------------------------------------------------\u001b[0m",
      "\u001b[0;31mValueError\u001b[0m                                Traceback (most recent call last)",
      "\u001b[0;32m<ipython-input-84-89be9f96b09a>\u001b[0m in \u001b[0;36m<module>\u001b[0;34m()\u001b[0m\n\u001b[1;32m     13\u001b[0m     \u001b[0;32mwith\u001b[0m \u001b[0mopen\u001b[0m\u001b[0;34m(\u001b[0m\u001b[0mfnwv\u001b[0m\u001b[0;34m,\u001b[0m \u001b[0;34m'w'\u001b[0m\u001b[0;34m)\u001b[0m \u001b[0;32mas\u001b[0m \u001b[0mwriter\u001b[0m\u001b[0;34m:\u001b[0m\u001b[0;34m\u001b[0m\u001b[0m\n\u001b[1;32m     14\u001b[0m         \u001b[0;32mfor\u001b[0m \u001b[0mrow_id\u001b[0m\u001b[0;34m,\u001b[0m \u001b[0mtitle\u001b[0m\u001b[0;34m,\u001b[0m \u001b[0mbody\u001b[0m\u001b[0;34m,\u001b[0m \u001b[0mtags\u001b[0m \u001b[0;32min\u001b[0m \u001b[0mreader\u001b[0m\u001b[0;34m:\u001b[0m\u001b[0;34m\u001b[0m\u001b[0m\n\u001b[0;32m---> 15\u001b[0;31m             \u001b[0mtokens\u001b[0m \u001b[0;34m=\u001b[0m \u001b[0mfilter\u001b[0m\u001b[0;34m(\u001b[0m\u001b[0mNone\u001b[0m\u001b[0;34m,\u001b[0m \u001b[0mtitle\u001b[0m\u001b[0;34m.\u001b[0m\u001b[0mlower\u001b[0m\u001b[0;34m(\u001b[0m\u001b[0;34m)\u001b[0m\u001b[0;34m.\u001b[0m\u001b[0mtranslate\u001b[0m\u001b[0;34m(\u001b[0m\u001b[0;34m' '\u001b[0m \u001b[0;34m*\u001b[0m \u001b[0mlen\u001b[0m\u001b[0;34m(\u001b[0m\u001b[0mstring\u001b[0m\u001b[0;34m.\u001b[0m\u001b[0mpunctuation\u001b[0m\u001b[0;34m)\u001b[0m \u001b[0;34m,\u001b[0m \u001b[0mstring\u001b[0m\u001b[0;34m.\u001b[0m\u001b[0mpunctuation\u001b[0m\u001b[0;34m)\u001b[0m\u001b[0;34m.\u001b[0m\u001b[0msplit\u001b[0m\u001b[0;34m(\u001b[0m\u001b[0;34m)\u001b[0m\u001b[0;34m)\u001b[0m\u001b[0;34m\u001b[0m\u001b[0m\n\u001b[0m\u001b[1;32m     16\u001b[0m             \u001b[0;32mfor\u001b[0m \u001b[0mt\u001b[0m \u001b[0;32min\u001b[0m \u001b[0mtokens\u001b[0m\u001b[0;34m:\u001b[0m\u001b[0;34m\u001b[0m\u001b[0m\n\u001b[1;32m     17\u001b[0m                 \u001b[0;32mif\u001b[0m \u001b[0mt\u001b[0m \u001b[0;32mnot\u001b[0m \u001b[0;32min\u001b[0m \u001b[0mword_ids\u001b[0m\u001b[0;34m:\u001b[0m\u001b[0;34m\u001b[0m\u001b[0m\n",
      "\u001b[0;31mValueError\u001b[0m: translation table must be 256 characters long"
     ]
    }
   ],
   "source": [
    "import csv\n",
    "import string\n",
    "\n",
    "word_ids = {}\n",
    "now_id = 0\n",
    "\n",
    "\n",
    "with open(fn) as csvfile:\n",
    "    reader = csv.reader(csvfile, delimiter=',', quotechar='\"')\n",
    "    for i in xrange(8):\n",
    "        next(reader)\n",
    "    \n",
    "    with open(fnwv, 'w') as writer:\n",
    "        for row_id, title, body, tags in reader:\n",
    "            tokens = filter(None, title.lower().translate(' ' * len(string.punctuation) , string.punctuation).split())\n",
    "            for t in tokens:\n",
    "                if t not in word_ids:\n",
    "                    word_ids[t] = now_id\n",
    "                    now_id += 1\n",
    "            writer.write('| {}\\n'.format(' '.join(tokens)))\n",
    "            print title\n",
    "            print ' '.join(tokens)\n",
    "            break\n"
   ]
  },
  {
   "cell_type": "code",
   "execution_count": 85,
   "metadata": {},
   "outputs": [
    {
     "data": {
      "text/plain": [
       "'                                '"
      ]
     },
     "execution_count": 85,
     "metadata": {},
     "output_type": "execute_result"
    }
   ],
   "source": [
    "len' ' * len(string.punctuation)"
   ]
  },
  {
   "cell_type": "code",
   "execution_count": 59,
   "metadata": {},
   "outputs": [
    {
     "name": "stdout",
     "output_type": "stream",
     "text": [
      "[('stdmapvaluetype', 157741), ('mdbg', 120489), ('mdbf', 130781), ('selectenddate', 58703), ('exocortexdsp', 442668), ('mdraid', 169353), ('theoreticaly', 210854), ('netwpf', 186503), ('luanch', 169128), ('fooclass', 87520), ('woods', 62565), ('spiders', 61043), ('mdbs', 70162), ('trawling', 456988), ('unitwebperformanceload', 469722), ('ax2by2c2', 336757), ('regularize', 244647), ('5988', 271864), ('gad', 398174), ('radarforem', 465564), ('splashimage', 303987), ('inrrespective', 261338), ('5981', 421900), ('5987', 397896), ('subclipsed', 151256), ('nonpublished', 430654), ('eventstoreserializationservicestack', 76911), ('xode', 308019), ('properlyformatted', 287747), ('fundation', 43230), ('eventtargettouches0screeny', 44720), ('subclipses', 435434), ('canel', 199839), ('listtbinarysearch', 170743), ('v3responsive', 461946), ('wsaoverlappeds', 476117), ('getcontacts', 83041), ('bargenerator', 511690), ('trojan', 4975), ('newerthanintended', 438188), ('pigment', 194076), ('oraclemysqlmssqldb3', 493407), ('velocitytools', 165286), ('varible', 10879), ('demostaginglive', 514709), ('mdb2', 52418), ('libperlso', 390298), ('fracss1', 189680), ('sigmai1p', 188598), ('509ms', 482337), ('webchannel', 190811), ('persite', 195080), ('basicsocketiostream', 490763), ('fooinnerconstexpr', 391050), ('wooden', 287243), ('\\xe2\\x80\\x94\\xc2\\xa0how', 220137), ('html5video', 82605), ('objectsclasses', 62986), ('npqsqlcommandexecutescalar', 77976), ('sunniochfiledispatcherwrite0native', 161178), ('ejb31', 21073), ('chrisbanes', 456449), ('tcpsyncookies', 391860), ('eofexception', 66076), ('gentzen', 498589), ('roadspaths', 460328), ('ixmldomdocument2xml', 448939), ('lineconsole', 240858), ('pcoptimized', 145722), ('validatesinclusionof', 36010), ('gaskets', 80990), ('usernamepasswordcredentials', 431431), ('implemment', 489488), ('fnlimlimitsntoinftychipfn', 45483), ('pyqtapplication', 252883), ('animationfunction', 440603), ('uibtnactive', 41584), ('addcardattop', 341772), ('2mui3muj4muk', 399519), ('vs2010net', 144694), ('pmp3370b', 349373), ('usenet', 81935), ('persistentstorecoodinator', 438443), ('sthattrid', 315212), ('amchart', 161139), ('sendchuncked', 211473), ('subsonicdataservice', 317460), ('ssaslike', 330346), ('getbufferlock', 233067), ('ajaxtags', 496613), ('performselectoronthreadwaituntildone', 277122), ('connectionmanager', 122179), ('contribauthlogout', 457269), ('highpass', 18493), ('register4less', 287778), ('usbtors232', 397044), ('printdialog', 60882), ('dcim100media', 338313), ('modulemanager', 62355), ('androidpreferencelistpreference', 207652)]\n"
     ]
    }
   ],
   "source": [
    "print word_ids.items()[:100]"
   ]
  },
  {
   "cell_type": "code",
   "execution_count": 60,
   "metadata": {},
   "outputs": [],
   "source": [
    "id_to_word = {v: k for k, v in word_ids.items()}"
   ]
  },
  {
   "cell_type": "code",
   "execution_count": 61,
   "metadata": {},
   "outputs": [
    {
     "data": {
      "text/plain": [
       "'how'"
      ]
     },
     "execution_count": 61,
     "metadata": {},
     "output_type": "execute_result"
    }
   ],
   "source": [
    "id_to_word[0]"
   ]
  },
  {
   "cell_type": "code",
   "execution_count": 62,
   "metadata": {},
   "outputs": [
    {
     "name": "stdout",
     "output_type": "stream",
     "text": [
      "6034195 train.lda.vw\r\n"
     ]
    }
   ],
   "source": [
    "!wc -l train.lda.vw"
   ]
  },
  {
   "cell_type": "code",
   "execution_count": 63,
   "metadata": {},
   "outputs": [
    {
     "name": "stdout",
     "output_type": "stream",
     "text": [
      "Num weight bits = 18\n",
      "learning rate = 0.5\n",
      "initial_t = 0\n",
      "power_t = 0.5\n",
      "using no cache\n",
      "Reading datafile = train.lda.vw\n",
      "num sources = 1\n",
      "average  since         example        example  current  current  current\n",
      "loss     last          counter         weight    label  predict features\n",
      "12.990373 12.990373            1            1.0  unknown   0.0000       13\n",
      "12.762602 12.534832            2            2.0  unknown   0.0000       11\n",
      "12.404925 12.047247            4            4.0  unknown   0.0000        9\n",
      "11.742718 11.080511            8            8.0  unknown   0.0000        8\n",
      "11.742479 11.742240           16           16.0  unknown   0.0000        4\n",
      "11.885965 12.029451           32           32.0  unknown   0.0000        4\n",
      "11.904224 11.922483           64           64.0  unknown   0.0000        5\n",
      "13.497619 15.091014          128          128.0  unknown   0.0000        7\n",
      "13.540773 13.583927          256          256.0  unknown   0.0000        9\n",
      "13.371991 13.203209          512          512.0  unknown   0.0000       11\n",
      "13.029915 12.687839         1024         1024.0  unknown   0.0000        3\n",
      "12.341276 11.652637         2048         2048.0  unknown   0.0000        5\n",
      "11.721312 11.101347         4096         4096.0  unknown   0.0000       21\n",
      "11.170175 10.619038         8192         8192.0  unknown   0.0000        4\n",
      "10.694055 10.217935        16384        16384.0  unknown   0.0000       12\n",
      "10.306415 9.918775        32768        32768.0  unknown   0.0000        4\n",
      "9.953698 9.600982        65536        65536.0  unknown   0.0000        8\n",
      "9.654565 9.355433       131072       131072.0  unknown   0.0000       17\n",
      "9.400407 9.146249       262144       262144.0  unknown   0.0000        7\n",
      "9.187387 8.974368       524288       524288.0  unknown   0.0000        7\n",
      "9.003720 8.820053      1048576      1048576.0  unknown   0.0000       11\n",
      "8.846770 8.689819      2097152      2097152.0  unknown   0.0000        7\n",
      "8.695462 8.544154      4194304      4194304.0  unknown   0.0000        4\n",
      "\n",
      "finished run\n",
      "number of examples = 6034195\n",
      "weighted example sum = 6034195.000000\n",
      "weighted label sum = 0.000000\n",
      "average loss = 8.677322\n",
      "total feature number = 49779440\n"
     ]
    }
   ],
   "source": [
    "!vw -d train.lda.vw --lda 20 --lda_D 6034195 --readable_model lda.model.vw "
   ]
  },
  {
   "cell_type": "code",
   "execution_count": 96,
   "metadata": {},
   "outputs": [
    {
     "name": "stderr",
     "output_type": "stream",
     "text": [
      "bash: line 4: vw-lda: command not found\n"
     ]
    }
   ],
   "source": [
    "%%bash\n",
    "alias vw-lda=/home/kstroykova/projects/vowpal_wabbit/utl/vw-lda\n",
    "alias vw-doc2lda=/home/kstroykova/projects/vowpal_wabbit/utl/vw-doc2lda\n",
    "\n",
    "vw-lda -f train.lda.vw --lda 20 --lda_D 6034196 --readable_model lda.model.vw "
   ]
  },
  {
   "cell_type": "markdown",
   "metadata": {},
   "source": [
    "https://mlwave.com/tutorial-online-lda-with-vowpal-wabbit/\n",
    "\n",
    "One could also modify the following LDA-related parameters:\n",
    "\n",
    "* --lda_alpha. A hyperparameter for the prior on weight vectors theta.\n",
    "* --lda_eta. A hyperparameter for the prior on the topics beta.\n",
    "* --power_t (kappa) and --initial_t (tau0). For scheduling learning stepsize.\n",
    "* --minibatch. The size of the batch (number of documents processed in chunks)\n",
    "* b The bitsize indicates how much tokens are stored in the model. Standard VW bitsize is 18, so 2^18 = 262,144 tokens\n",
    "* -c -k --passes 10. To use a cache, kill previous cache, and run 10 passes.\n",
    "\n",
    "https://github.com/JohnLangford/vowpal_wabbit/wiki/Latent-Dirichlet-Allocation\n",
    "\n",
    "VW can output the topic model in a human-readable textual form, if the --readable_model command line parameter is specified while fitting the model. The output format is the following:\n",
    "\n",
    "* the file starts with a preamble (currently 10 lines) that describes VW version info and model fitting parameters\n",
    "* each line corresponds to a model dictionary word and is prefixed with word ID. The number of lines is dictated by the choice of feature table size (-b)\n",
    "* columns 2-n represent the per-word topic distributions. The number of topics is specified using the --lda parameter."
   ]
  },
  {
   "cell_type": "code",
   "execution_count": 65,
   "metadata": {},
   "outputs": [
    {
     "name": "stdout",
     "output_type": "stream",
     "text": [
      "262044 0.1 0.1 0.1 0.1 0.1 0.1 0.1 0.1 0.1 0.1 0.1 0.1 0.1 0.1 0.1 0.1 0.1 0.1 0.1 0.1 \r\n",
      "262045 0.1 0.1 0.1 0.1 0.1 0.1 0.1 0.1 0.1 0.1 0.1 0.1 0.1 0.1 0.1 0.1 0.1 0.1 0.1 0.1 \r\n",
      "262046 0.1 0.100132 0.1 0.1 0.1 0.1 0.1 0.1 0.1 0.1 0.1 0.1 0.1 0.1 0.1 0.1 0.1 0.100333 0.1 0.1 \r\n",
      "262047 0.1 0.1 0.1 0.1 0.1 0.1 0.1 0.1 0.1 0.1 0.1 0.1 0.1 0.1 0.1 0.1 0.1 0.1 0.1 0.1 \r\n",
      "262048 0.1 0.1 0.1 0.1 0.1 0.1 0.1 0.1 0.1 0.1 0.1 0.1 0.1 0.1 0.1 0.1 0.1 0.1 0.1 0.1 \r\n",
      "262049 0.1 0.1 0.1 0.1 0.1 0.1 0.1 0.1 0.1 0.1 0.1 0.1 0.1 0.1 0.1 0.1 0.1 0.1 0.1 0.1 \r\n",
      "262050 0.1 0.1 0.1 0.1 0.1 0.1 0.1 0.1 0.1 0.1 0.1 0.1 0.1 0.1 0.1 0.1 0.1 0.1 0.1 0.1 \r\n",
      "262051 0.1 0.1 0.1 0.1 0.1 0.1 0.1 0.1 0.1 0.1 0.1 0.1 0.1 0.1 0.1 0.1 0.1 0.1 0.1 0.1 \r\n",
      "262052 0.1 0.1 0.1 0.1 0.1 0.1 0.1 0.1 0.1 0.1 0.1 0.1 0.1 0.1 0.1 0.1 0.1 0.1 0.1 0.1 \r\n",
      "262053 0.1 0.1 0.1 0.1 0.1 0.1 0.1 0.1 0.1 0.1 0.1 0.1 0.1 0.1 0.1 0.1 0.1 0.1 0.1 0.1 \r\n",
      "262054 0.1 0.1 0.1 0.1 0.1 0.1 0.1 0.1 0.1 0.1 0.1 0.1 0.1 0.1 0.1 0.1 0.1 0.1 0.1 0.1 \r\n",
      "262055 0.10374 0.1 0.270186 0.100022 0.1 0.1 0.10374 0.12067 0.1 0.1 0.109296 0.1 0.1 0.1 0.1 0.1 0.10374 0.100019 0.1 0.1 \r\n",
      "262056 0.1 0.1 0.1 0.1 0.1 0.1 0.1 0.1 0.1 0.1 0.1 0.1 0.1 0.1 0.1 0.1 0.1 0.1 0.1 0.1 \r\n",
      "262057 0.1 0.1 0.1 0.1 0.1 0.1 0.1 0.1 0.1 0.1 0.1 0.1 0.1 0.1 0.1 0.1 0.1 0.1 0.1 0.1 \r\n",
      "262058 0.1 0.1 0.1 0.1 0.1 0.1 0.1 0.1 0.1 0.1 0.1 0.1 0.1 0.1 0.1 0.1 0.1 0.1 0.1 0.1 \r\n",
      "262059 0.1 0.1 0.1 0.1 0.1 0.1 0.1 0.1 0.1 0.1 0.1 0.1 0.1 0.1 0.1 0.1 0.1 0.1 0.1 0.1 \r\n",
      "262060 0.1 0.1 0.1 0.1 0.1 0.1 0.1 0.1 0.1 0.1 0.1 0.1 0.1 0.1 0.1 0.1 0.1 0.1 0.1 0.1 \r\n",
      "262061 0.1 0.1 0.1 0.1 0.1 0.1 0.1 0.1 0.1 0.1 0.1 0.1 0.1 0.1 0.1 0.1 0.1 0.1 0.1 0.1 \r\n",
      "262062 0.1 0.1 0.1 0.1 0.1 0.1 0.1 0.1 0.1 0.1 0.1 0.1 0.1 0.1 0.1 0.1 0.1 0.1 0.1 0.1 \r\n",
      "262063 0.1 0.1 0.1 0.1 0.1 0.100164 0.1 0.1 0.1 0.1 0.1 0.1 0.1 0.100164 0.1 0.1 0.1 0.1 0.1 0.100164 \r\n",
      "262064 0.1 0.1 0.1 0.1 0.1 0.1 0.1 0.1 0.1 0.1 0.1 0.1 0.1 0.1 0.1 0.1 0.1 0.1 0.1 0.1 \r\n",
      "262065 0.1 0.1 0.1 0.1 0.1 0.1 0.1 0.1 0.1 0.1 0.1 0.1 0.1 0.1 0.1 0.1 0.1 0.1 0.1 0.1 \r\n",
      "262066 0.1 0.1 0.1 0.1 0.1 0.1 0.1 0.1 0.1 0.1 0.1 0.1 0.1 0.1 0.1 0.1 0.1 0.1 0.1 0.1 \r\n",
      "262067 0.1 0.1 0.1 0.1 0.1 0.1 0.1 0.1 0.1 0.1 0.1 0.1 0.1 0.1 0.1 0.1 0.1 0.1 0.1 0.1 \r\n",
      "262068 0.10008 0.100177 0.100444 0.100001 0.1 0.1 0.100079 0.100277 0.100031 666.982 0.100642 0.100111 0.10008 0.1 0.100344 0.1 0.100031 0.100229 0.100111 0.1 \r\n",
      "262069 0.1 0.1 0.1 0.1 0.1 0.1 0.1 0.1 0.1 0.1 0.1 0.1 0.1 0.1 0.1 0.1 0.1 0.1 0.1 0.1 \r\n",
      "262070 0.1 0.1 0.1 0.1 0.1 0.1 0.1 0.1 0.1 0.1 0.1 0.1 0.1 0.1 0.1 0.1 0.1 0.1 0.1 0.1 \r\n",
      "262071 0.1 0.1 0.1 0.1 0.1 0.1 0.1 0.1 0.1 0.1 0.1 0.1 0.1 0.1 0.1 0.1 0.1 0.1 0.1 0.1 \r\n",
      "262072 0.1 0.1 0.1 0.1 0.1 0.1 0.1 0.1 0.1 0.1 0.1 0.1 0.1 0.1 0.1 0.1 0.1 0.1 0.1 0.1 \r\n",
      "262073 0.1 0.1 0.100001 0.1 0.1 0.1 0.100001 0.1 0.1 0.1 0.100001 0.1 0.1 0.1 0.1 0.1 0.1 0.1 0.1 0.1 \r\n",
      "262074 0.1 0.1 0.1 0.1 0.1 0.1 0.1 0.1 0.1 0.1 0.1 0.1 0.1 0.1 0.1 0.1 0.1 0.1 0.1 0.1 \r\n",
      "262075 0.1 0.1 0.1 0.1 0.1 0.1 0.1 0.1 0.1 0.1 0.1 0.1 0.1 0.1 0.1 0.1 0.1 0.1 0.1 0.1 \r\n",
      "262076 0.1 0.1 0.100193 0.1 0.100004 0.1 0.100209 0.1 0.10004 0.1 0.1 0.1 0.100004 0.1 0.100027 0.100016 367.394 0.100283 0.1 0.1 \r\n",
      "262077 0.1 0.1 0.1 0.1 0.1 0.1 0.1 0.1 0.1 0.1 0.1 0.1 0.1 0.1 0.1 0.1 0.1 0.1 0.1 0.1 \r\n",
      "262078 0.1 0.1 0.1 0.1 0.1 0.1 0.1 0.1 0.1 0.1 0.1 0.1 0.1 0.1 0.1 0.1 0.1 0.1 0.1 0.1 \r\n",
      "262079 0.1 0.1 0.100046 0.1 0.1 0.1 0.100046 0.100046 0.100046 0.1 0.100115 0.100046 0.1 0.1 0.1 0.1 0.1 0.100185 0.1 0.1 \r\n",
      "262080 0.1 0.1 0.1 0.1 0.1 0.1 0.1 0.1 0.1 0.1 0.1 0.1 0.1 0.1 0.1 0.1 0.1 0.1 0.1 0.1 \r\n",
      "262081 0.1 0.1 0.1 0.1 0.1 0.1 0.1 0.1 0.1 0.1 0.1 0.1 0.1 0.1 0.1 0.1 0.1 0.1 0.1 0.1 \r\n",
      "262082 0.1 0.1 0.1 0.1 0.1 0.1 0.1 0.1 0.1 0.1 0.1 0.1 0.1 0.1 0.1 0.1 0.1 0.1 0.1 0.1 \r\n",
      "262083 0.1 0.1 0.1 0.1 0.1 0.1 0.1 0.1 0.1 0.1 0.1 0.1 0.1 0.1 0.1 0.1 0.1 0.1 0.1 0.1 \r\n",
      "262084 0.1 0.1 0.1 0.1 0.1 0.1 0.1 0.1 0.1 0.1 0.1 0.1 0.1 0.1 0.1 0.1 0.1 0.1 0.1 0.1 \r\n",
      "262085 0.100036 0.1 0.100001 0.1 0.1 0.100036 0.100064 0.100001 0.1 373.476 0.148894 0.1 0.1 0.100064 0.100001 0.1 0.100064 0.122388 0.10016 0.1 \r\n",
      "262086 0.1 0.1 0.1 0.1 0.1 0.1 0.1 0.1 0.1 0.1 0.1 0.1 0.1 0.1 0.1 0.1 0.1 0.1 0.1 0.1 \r\n",
      "262087 0.100001 0.1 685.32 0.1 0.1 0.100005 0.100012 0.1 0.100001 0.105758 0.100001 0.1 0.1 0.1 0.100002 0.1 0.10573 0.100006 0.100005 0.1 \r\n",
      "262088 0.1 0.1 0.1 0.1 0.1 0.1 0.1 0.1 0.1 0.1 0.1 0.1 0.1 0.1 0.1 0.1 0.1 0.1 0.1 0.1 \r\n",
      "262089 0.1 0.1 0.1 0.1 0.1 0.1 0.1 0.1 0.1 0.1 0.1 0.1 0.1 0.1 0.1 0.1 0.1 0.1 0.1 0.1 \r\n",
      "262090 0.1 0.1 0.1 0.1 0.1 0.1 0.1 0.1 0.1 0.1 0.1 0.1 0.1 0.1 0.1 0.1 0.1 0.1 0.1 0.1 \r\n",
      "262091 0.1 0.1 0.1 0.1 0.1 0.1 0.1 0.1 0.1 0.1 0.1 0.1 0.1 0.1 0.1 0.1 0.1 0.1 0.1 0.1 \r\n",
      "262092 0.1 0.1 0.1 0.1 0.1 0.1 0.1 0.1 0.1 0.1 0.1 0.1 0.1 0.1 0.1 0.1 0.1 0.1 0.1 0.1 \r\n",
      "262093 0.1 0.1 0.1 0.1 0.1 0.1 0.1 0.1 0.1 0.1 0.1 0.1 0.1 0.1 0.1 0.1 0.1 0.1 0.1 0.1 \r\n",
      "262094 0.1 0.100013 0.100032 0.1 0.1 0.1 0.100013 0.1 0.1 0.1 0.100091 0.1 0.1 0.1 0.1 0.1 0.1 0.1 0.1 0.1 \r\n",
      "262095 0.1 0.1 0.1 0.1 0.1 0.1 0.1 0.1 0.1 0.1 0.1 0.1 0.1 0.1 0.1 0.1 0.1 0.1 0.1 0.1 \r\n",
      "262096 0.1 0.100595 0.102441 0.100001 0.100595 0.100673 0.100014 0.100641 0.100627 0.1 0.101499 0.1 0.100013 0.100001 0.100005 0.100641 349.946 0.100033 0.1 0.1 \r\n",
      "262097 0.1 0.1 0.1 0.1 0.1 0.1 0.1 0.1 0.1 0.1 0.1 0.1 0.1 0.1 0.1 0.1 0.1 0.1 0.1 0.1 \r\n",
      "262098 0.1 0.1 0.1 0.1 0.1 0.1 0.1 0.1 0.1 0.1 0.1 0.1 0.1 0.1 0.1 0.1 0.1 0.1 0.1 0.1 \r\n",
      "262099 0.1 0.1 0.1 0.1 0.1 0.1 0.1 0.1 0.1 0.1 0.1 0.1 0.1 0.1 0.1 0.1 0.1 0.1 0.1 0.1 \r\n",
      "262100 0.1 0.1 0.1 0.1 0.1 0.1 0.1 0.1 0.1 0.1 0.1 0.1 0.1 0.1 0.1 0.1 0.1 0.1 0.1 0.1 \r\n",
      "262101 0.1 0.1 0.1 0.1 0.1 0.1 0.1 0.1 0.1 0.1 0.1 0.1 0.1 0.1 0.1 0.1 0.1 0.1 0.1 0.1 \r\n",
      "262102 0.1 0.1 0.1 0.1 0.1 0.1 0.1 0.1 0.1 0.1 0.1 0.1 0.1 0.1 0.1 0.1 0.1 0.1 0.1 0.1 \r\n",
      "262103 0.1 0.1 0.1 0.1 0.1 0.1 0.1 0.1 0.1 0.1 0.1 0.1 0.1 0.1 0.1 0.1 0.1 0.1 0.1 0.1 \r\n",
      "262104 0.1 0.1 0.1 0.1 0.1 0.1 0.1 0.1 0.1 0.1 0.1 0.1 0.1 0.1 0.1 0.1 0.1 0.1 0.1 0.1 \r\n",
      "262105 0.1 0.1 0.1 0.1 0.1 0.1 0.1 0.1 0.1 0.1 0.1 0.1 0.1 0.1 0.1 0.1 0.1 0.1 0.1 0.1 \r\n",
      "262106 0.1 0.1 0.1 0.1 0.1 0.1 0.1 0.1 0.1 0.1 0.1 0.1 0.1 0.1 0.1 0.1 0.1 0.1 0.1 0.1 \r\n",
      "262107 0.1 0.1 0.1 0.1 0.1 0.1 0.1 0.1 0.1 0.1 0.1 0.1 0.1 0.1 0.1 0.1 0.1 0.1 0.1 0.1 \r\n",
      "262108 0.1 0.1 0.1 0.1 0.1 0.1 0.1 0.1 0.1 0.1 0.1 0.1 0.1 0.1 0.1 0.1 0.1 0.1 0.1 0.1 \r\n",
      "262109 0.1 0.1 0.1 0.1 0.1 0.1 0.1 0.1 0.1 0.1 0.1 0.1 0.1 0.1 0.1 0.1 0.1 0.1 0.1 0.1 \r\n",
      "262110 0.1 0.1 0.1 0.1 0.1 0.1 0.1 0.1 0.1 0.1 0.1 0.1 0.1 0.1 0.1 0.1 0.1 0.1 0.1 0.1 \r\n",
      "262111 0.1 0.1 0.1 0.1 0.1 0.1 0.1 0.1 0.1 0.1 0.1 0.1 0.1 0.1 0.1 0.1 0.1 0.1 0.1 0.1 \r\n",
      "262112 0.1 0.1 0.1 0.1 0.1 0.1 0.1 0.1 0.1 0.1 0.1 0.1 0.1 0.1 0.1 0.1 0.1 0.1 0.1 0.1 \r\n",
      "262113 0.1 0.1 0.1 0.1 0.1 0.1 0.1 0.1 0.1 0.1 0.1 0.1 0.1 0.1 0.1 0.1 0.1 0.1 0.1 0.1 \r\n",
      "262114 0.1 0.1 0.1 0.1 0.1 0.1 0.1 0.1 0.1 0.1 0.1 0.1 0.1 0.1 0.1 0.1 0.1 0.1 0.1 0.1 \r\n",
      "262115 0.1 0.1 0.1 0.1 0.1 0.1 0.1 0.1 0.1 0.1 0.1 0.1 0.1 0.1 0.1 0.1 0.1 0.1 0.1 0.1 \r\n",
      "262116 0.1 0.1 0.1 0.1 0.1 0.1 0.1 0.1 0.1 0.1 0.1 0.1 0.1 0.1 0.1 0.1 0.1 0.1 0.1 0.1 \r\n",
      "262117 0.1 0.1 0.1 0.1 0.1 0.1 0.1 0.1 0.1 0.1 0.1 0.1 0.1 0.1 0.1 0.1 0.1 0.1 0.1 0.1 \r\n",
      "262118 0.1 0.1 0.1 0.1 0.1 0.1 0.1 0.1 0.1 0.1 0.1 0.1 0.1 0.1 0.1 0.1 0.1 0.1 0.1 0.1 \r\n",
      "262119 0.1 0.1 0.1 0.1 0.1 0.1 0.1 0.1 0.1 0.1 0.1 0.1 0.1 0.1 0.1 0.1 0.1 0.1 0.1 0.1 \r\n",
      "262120 0.1 0.1 0.1 0.1 0.1 0.1 0.1 0.1 0.1 0.1 0.1 0.1 0.1 0.1 0.1 0.1 0.1 0.1 0.1 0.1 \r\n",
      "262121 0.1 0.1 0.110154 0.1 0.1 0.109453 0.1 0.1 0.109562 0.109453 0.137974 0.1 0.109453 0.1 0.1 0.1 0.1 0.151539 0.1 0.1 \r\n",
      "262122 0.1 0.1 0.1 0.1 0.1 0.1 0.1 0.1 0.1 0.1 0.1 0.1 0.1 0.1 0.1 0.1 0.1 0.1 0.1 0.1 \r\n",
      "262123 0.1 0.1 0.1 0.1 0.1 0.1 0.1 0.1 0.1 0.1 0.1 0.1 0.1 0.1 0.1 0.1 0.1 0.1 0.1 0.1 \r\n",
      "262124 0.1 0.1 0.1 0.1 0.1 0.1 0.1 0.1 0.1 0.1 0.1 0.1 0.1 0.1 0.1 0.1 0.1 0.1 0.1 0.1 \r\n",
      "262125 0.1 0.1 0.1 0.1 0.1 0.1 0.1 0.1 0.1 0.1 0.1 0.1 0.1 0.1 0.1 0.1 0.1 0.1 0.1 0.1 \r\n",
      "262126 0.1 0.1 0.1 0.1 0.1 0.1 0.1 0.1 0.1 0.1 0.1 0.1 0.1 0.1 0.1 0.1 0.1 0.1 0.1 0.1 \r\n",
      "262127 0.100029 0.100259 0.1 0.100008 0.100414 0.100037 0.10001 0.100008 1468.79 0.100288 0.100223 0.1 0.1 0.100072 0.100191 0.100003 0.100246 0.100242 0.1 0.100029 \r\n",
      "262128 0.1 0.1 0.1 0.1 0.1 0.1 0.1 0.1 0.1 0.1 0.1 0.1 0.1 0.1 0.1 0.1 0.1 0.1 0.1 0.1 \r\n",
      "262129 0.1 0.1 0.1 0.1 0.1 0.1 0.1 0.1 0.1 0.1 0.1 0.1 0.1 0.1 0.1 0.1 0.1 0.1 0.1 0.1 \r\n",
      "262130 0.1 0.1 0.1 0.1 0.1 0.1 0.1 0.1 0.1 0.1 0.1 0.1 0.1 0.1 0.1 0.1 0.1 0.1 0.1 0.1 \r\n",
      "262131 0.1 0.1 0.1 0.1 0.1 0.1 0.1 0.1 0.1 0.1 0.1 0.1 0.1 0.1 0.1 0.1 0.1 0.1 0.1 0.1 \r\n",
      "262132 0.1 0.1 0.1 0.1 0.1 0.1 0.1 0.1 0.1 0.1 0.1 0.1 0.1 0.1 0.1 0.1 0.1 0.1 0.1 0.1 \r\n",
      "262133 0.1 0.1 0.1 0.1 0.1 0.1 0.1 0.1 0.1 0.1 0.1 0.1 0.1 0.1 0.1 0.1 0.1 0.1 0.1 0.1 \r\n",
      "262134 0.1 0.1 0.1 0.1 0.1 0.1 0.1 0.1 0.1 0.1 0.1 0.1 0.1 0.1 0.1 0.1 0.1 0.1 0.1 0.1 \r\n",
      "262135 0.1 0.1 0.1 0.1 0.1 0.1 0.1 0.1 0.1 0.1 0.1 0.1 0.1 0.1 0.1 0.1 0.1 0.1 0.1 0.1 \r\n",
      "262136 0.1 0.1 0.1 0.1 0.1 0.1 0.1 0.1 0.1 0.1 0.1 0.1 0.1 0.1 0.1 0.1 0.1 0.1 0.1 0.1 \r\n",
      "262137 0.1 0.1 0.1 0.1 0.1 0.100053 0.10008 0.1 0.100039 0.100039 0.1 0.1 0.1 0.1 0.1 0.1 0.1 0.100043 0.1 0.1 \r\n",
      "262138 0.1 0.1 0.1 0.1 0.1 0.1 0.1 0.1 0.1 0.1 0.1 0.1 0.1 0.1 0.1 0.1 0.1 0.1 0.1 0.1 \r\n",
      "262139 0.1 0.1 0.1 0.1 0.1 0.1 0.1 0.1 0.1 0.1 0.1 0.1 0.1 0.100113 0.1 0.100055 0.1 0.1 0.1 0.1 \r\n",
      "262140 0.1 0.1 0.1 0.1 0.1 0.1 0.1 0.1 0.1 0.1 0.1 0.1 0.1 0.1 0.1 0.1 0.1 0.1 0.1 0.1 \r\n",
      "262141 0.1 0.1 0.1 0.110103 0.1 0.1 0.1 0.1 0.110103 0.1 0.1 0.1 0.1 0.1 0.1 0.1 0.1 0.110104 0.1 0.1 \r\n",
      "262142 0.1 0.1 0.1 0.1 0.1 0.1 0.1 0.1 0.1 0.1 0.1 0.1 0.1 0.1 0.1 0.1 0.1 0.1 0.1 0.1 \r\n",
      "262143 0.150254 0.100002 0.100002 0.100002 0.100002 0.100002 0.123318 0.100002 0.100002 0.15012 0.100002 0.100002 0.100002 0.15033 0.100002 107.972 0.100002 0.100002 0.150147 0.100002 \r\n"
     ]
    }
   ],
   "source": [
    "!tail -100 lda.model.vw"
   ]
  },
  {
   "cell_type": "code",
   "execution_count": null,
   "metadata": {},
   "outputs": [],
   "source": []
  },
  {
   "cell_type": "code",
   "execution_count": 66,
   "metadata": {},
   "outputs": [],
   "source": [
    "rows = []\n",
    "with open('lda.model.vw') as fm:\n",
    "    for _ in range(10):\n",
    "        next(fm)\n",
    "    for line in fm:\n",
    "        rows.append(np.array(map(float, line.split()[1:])))"
   ]
  },
  {
   "cell_type": "code",
   "execution_count": 67,
   "metadata": {},
   "outputs": [
    {
     "data": {
      "text/plain": [
       "(262144, 20)"
      ]
     },
     "execution_count": 67,
     "metadata": {},
     "output_type": "execute_result"
    }
   ],
   "source": [
    "matrix = np.vstack(rows)\n",
    "matrix.shape"
   ]
  },
  {
   "cell_type": "code",
   "execution_count": 68,
   "metadata": {},
   "outputs": [
    {
     "name": "stdout",
     "output_type": "stream",
     "text": [
      "\n",
      "Topic  0\n",
      "mastershaper 11649.8\n",
      "contactgroup 12299.3\n",
      "localarray 11960.4\n",
      "how 12637.5\n",
      "to 16980.6\n",
      "endfloat 77239.2\n",
      "messageheaderarray 17293.6\n",
      "categorynotin 100460.0\n",
      "multiboot 86520.9\n",
      "underestimate 25877.0\n",
      "2273 79593.7\n",
      "iexplorerbrowser 17926.9\n",
      "extcore 16005.8\n",
      "oracle00972 15340.4\n",
      "entitymangergetreference 52383.0\n",
      "wmasfwriter 18262.2\n",
      "collegeuniversity 66236.4\n",
      "churchturing 36915.9\n",
      "customercustomer 66949.6\n",
      "— loaderror 64543.7\n",
      "\n",
      "Topic  1\n",
      "robo 19802.1\n",
      "djangoprofiles 123250.0\n",
      "forarrays 23884.2\n",
      "lstdoc 22940.0\n",
      "djangolettuce 20985.3\n",
      "fop095 45548.7\n",
      "rowflash 41591.1\n",
      "dhcpds 29172.7\n",
      "bound 26867.7\n",
      "tcpipv6 40587.4\n",
      "0x05 73663.1\n",
      "rostered 56430.6\n",
      "textcomp 53603.3\n",
      "is 40942.7\n",
      "wrapping 25857.7\n",
      "upd1 36932.4\n",
      "rlm 484116.0\n",
      "c9 21521.8\n",
      "symmetric 26571.4\n",
      "radpageview 44992.6\n",
      "\n",
      "Topic  2\n",
      "compressorfilter 15253.6\n",
      "cosets 15396.8\n",
      "aircrack 21499.7\n",
      "alignregexp 19061.4\n",
      "frac32i 19914.5\n",
      "nonpoweruser 22834.1\n",
      "oracledmtoprebasedataitem 24264.8\n",
      "pops 24819.6\n",
      "wicketchild 30885.6\n",
      "cjuidialog 29787.3\n",
      "maplike 153224.0\n",
      "templatewide 33001.9\n",
      "achievmentsbadgesawards 34078.3\n",
      "filterinputstream 60560.0\n",
      "mousebuttoneventhandler 144600.0\n",
      "sqrtquadmathstrut 130058.0\n",
      "resultsq 87126.8\n",
      "lengenerator 75971.2\n",
      "fileinputstreamreadbyte 30583.1\n",
      "boolexpr 27993.4\n",
      "\n",
      "Topic  3\n",
      "asciimathml 11908.7\n",
      "inputtexts 13814.9\n",
      "antcontribjar 14572.0\n",
      "perfragment 30139.1\n",
      "chaser 17235.2\n",
      "bac 21824.3\n",
      "updatett 15073.7\n",
      "iclosable 15626.8\n",
      "precursive 23070.3\n",
      "changeman 15966.3\n",
      "postfixsearch 297713.0\n",
      "y2x3 52514.3\n",
      "defprotocol 18209.3\n",
      "actionvalidatormanagerfactory 20741.9\n",
      "dhcprequest 21626.0\n",
      "connecttimeout 16139.2\n",
      "skpsmtp 30485.6\n",
      "enterd 23901.1\n",
      "websiteportal 15541.1\n",
      "gtktty1 25801.3\n",
      "\n",
      "Topic  4\n",
      "setwindowhookexwhcallwndproc 8752.81\n",
      "scikits 8880.67\n",
      "simpletap 9662.88\n",
      "v187 10129.3\n",
      "engineh 11254.0\n",
      "sqlbatchstartingsqlbatchcompleted 11445.3\n",
      "nodegettextcontent 12084.8\n",
      "templatedoesnotexistname 12823.0\n",
      "5136 18149.7\n",
      "httphamsawalkingtreein 29323.6\n",
      "wincygwin 19645.3\n",
      "keyyesno 20041.3\n",
      "tg858v8 31132.9\n",
      "lithuaniancias 17930.1\n",
      "tenyear 34281.1\n",
      "firefoxsafari 15098.3\n",
      "quartets 21374.8\n",
      "nonreadable 25298.8\n",
      "ipport 16213.6\n",
      "activerecent 28801.6\n",
      "\n",
      "Topic  5\n",
      "portother 16365.7\n",
      "vagrantfile 19748.6\n",
      "objectattribute 20072.4\n",
      "mirrorraid 38053.0\n",
      "formatinged 31773.4\n",
      "dictionaryticollectionint 22029.6\n",
      "buynow 25227.6\n",
      "mississippi 24322.9\n",
      "formisvalid 23618.0\n",
      "sitecommodulecontrollerfunctionparams 33017.7\n",
      "diminutional 27080.6\n",
      "prize 43573.9\n",
      "usedcalled 51247.0\n",
      "cakephp2xnot 61931.9\n",
      "twitter4jcore225jar 60373.2\n",
      "hashsetlistt 309846.0\n",
      "psr 44903.0\n",
      "customersbasket 60004.4\n",
      "qss 61478.1\n",
      "moduleh 118867.0\n",
      "\n",
      "Topic  6\n",
      "cellformating 17963.6\n",
      "8042 18487.0\n",
      "xaaxle 23111.8\n",
      "emailvalidator 19679.6\n",
      "chefsolos 24199.5\n",
      "coredatageneratedaccessor 150339.0\n",
      "unexcluded 39367.3\n",
      "audioduration 36884.0\n",
      "kernrate 74905.1\n",
      "antl3 39370.3\n",
      "proxyrewrite 31585.3\n",
      "rpccallback 34448.7\n",
      "cvsnt 55042.3\n",
      "orgapachemavenplugins 18576.5\n",
      "fracsin2 106270.0\n",
      "465 21396.6\n",
      "timertask 99114.9\n",
      "funcnumargsfuncgetarg 81505.9\n",
      "fracefrac1x2y2x4y4 47936.1\n",
      "draw9patch 434019.0\n",
      "\n",
      "Topic  7\n",
      "uileftbarbuttonitem 17527.2\n",
      "username2destination 17547.7\n",
      "serializingcopy 17986.8\n",
      "rowelementbackcolor 228990.0\n",
      "myconstructor 386519.0\n",
      "flex4flash 192546.0\n",
      "scstream 22576.3\n",
      "sylpg 69269.0\n",
      "expaterror 22583.1\n",
      "ldd1 54343.4\n",
      "systemtextregularexpressionsregex 18496.2\n",
      "retreaving 18159.7\n",
      "hmathbbrpinftymathbbf2cong 142428.0\n",
      "declarationsize 227857.0\n",
      "testbed 22037.4\n",
      "downwardsloping 26392.6\n",
      "adbcommandrejectedexception 380171.0\n",
      "activereport 28728.6\n",
      "decriptor 18533.8\n",
      "selecthtml 20111.1\n",
      "\n",
      "Topic  8\n",
      "questionhow 15043.5\n",
      "calgebras 15232.4\n",
      "databasesystem 16096.9\n",
      "binlegend 86812.2\n",
      "subfactorial 183462.0\n",
      "riakpythonclient 27105.5\n",
      "wrl 28727.0\n",
      "punch 113743.0\n",
      "galaxytab 142539.0\n",
      "orgpostgresqlutilpgmoney 20750.8\n",
      "qtsoap 38611.8\n",
      "subfeature 66275.0\n",
      "controlvisibility 25945.4\n",
      "renamerefactor 21223.1\n",
      "shippingmodules 29731.8\n",
      "cloaked 19927.9\n",
      "pcmaxlinux 21648.7\n",
      "bgpd 54025.1\n",
      "liccode 22028.0\n",
      "ytaccesscontrol 20542.2\n",
      "\n",
      "Topic  9\n",
      "sytemxml 14648.4\n",
      "gettingattribute 15948.4\n",
      "xforwardedfor 27146.5\n",
      "requiresstaattribute 17140.9\n",
      "nc20 29016.6\n",
      "server2000 30485.9\n",
      "airflash 29056.2\n",
      "mbox2 29282.1\n",
      "u7f51u7ba1u7cfb 35373.1\n",
      "sasson 30391.9\n",
      "nthchilds 36442.7\n",
      "vectorsizetype 117943.0\n",
      "httpxnfanbysexaorgepisodesm4arss 83351.4\n",
      "androidannotaions 152716.0\n",
      "uitableviewcelleditingstyleinsert 48902.1\n",
      "getglue 81643.9\n",
      "5node 45775.8\n",
      "sequenceequal 118092.0\n",
      "paintline 54440.4\n",
      "cmakegui 77950.5\n",
      "\n",
      "Topic  10\n",
      "thesiss 30956.9\n",
      "enumerablejoin 31524.5\n",
      "unicodeself 37497.1\n",
      "serviceobject 37546.5\n",
      "check 41506.1\n",
      "mkinitrd 42757.0\n",
      "activetabchanged 43057.4\n",
      "ios5051 43754.6\n",
      "upladingshow 46596.5\n",
      "xlarge 64773.5\n",
      "shareinvite 1708350.0\n",
      "binaryascii 59208.3\n",
      "mongodbref 135014.0\n",
      "leaksource 458296.0\n",
      "cgfont 282628.0\n",
      "declarationsize 705856.0\n",
      "goole 143807.0\n",
      "directplay 73067.7\n",
      "asseticfiltercoffeescriptfiltersetbare 52697.5\n",
      "80211b 89691.4\n",
      "\n",
      "Topic  11\n",
      "cptlayer 9348.64\n",
      "bella 10775.7\n",
      "htmlescape 9980.77\n",
      "viewdidwillmovetosuperview 9873.87\n",
      "leftk 9855.48\n",
      "opera 10981.7\n",
      "clickoncedeployed 15351.0\n",
      "androidlocationproviderschanged 13996.1\n",
      "left1frac1k3right 12599.6\n",
      "djangosha2 16025.7\n",
      "4stat 25281.3\n",
      "myappwebmodelscurrentuser 22426.4\n",
      "aqrecorder 47816.4\n",
      "tclcreateobjtrace 88215.7\n",
      "passe 17407.5\n",
      "sqrt3x2sqrt3x 63605.3\n",
      "reterival 21360.4\n",
      "ietf 91497.5\n",
      "scalazlistw 41407.1\n",
      "reverseengineer 29431.2\n",
      "\n",
      "Topic  12\n",
      "getpictinfo 21611.4\n",
      "complications 21771.6\n",
      "winerror 22308.2\n",
      "stringfoo 22685.7\n",
      "jzy3djogl 39452.2\n",
      "attributeset 23613.9\n",
      "pubsubagent 38676.1\n",
      "systemwebuipartialcachingcontrol 61898.1\n",
      "selfdestructmethod 23985.9\n",
      "invalidnull 29049.3\n",
      "subtable 73056.7\n",
      "glasspanes 23033.7\n",
      "redcarpetmodule 26046.9\n",
      "cobolnet 26779.7\n",
      "tbsnotifybeforemove 23128.2\n",
      "centervideo 24588.1\n",
      "allfile 57840.1\n",
      "xinmathbbr 150779.0\n",
      "fontspecs 34784.0\n",
      "manner 55003.2\n",
      "\n",
      "Topic  13\n",
      "singlewidth 10458.8\n",
      "initializors 12876.4\n",
      "klinearpcmformatflagisnoninterleaved 14117.7\n",
      "phpcetc 14956.1\n",
      "unexpectely 15432.8\n",
      "xnmathbf 18794.8\n",
      "configcontrol 25697.5\n",
      "maxmessagesize 24464.9\n",
      "modphp5c 25939.8\n",
      "gcexternalalloc 28714.8\n",
      "daocfc 26736.8\n",
      "numberofrowsinsectionnsintegersection 19410.8\n",
      "treemodelfilters 30109.2\n",
      "boldface 24348.8\n",
      "vmfs5 20624.2\n",
      "zero0 33651.0\n",
      "axmsmapi 94536.3\n",
      "pdooracle 103692.0\n",
      "airy 52888.5\n",
      "postdefined 34020.0\n",
      "\n",
      "Topic  14\n",
      "indentlevel 14875.3\n",
      "collectionebooks 15038.3\n",
      "glx 32610.4\n",
      "cosst 17839.5\n",
      "jsonnot 17864.8\n",
      "klops 19862.9\n",
      "cssie7 29745.2\n",
      "astroboy 16114.2\n",
      "qstrings 15221.1\n",
      "coordinatefree 34657.0\n",
      "flite 20544.0\n",
      "generatedclasses 17091.5\n",
      "curlicue 42650.3\n",
      "hardwareio 59845.6\n",
      "onclickreturn 98140.5\n",
      "qundocommand 78177.8\n",
      "ultrasound 42960.4\n",
      "configtaskstats 64206.2\n",
      "stlalloch 59359.0\n",
      "httppasswordmgrwithdefaultrealm 786839.0\n",
      "\n",
      "Topic  15\n",
      "verbmethod 13436.6\n",
      "virtuals 13654.6\n",
      "buildimplxml1025 14779.9\n",
      "changesupdating 20312.7\n",
      "waituntil 15190.3\n",
      "authenticaterequest 18695.9\n",
      "binaryproblem 29116.3\n",
      "libmagicfile 21935.4\n",
      "glcameraripplesample 16267.1\n",
      "proxymock 14965.1\n",
      "percentwidth 16916.1\n",
      "zendtranslate 16902.0\n",
      "poupup 29169.6\n",
      "escnreadincompatible 47076.9\n",
      "dropdemo 515923.0\n",
      "processmainwindowhandle 71626.7\n",
      "statementc30 51376.5\n",
      "tnnt 81747.6\n",
      "wlvm 74983.7\n",
      "abtableviewcell 35640.2\n",
      "\n",
      "Topic  16\n",
      "mysqlcodeigniter 13753.5\n",
      "337 14072.6\n",
      "usbb 14294.4\n",
      "withsame 16119.3\n",
      "applicationproject 17753.3\n",
      "changehow 20013.6\n",
      "26262amd64 21546.8\n",
      "arrayif 21736.3\n",
      "csspie 50210.7\n",
      "deleteallbyattributes 174182.0\n",
      "freetexttable 34193.8\n",
      "localworkconfigrestwrapper 75882.1\n",
      "counter32 32727.4\n",
      "peoplenight 83788.2\n",
      "listcustomer 26070.2\n",
      "unmounted 62817.5\n",
      "autoindenting 618400.0\n",
      "textviewimagebuttoncheckbox 46395.1\n",
      "sdlkeyup 23975.1\n",
      "builtinprefetch 92509.4\n",
      "\n",
      "Topic  17\n",
      "policing 31802.9\n",
      "contenteditable 33005.7\n",
      "h2drxc 31884.6\n",
      "rocr 38353.6\n",
      "gwtrpcdatasource 37301.6\n",
      "seqlogo 34425.5\n",
      "gitolite 32645.4\n",
      "mlabroll 32700.9\n",
      "libpng 38953.1\n",
      "nswindowrestoration 44042.4\n",
      "intraweb 77691.5\n",
      "enjoying 1370310.0\n",
      "sdot 1251510.0\n",
      "cwin32mfc 81288.3\n",
      "systemwebconfigurationmachinekeysectiongetdecodeddata 48811.5\n",
      "rsa15 202013.0\n",
      "allowednot 69797.9\n",
      "dinterval 68932.6\n",
      "mkfifoed 89750.5\n",
      "omegax3y3 133682.0\n",
      "\n",
      "Topic  18\n",
      "msgridrowalign 11334.0\n",
      "circleease 14805.9\n",
      "simpletemplateid 12141.5\n",
      "userwritten 12691.0\n",
      "tpicture 12905.9\n",
      "dictates 12628.7\n",
      "scorched 17338.2\n",
      "metafontbook 17531.2\n",
      "desktop 18855.9\n",
      "creationsurvey 38725.6\n",
      "valueexpression 24645.2\n",
      "apachegetmodules 20821.2\n",
      "showallifambiguous 22440.4\n",
      "mms2r 545819.0\n",
      "twowaylike 63702.4\n",
      "javarmi 35624.6\n",
      "oauthconsumerkey 19099.9\n",
      "systempartition 23419.3\n",
      "gwtmvp 40045.3\n",
      "htmljsp 44449.7\n",
      "\n",
      "Topic  19\n",
      "2014000 12787.2\n",
      "javascriptiframeembedobject 13417.2\n",
      "sentest 13966.5\n",
      "scancodes 14161.4\n",
      "wwwsitecompagehtmbookmark 39577.8\n",
      "obfuscates 17877.7\n",
      "twocolum 19305.7\n",
      "ambiguousness 49487.2\n",
      "myvarmymethod 54190.6\n",
      "contextlib 19698.1\n",
      "codedotfulbucketnamenotundertld 23576.0\n",
      "afxglobalsh 17863.9\n",
      "uitablecells 15511.6\n",
      "diffirently 16754.8\n",
      "xf8ff 27404.5\n",
      "rowtable 19220.0\n",
      "hyperlinkclick 37116.9\n",
      "if 21857.0\n",
      "boxplots 19467.7\n",
      "unsual 34779.9\n"
     ]
    }
   ],
   "source": [
    "for idx, column in enumerate(matrix.T):\n",
    "    ind = np.argpartition(column, -20)[-20:]\n",
    "    print '\\nTopic ', idx\n",
    "    for i, p in zip(ind, column[ind]):\n",
    "        print id_to_word[i], p"
   ]
  },
  {
   "cell_type": "markdown",
   "metadata": {},
   "source": [
    "1. Документация\n",
    "https://github.com/JohnLangford/vowpal_wabbit/wiki/\n",
    "2. Туториал Юрия Кашницкого с примерами\n",
    "https://www.kaggle.com/kashnitsky/vowpal-wabbit-tutorial-blazingly-fast-learning"
   ]
  },
  {
   "cell_type": "markdown",
   "metadata": {},
   "source": [
    "# Замечания по дз"
   ]
  },
  {
   "cell_type": "code",
   "execution_count": null,
   "metadata": {},
   "outputs": [],
   "source": [
    "# mapper.py\n",
    "\n",
    "import sys\n",
    "\n",
    "\n",
    "for line in sys.stdin:\n",
    "    words = line.lower().split()\n",
    "    for w in words:\n",
    "        print >> sys.stdout, '{}\\t1'.format(w)"
   ]
  },
  {
   "cell_type": "code",
   "execution_count": null,
   "metadata": {},
   "outputs": [],
   "source": [
    "# reducer.py\n",
    "\n",
    "import sys\n",
    "from itertools import groupby\n",
    "\n",
    "\n",
    "for key, group in groupby((l.split('\\t') for l in sys.stdin), key=lambda x: x[0]):\n",
    "    print >> sys.stdout, '{}\\t{}'.format(key, sum(int(g[1]) for g in group))"
   ]
  },
  {
   "cell_type": "markdown",
   "metadata": {},
   "source": [
    "### Уменьшение количества данных, пересылаемых на редьюсер"
   ]
  },
  {
   "cell_type": "code",
   "execution_count": 97,
   "metadata": {},
   "outputs": [],
   "source": [
    "# cache!\n",
    "import sys\n",
    "from collections import Counter\n",
    "\n",
    "\n",
    "words_cache = Counter()\n",
    "\n",
    "for line in sys.stdin:\n",
    "    words = line.lower().split()\n",
    "    \n",
    "    for w in words:\n",
    "        words_cache[w] += 1\n",
    "        \n",
    "for k, v in words_cache:\n",
    "    print >> sys.stdout, '{}\\t{}'.format(k, v)"
   ]
  },
  {
   "cell_type": "markdown",
   "metadata": {},
   "source": [
    "Кэш может переполниться"
   ]
  },
  {
   "cell_type": "code",
   "execution_count": null,
   "metadata": {},
   "outputs": [],
   "source": [
    "# cache!\n",
    "import sys\n",
    "from collections import Counter\n",
    "\n",
    "\n",
    "words_cache = Counter()\n",
    "\n",
    "for line in sys.stdin:\n",
    "    words = line.lower().split()\n",
    "    \n",
    "    for w in words:\n",
    "        words_cache[w] += 1\n",
    "        \n",
    "    if len(words_cache) > 100000:\n",
    "        for k, v in words_cache:\n",
    "            print >> sys.stdout, '{}\\t{}'.format(k, v)\n",
    "        words_cache = Counter()\n",
    "        \n",
    "for k, v in words_cache:\n",
    "    print >> sys.stdout, '{}\\t{}'.format(k, v)"
   ]
  },
  {
   "cell_type": "markdown",
   "metadata": {},
   "source": [
    "# Буферизация входных данных\n",
    "\n",
    "Проблема обработки предложений"
   ]
  },
  {
   "cell_type": "code",
   "execution_count": 98,
   "metadata": {},
   "outputs": [],
   "source": [
    "# cache!\n",
    "import sys\n",
    "\n",
    "\n",
    "text_batch = ''\n",
    "\n",
    "def get_sentenses(batch):\n",
    "    # your code to get sentenses\n",
    "    return ['a', 'b']\n",
    "\n",
    "\n",
    "for idx, line in enumerate(sys.stdin):\n",
    "    \n",
    "    if idx % 1000 == 0:\n",
    "        sentences = get_sentenses(text_batch) \n",
    "        text_batch = sentences[-1]\n",
    "        sentences = sentences[:-1]\n",
    "        \n",
    "        # do magic with sentences here\n",
    "        \n",
    "    text_batch += ' ' + line\n",
    "    \n",
    "# do not forget to do magic with last sentence"
   ]
  },
  {
   "cell_type": "markdown",
   "metadata": {},
   "source": [
    "# Нюансы обработки пар"
   ]
  },
  {
   "cell_type": "markdown",
   "metadata": {},
   "source": [
    "('word1', 'word2') - это ключ  \n",
    "('word2', 'word1') - другой ключ  \n",
    "=> делаем сортировку"
   ]
  },
  {
   "cell_type": "markdown",
   "metadata": {},
   "source": [
    "Ключ может быть составным (нужен уникальный символ):"
   ]
  },
  {
   "cell_type": "code",
   "execution_count": null,
   "metadata": {},
   "outputs": [],
   "source": [
    "print >> sys.stdout, '{}.{}\\t{}'.format(w1, w2, v)"
   ]
  }
 ],
 "metadata": {
  "colab": {
   "default_view": {},
   "name": "lecture24_networks",
   "provenance": [],
   "version": "0.3.2",
   "views": {}
  },
  "kernelspec": {
   "display_name": "Python 3",
   "language": "python",
   "name": "python3"
  },
  "language_info": {
   "codemirror_mode": {
    "name": "ipython",
    "version": 3
   },
   "file_extension": ".py",
   "mimetype": "text/x-python",
   "name": "python",
   "nbconvert_exporter": "python",
   "pygments_lexer": "ipython3",
   "version": "3.6.5"
  }
 },
 "nbformat": 4,
 "nbformat_minor": 1
}
