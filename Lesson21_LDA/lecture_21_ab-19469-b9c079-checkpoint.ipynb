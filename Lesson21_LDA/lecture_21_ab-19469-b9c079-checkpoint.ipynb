{
 "cells": [
  {
   "cell_type": "markdown",
   "metadata": {},
   "source": [
    "<img src='otus.png'>"
   ]
  },
  {
   "cell_type": "markdown",
   "metadata": {},
   "source": [
    "# A/B-тестирование"
   ]
  },
  {
   "cell_type": "markdown",
   "metadata": {},
   "source": [
    "## План\n",
    "1. Что такое AB тест,  интересные примеры AB тестов\n",
    "2. Как правильно организовать AB тест\n",
    "3. Математический аппарат для проверки гипотез\n",
    "4. Практический пример\n",
    "5. Другие продходы\n",
    "6. Вопросы и опросы"
   ]
  },
  {
   "cell_type": "markdown",
   "metadata": {},
   "source": [
    "# 1.Что такое AB тест и некоторые интересные примеры"
   ]
  },
  {
   "cell_type": "markdown",
   "metadata": {},
   "source": [
    "Рассмотрим несколько примеров пользовательского опыта.\n",
    "\n",
    "https://www.wordstream.com/blog/ws/2012/09/25/a-b-testing"
   ]
  },
  {
   "cell_type": "markdown",
   "metadata": {},
   "source": [
    "#### 1. PPC ads - Pay per click ads. Варианты отображения рекламы.\n",
    "\n",
    "* A. Get \\$10 off the first purchase. Book online now!\n",
    "* B. Get an additional \\$10 off. Book online now. \n",
    "\n",
    "The CTR doubled with option … B.  \n",
    "CTR - click-through rate.  \n",
    "На рекламу из варианта B кликов больше.  "
   ]
  },
  {
   "cell_type": "markdown",
   "metadata": {},
   "source": [
    "#### 2. Выбор цвета и формы кнопки заказа\n",
    "<img src=\"button-ab-test.png\">\n",
    "\n",
    "Использование второго варианта кнопки увеличило конверсию на 11%"
   ]
  },
  {
   "cell_type": "markdown",
   "metadata": {},
   "source": [
    "https://www.widerfunnel.com/case-studies/babyage-com-e-commerce-retailer-lifts-sales-conversion-rate-by-22-with-conversion-rate-optimization/\n",
    "\n",
    "#### 3. Выбор компоновки элементов сайта\n",
    "\n",
    "1. <img src=\"BabyAge_Control.jpg\">\n",
    "2. <img src=\"BabyAge_Variation.jpg\">\n",
    "\n",
    "2: Winning Test Page Variation – 22% higher sales conversion rate"
   ]
  },
  {
   "cell_type": "markdown",
   "metadata": {},
   "source": [
    "Часто возникает необходимость принимать решения о реализации задачи, которое в дальнейшем повлияет на продукт. Так или иначе решение повлияет на прибыль.\n",
    "\n",
    "Какие решения мы принимаем?\n",
    "\n",
    "* цвет кнопки\n",
    "* порядок слов\n",
    "* расположение рекламного баннера\n",
    "* расположение блока рекомендаций\n",
    "* обязательность полей в форме регистрации\n",
    "* ...\n",
    "* ваши примеры?\n",
    "\n",
    "Нужен инструмент, позволяющий среди многих вариантов выбрать наиболее выгодное решение.  \n",
    "Что это означает?  \n",
    "\n",
    "Нельзя заранее сказать, какое решение будет более выгодным. Часто выгодный вариант не является ожидаемым. Каждый выбор должен быть обоснованным, нужно иметь возможность доказать, что решение будет наилучшим.\n",
    "\n"
   ]
  },
  {
   "cell_type": "markdown",
   "metadata": {},
   "source": [
    "## Концепция A/B-теста\n",
    "\n",
    "<img src=\"ab_test_3_kak_provoditsya_ab_testirovanie.jpg\">\n",
    "\n",
    "* **Фиксируем** некоторую версию\n",
    "* Всех пользователей делим на **две (или несколько) группы**\n",
    "* Половина пользователей видит **старую** версию\n",
    "* Половина пользователей видит **новую** версию\n",
    "* Измеряем **метрику** в течение некоторого **периода**\n",
    "* **Анализируем** результат\n",
    "* Принимаем **решение**\n",
    "\n"
   ]
  },
  {
   "cell_type": "markdown",
   "metadata": {},
   "source": [
    "### Для чего нужен A/B-тест?\n",
    "\n",
    "Повторение всех этапов такого процесса позволяет постоянно проводить экперименты и достигать существенного увеличения прибыли в бизнесе. \n",
    "\n",
    "Пример - компания Барака Обамы 2008 года. Выбор между видео и изображением в пользу изображения позволил собрать дополнительные 57 млн долл. пожертвований.\n",
    "\n",
    "Наличие такого инструмента позволяет проводить сотни экспериментов и последовательно искать пути повышения прибыли."
   ]
  },
  {
   "cell_type": "markdown",
   "metadata": {},
   "source": [
    "### Для чего A/B-тест в нашем курсе?\n",
    "\n",
    "Что еще можно протестировать?\n",
    "\n",
    "* Новый алгоритм ранжирования поисковой выдачи\n",
    "* Новый способ давать рекомендации (1, 2 или 5?)\n",
    "* Новый алгоритм рекомендации товаров\n",
    "* Новая модель, предсказывающая, кликнет ли пользователь на рекламу\n",
    "* Новая модель ...\n",
    "* Ваши варианты?\n",
    "\n",
    "Всегда нужно обосновывать, почему нужно внедрить новый алгоритм или новую модель. Лучше всего для этого работает хорошо оформленная презентация и достоверные числа на проведенном эксперименте.  \n",
    "Если работа проделана, но не протестирована и не внедрена - работа не сделана"
   ]
  },
  {
   "cell_type": "markdown",
   "metadata": {},
   "source": [
    "# 2. Как правильно организовать A/B тест"
   ]
  },
  {
   "cell_type": "markdown",
   "metadata": {},
   "source": [
    "## Подготовительный этап"
   ]
  },
  {
   "cell_type": "markdown",
   "metadata": {},
   "source": [
    "## Критерии эффективности\n",
    "\n",
    "До начала тестирования нужно зафиксировать метрики или т.н. прокси-метрики.\n",
    "\n",
    "Метрики связаны с бизнесом напрямую - объем прибыли.\n",
    "Иногда их нельзя измерить напрямую, например количество пользователей, полностью прошедших полугодовую обучающую программу, но можно измерить косвенно, например количество пользователей, нажавших на кнопку регистрации на курс (повышение конверсии)"
   ]
  },
  {
   "cell_type": "markdown",
   "metadata": {},
   "source": [
    "## A/A-тестирование\n",
    "\n",
    "A/A тестирование - тестирование, в котором обе группы контрольные. Это позволяет провести эксперимент от начала и до конца и расчитать метрики без внедрения новой функциональности.  \n",
    "Это надежный способ узнать о статистической значимости эксперимента и протестировать инфраструктуру эксперимента.\n",
    "\n",
    "Если в A/A видно различие в выборках, значит в постановке эксперимента есть существенные ошибки.\n",
    "\n",
    "* (+) мониторинг инфраструктуры\n",
    "* (+) мониторинг изменения метрики \n",
    "* (-) потеря денег (недополученная прибыль)\n",
    "* (+) возможность вычислить дисперсию выборки (понадобится для проверки гипотез)\n",
    "* (+) возможность попробовать тестирование на практике при первом внедрении без рисков"
   ]
  },
  {
   "cell_type": "markdown",
   "metadata": {},
   "source": [
    "## Планирование A/B-теста\n",
    "\n",
    "Все этапы эксперимента должны быть определены заранее.\n",
    "\n",
    "Список контрольных вопросов:\n",
    "\n",
    "**Цель**\n",
    "- в чем цель этого теста?  \n",
    "\n",
    "**Зоны ответственности**\n",
    "- кто представитель от бизнеса? \n",
    "- кто отвечает за реализацию теста?\n",
    "- кто осуществляет аналитику?\n",
    "\n",
    "**Планирование эксперимента**\n",
    "- кто входит в тестовую и контрольную группы?\n",
    "- каковы нулевая и альтернативная гипотеза?\n",
    "- какие показатели планируется отслеживать?\n",
    "- когда начало тестирования?\n",
    "- с какого момента начинается эксперимент для аналитических целей (есть ли эффект новизны)?\n",
    "- сколько продлится тест?\n",
    "- каков размер выборки?\n",
    "\n",
    "**Процесс анализа**  \n",
    "- кто будет проводить анализ?\n",
    "- какой вид анализа будет проводиться?\n",
    "- когда начнется процесс анализа?\n",
    "- когда завершится процесс анализа?\n",
    "- какое ПО будет использоваться для проведения анализа?\n",
    "\n",
    "**Результаты**\n",
    "- как будут распространяться результаты анализа?\n",
    "- как будет приниматься окончательное решение?\n"
   ]
  },
  {
   "cell_type": "markdown",
   "metadata": {},
   "source": [
    "## Размер выборки \n",
    "\n",
    "см дальше в блокноте"
   ]
  },
  {
   "cell_type": "markdown",
   "metadata": {},
   "source": [
    "## Проведение тестирования\n",
    "\n",
    "### Выбор участников тестирования\n",
    "\n",
    "* определить критерии отбора участников тестирования\n",
    "\n",
    "Например, нужно протестировать функциональность только для пользователей сервиса женского пола. Или только для пользователей Москвы.\n",
    "\n",
    "* обеспечить стратификацию (соотношение пользователей разных типов)\n",
    "\n",
    "* определить соотношение пользователей в выборках\n",
    "\n",
    "Есть соблазн проводить тестирование на очень маленькой выборке пользователей. Тестирование нужно будет проводить дольше, чем если выборка будет большая. Это может быть сильно дороже.\n",
    "\n",
    "* определить механизм разделения пользователей\n",
    "  * учесть повторные заходы на сайт одного и того же пользователя\n",
    "  * учесть возможность неравномерного распределения идентификаторов. Например первая цифра в ID или остаток от деления хэша ID на 2\n",
    "\n",
    "* определить условия возможного эффекта новизны\n",
    "  * пользователь регулярно заходит на сайт и видит новый дизайн. В ужасе закрывает, на следующий день заходит снова. Можем увидеть резкое изменение характеристики из-за такого фактора.\n",
    "  "
   ]
  },
  {
   "cell_type": "markdown",
   "metadata": {},
   "source": [
    "## Начало тестирования\n",
    "\n",
    "Пример схемы тестирования\n",
    "* 1% пользователей направляется в тестовую группу на 4 часа\n",
    "* 5% пользователей направляется в тестовую группу на 4 часа (дополнительные 4%)\n",
    "* 20% пользователей направляется в тестовую группу на 4 часа\n",
    "* 50% пользователей направляется в тестовую группу на оставшееся время тестирования\n",
    "\n",
    "Такой подход позволяет мониторить метрики и остановить тестирование в случае, если что-то идет не так"
   ]
  },
  {
   "cell_type": "markdown",
   "metadata": {},
   "source": [
    "## Завершение тестирования\n",
    "\n",
    "Отслеживать нужно размер выборки.\n",
    "**Нельзя останавливать тестирование, когда достигнут значимый результат**"
   ]
  },
  {
   "cell_type": "markdown",
   "metadata": {},
   "source": [
    "# 3. Математический аппарат для проверки гипотез"
   ]
  },
  {
   "cell_type": "markdown",
   "metadata": {},
   "source": [
    "## Методы:\n",
    " - t-test, количественный отклик и данные распределены нормально (можем использовать и для бинарных данных при большом объеме выборки)\n",
    " - Mann-Whitney, Kruskall Whallis, количественный отклик и распределены не нормально\n",
    " - 2P proportion test - отклик бинарный (Биномиальное распределение)\n",
    " \n",
    "<img src='ab_process.png'>"
   ]
  },
  {
   "cell_type": "markdown",
   "metadata": {},
   "source": [
    "### Биномиальное распределение\n",
    "\n",
    "#### Распределение бернулли\n",
    "Дискретное распределение, случайная величина может принимать 2 значения:\n",
    "\n",
    "X - случайная величина\n",
    "* значение 1 с вероятностью p\n",
    "* значение 0 c вероятность q = 1 - p\n",
    "\n",
    "#### Биномиальное распределение\n",
    "Дискретное распределение, случайная величина представляет собой количество успехов в серии n независимых экспериментов. Подбрасываем монетку 10 раз, какая вероятность, что будет 0, 1, 2 .. 10 орлов.\n",
    "\n",
    "Более формально:\n",
    "\n",
    "$X_i$ - независимые, одинакого распределенные случайные величины бернулли (одинаковые значение p)\n",
    "\n",
    "Y - случайная величина, с биномиальным распределением\n",
    "\n",
    "$Y = X_1 + X_2 + ... + X_n$\n",
    "\n",
    "$Y = Bin(n, p)$\n",
    "\n",
    "\n",
    "#### Вопрос:\n",
    "Пусть n=2, p=0.5\n",
    "    - сколько значения может принять случайная величина\n",
    "    - какие значения она может принять?\n",
    "    - с какими веротностями?\n",
    "\n",
    "\n",
    "Можно использовать, когда:\n",
    "* ровно два исхода\n",
    "* события независимы\n",
    "* все события из одного и того же распределения \n",
    "\n",
    "Рассмотрим факт клика на кнопку.\n",
    "Вероятность клика p=3/4\n",
    "\n",
    "Клик - success, отсутствие клика - failure\n",
    "\n",
    "Событие - пользователь видит кнопку и кликает или не кликает.\n",
    "\n",
    "Фиксируем N - количество событий.\n",
    "\n",
    "При N = 10, какова вероятность получить 0, 1, 2, 3, ... 10 успехов?"
   ]
  },
  {
   "cell_type": "markdown",
   "metadata": {},
   "source": [
    "# Связь распределения бернулли и нормального распределения\n",
    "\n",
    "### Вопросы:\n",
    " - что такое нормально распределение?\n",
    " - сколькими параметрами характеризуется нормально распределение?\n",
    " - что означают эти параметры?"
   ]
  },
  {
   "cell_type": "code",
   "execution_count": 1,
   "metadata": {},
   "outputs": [
    {
     "name": "stdout",
     "output_type": "stream",
     "text": [
      "Populating the interactive namespace from numpy and matplotlib\n"
     ]
    }
   ],
   "source": [
    "%pylab inline\n",
    "plt.rcParams['figure.figsize'] = (10, 6)"
   ]
  },
  {
   "cell_type": "code",
   "execution_count": 2,
   "metadata": {
    "collapsed": true
   },
   "outputs": [],
   "source": [
    "import matplotlib.pyplot as plt\n",
    "import numpy as np\n",
    "import ipywidgets as ipy\n",
    "import numpy as np\n",
    "import scipy\n",
    "from scipy import stats"
   ]
  },
  {
   "cell_type": "markdown",
   "metadata": {
    "collapsed": true
   },
   "source": [
    "будем использовать виджеты, для визуализации. Инструкция по установке:\n",
    "\n",
    "https://ipywidgets.readthedocs.io/en/latest/user_install.html\n",
    "\n",
    "```bash\n",
    "# pip\n",
    "pip install ipywidgets\n",
    "jupyter nbextension enable --py widgetsnbextension\n",
    "\n",
    "# conda\n",
    "conda install -c conda-forge ipywidgets\n",
    "\n",
    "# conda multiple environments\n",
    "conda install -n base -c conda-forge widgetsnbextension\n",
    "conda install -n py36 -c conda-forge ipywidgets\n",
    "```"
   ]
  },
  {
   "cell_type": "code",
   "execution_count": 4,
   "metadata": {},
   "outputs": [
    {
     "data": {
      "application/vnd.jupyter.widget-view+json": {
       "model_id": "7a21015de0cf4739b042dd265937fbf4",
       "version_major": 2,
       "version_minor": 0
      },
      "text/plain": [
       "interactive(children=(IntSlider(value=10, description='n', max=1000, min=1), FloatSlider(value=0.1, descriptio…"
      ]
     },
     "metadata": {},
     "output_type": "display_data"
    }
   ],
   "source": [
    "@ipy.interact(\n",
    "    n=ipy.widgets.IntSlider(value=10, min=1, max=1000),\n",
    "    p=ipy.FloatSlider(min=0, max=1, step=0.05, value=0.1))\n",
    "def bin_plot(n, p):\n",
    "    x = np.arange(stats.binom.ppf(0.01, n, p), stats.binom.ppf(0.99, n, p))\n",
    "    plt.plot(x, stats.binom.pmf(x, n, p), 'bo', ms=8, label='binom pmf')\n",
    "    plt.vlines(x, 0, stats.binom.pmf(x, n, p), colors='b', lw=5, alpha=0.5)\n",
    "    plt.show()"
   ]
  },
  {
   "cell_type": "markdown",
   "metadata": {},
   "source": [
    "\n",
    "Среднее и дисперсия для биномиального распределения:\n",
    "\n",
    "Y ~ bin(n, p):\n",
    "\n",
    "E[Y] = np\n",
    "\n",
    "E[$ Y^2 $] = np(1 - p)\n",
    "\n",
    "p - можем оценить как отношение количества кликов к количеству показов"
   ]
  },
  {
   "cell_type": "markdown",
   "metadata": {},
   "source": [
    "## Шаги тестирования гипотез\n",
    "\n",
    "1) Сформулировать гипотезы (что мы тестируем/сравниваем)\n",
    "\n",
    "2) Выбрать практическую разницу для бизнеса $d$\n",
    "\n",
    "3) Зафиксировать риски (параметры $\\alpha$ и $\\beta$)\n",
    "\n",
    "4) Зная риски и $d$ посчитать необходимый объем выборки\n",
    "\n",
    "5) Собрать данные\n",
    "\n",
    "6) Посчитать уровень статзначимости и сделать вывод о том можно ли отвергать нулевую гипотезу"
   ]
  },
  {
   "cell_type": "markdown",
   "metadata": {},
   "source": [
    "### Постановка гипотез\n",
    "\n",
    "**Нулевая гипотеза**\n",
    "\n",
    "Основное предположение об отсутствии разницы между сравниваемыми вариантами.\n",
    "\n",
    "Например:\n",
    "Предполагаем, что CTR в контрольной группе = CTR в тестируемой группе.\n",
    "\n",
    "\n",
    "**Альтернативная гипотеза**\n",
    "\n",
    "Предположение, к которому приходим, если опровергается нулевая гипотеза.\n",
    "\n",
    "Например:\n",
    "CTR в контрольной группе != CTR в тестируемой группе.\n",
    "\n",
    "**Практически значимая разница для бизнеса $d$**\n",
    "\n",
    "Тот эффект при котором мы считаем, что одна опция лучше чем другая.\n",
    "\n",
    "\n",
    "\n",
    "*** Риски ***\n",
    "\n",
    "$\\alpha$ - ложно положительная ошибка, ошибка первого рода, отвергаем нулевую гипотезу, когда в реальности она верна, то есть ошибочно делаем вывод, что есть разница между 2 опциями\n",
    "\n",
    "$\\beta$ - ложно отрицательаня ошибка, ошибка второго рода, не отвергаем нулевую гипотезу, когда в реальности верна альтернативная гипотеза, ошибочно делаем вывод, что нет разницы, когда она есть (про это очень часто забывают)\n",
    "\n",
    "$1 - \\beta$ - называют мощностью (power). Вероятность увидеть разницу если она есть. \n",
    "\n",
    "\n",
    "оба этих риска мы можем контролировать объемом выборки:\n",
    "\n",
    "http://www.evanmiller.org/ab-testing/sample-size.html\n",
    "\n",
    "\n",
    "<img src='Hypothesis-Testing.jpg'>"
   ]
  },
  {
   "cell_type": "markdown",
   "metadata": {},
   "source": [
    "## Подсчет уровня статзначимости, идея:\n",
    "\n",
    "Когда установлены риски, собраны данные мы делаем следующее:\n",
    "\n",
    "1) Считаем по данным определенную статистику/число (зависит от теста).\n",
    "\n",
    "2) Считаем что при верной нулевой гипотезе эта статистика распределена определенным образом.\n",
    "\n",
    "3) Смотрим какую вероятность мы получаем нашей посчитанной статистики при условии нулевой гипотезы.\n",
    "\n",
    "\n",
    "\n",
    "<img src='AB-Testing-Normal-Curve.jpg'>"
   ]
  },
  {
   "cell_type": "markdown",
   "metadata": {},
   "source": [
    "\n",
    "Расмотрим пример с кнопкой.\n",
    "\n",
    "Какую кнопку лучше поставить на сайт синюю или красную?\n",
    "\n",
    "**Нулевая гипотеза**: значения CTR для синей кнопки и для красной кнопки одинаковы\n",
    "\n",
    "**Альтернативная гипотеза**: значения CTR для синей кнопки и для красной кнопки различаются\n",
    "\n",
    "Для обеих групп можем вычислить вероятность клика на кнопку. Получаем два биномиальных распределения. Нам нужно оценить совпадают они, или отличаются\n",
    "\n",
    "$$H_0: \\hat{p}_{red} - \\hat{p}_{blue} = 0$$\n",
    "$$H_1: \\hat{p}_{red} - \\hat{p}_{blue} \\neq 0$$\n",
    "\n",
    "Вычислить: $$p(\\hat{p}_{red} - \\hat{p}_{blue} | H_0)$$\n",
    "\n",
    "Выберем уровень значимости 5% (исторически берут такое значение, но надо понимать, что это означает риск ложно положительной ошибки).\n",
    "\n",
    "Это означает, что мы отвергнем нулевую гипотезу при $$p(\\hat{p}_{red} - \\hat{p}_{blue} | H_0) < 0.05 = \\alpha$$\n",
    "\n",
    "Наша цель понять, то, что распределения не совпали это случайность? Или то, что они не совпали не может быть случайностью (случайный исход маловероятен)\n",
    "\n",
    "Чтобы оценить два распределения, нужно знать стандартное отклонение - вторая характеристика нормального распределения. Нам она неизвестна. Поэтому пользуемся объединенным стандартным отклонением.\n",
    "\n",
    "\n",
    "$x_{red}, x_{blue}$ - количество пользователей, сделавших клик в каждой группе\n",
    "\n",
    "$n_{red}, n_{blue}$ - общее количество пользователей\n",
    "\n",
    "Объединенная вероятность клика:\n",
    "$$\\hat{p}_{pool} = \\frac{x_{red}+ x_{blue}}{n_{red}+ n_{blue}}$$\n",
    "\n",
    "Объединенное стандартное отклонение:\n",
    "$$ SE_{pool} = \\sqrt{\\hat{p}_{pool}\\cdot(1-\\hat{p}_{pool})\\cdot(\\frac{1}{n_{red}} + \\frac{1}{n_{blue}})}$$\n",
    "\n",
    "Разность для гипотезы:\n",
    "\n",
    "$$\\hat{d}=\\hat{p}_{red} - \\hat{p}_{blue}$$\n",
    "\n",
    "Гипотеза:\n",
    "$H_0: d = 0, \\hat{d} \\sim \\mathcal{N}(0, SE_{pool})$\n",
    "\n",
    "Отклоним нулевую гипотезу если:\n",
    "\n",
    "$$\\hat{d} > 1.96 \\cdot SE_{pool}$$\n",
    "\n",
    "или\n",
    "\n",
    "$$\\hat{d} < - 1.96 \\cdot SE_{pool}$$\n",
    "\n",
    "это еще называют rejection region\n",
    "\n",
    "\n",
    "## Важно\n",
    "Если $\\hat{d}$ не попадает в rejection region, то в общем случае мы не можем говорить, что мы принимаем нулевую гипотезу и разницы нет. Правильная интерпретация -- нет свидетельств, чтобы отвергнуть нулевую гипотезу / нет свидетельств, что есть разница. А свидетельств может не быть так как выборка очень маленькая.\n",
    "\n",
    "Поэтому очень важно перед экспериментом удостовериться, что у нас высокая мощность, чтобы в тесте увидеть нужный нам эффект. \n",
    "\n",
    "Так как если у нас мощность равна 50%, то мы в половине случаев будем делать неправильные выводы."
   ]
  },
  {
   "cell_type": "code",
   "execution_count": 5,
   "metadata": {},
   "outputs": [
    {
     "data": {
      "application/vnd.jupyter.widget-view+json": {
       "model_id": "394a203af3f8467e93081794aedd87c8",
       "version_major": 2,
       "version_minor": 0
      },
      "text/plain": [
       "interactive(children=(FloatLogSlider(value=1e-05, description='l1', max=5.0, min=-5.0), FloatSlider(value=1.0,…"
      ]
     },
     "metadata": {},
     "output_type": "display_data"
    }
   ],
   "source": [
    "@ipy.interact(\n",
    "    l1=ipy.FloatLogSlider(value=0, min=-5, max=5, step=0.1),\n",
    "    l2=ipy.FloatSlider(value=1, min=-5, max=5, step=0.1))\n",
    "def plot_gauss(l1, l2):\n",
    "    left = min(l1, l2) - 4\n",
    "    right = max(l1, l2) + 4\n",
    "    \n",
    "    \n",
    "    x = np.linspace(left, right, 160)\n",
    "    y1 = stats.norm.pdf(x, loc=l1)\n",
    "    y2 = stats.norm.pdf(x, loc=l2)\n",
    "    \n",
    "    plt.plot(x, y1)\n",
    "    plt.plot(x, y2)\n",
    "    plt.show()"
   ]
  },
  {
   "cell_type": "markdown",
   "metadata": {},
   "source": [
    "# Пример расчета 2 sample t-test\n",
    "\n",
    "Рассмотрим две независимые выборки и проверим гипотезу.\n"
   ]
  },
  {
   "cell_type": "code",
   "execution_count": 9,
   "metadata": {
    "collapsed": true
   },
   "outputs": [],
   "source": [
    "loc1 = 0\n",
    "loc2 = 0.5\n",
    "scale = 1\n",
    "sample_size = 10\n",
    "\n",
    "sig_lev = 0.95\n",
    "alpha = 1 - 0.95\n",
    "alpha_div2 =  alpha / 2\n",
    "\n",
    "g1 = np.random.normal(loc1, scale, size=sample_size)\n",
    "g2 = np.random.normal(loc2, scale, size=sample_size)"
   ]
  },
  {
   "cell_type": "code",
   "execution_count": 10,
   "metadata": {},
   "outputs": [
    {
     "data": {
      "text/plain": [
       "{'whiskers': [<matplotlib.lines.Line2D at 0x7f712418a048>,\n",
       "  <matplotlib.lines.Line2D at 0x7f712418a4e0>,\n",
       "  <matplotlib.lines.Line2D at 0x7f7124190e10>,\n",
       "  <matplotlib.lines.Line2D at 0x7f712419b278>],\n",
       " 'caps': [<matplotlib.lines.Line2D at 0x7f712418a908>,\n",
       "  <matplotlib.lines.Line2D at 0x7f712418ad30>,\n",
       "  <matplotlib.lines.Line2D at 0x7f712419b6a0>,\n",
       "  <matplotlib.lines.Line2D at 0x7f712419bac8>],\n",
       " 'boxes': [<matplotlib.lines.Line2D at 0x7f7124181eb8>,\n",
       "  <matplotlib.lines.Line2D at 0x7f71241909b0>],\n",
       " 'medians': [<matplotlib.lines.Line2D at 0x7f7124190198>,\n",
       "  <matplotlib.lines.Line2D at 0x7f712419bef0>],\n",
       " 'fliers': [<matplotlib.lines.Line2D at 0x7f71241905c0>,\n",
       "  <matplotlib.lines.Line2D at 0x7f71241a3358>],\n",
       " 'means': []}"
      ]
     },
     "execution_count": 10,
     "metadata": {},
     "output_type": "execute_result"
    },
    {
     "data": {
      "image/png": "[encoded data removed]",
      "text/plain": [
       "<Figure size 432x288 with 1 Axes>"
      ]
     },
     "metadata": {},
     "output_type": "display_data"
    }
   ],
   "source": [
    "plt.boxplot([g1, g2])"
   ]
  },
  {
   "cell_type": "code",
   "execution_count": 11,
   "metadata": {},
   "outputs": [
    {
     "name": "stdout",
     "output_type": "stream",
     "text": [
      "m1 = 0.08\n",
      "m2 = 0.65\n",
      "ss1 = 5.97\n",
      "ss2 = 7.82\n"
     ]
    }
   ],
   "source": [
    "m1 = g1.mean()\n",
    "m2 = g2.mean()\n",
    "\n",
    "ss1 = np.sum((g1 - m1) ** 2)\n",
    "ss2 = np.sum((g2 - m2) ** 2)\n",
    "\n",
    "print('m1 = {:.2f}'.format(m1))\n",
    "print('m2 = {:.2f}'.format(m2))\n",
    "\n",
    "print('ss1 = {:.2f}'.format(ss1))\n",
    "print('ss2 = {:.2f}'.format(ss2))"
   ]
  },
  {
   "cell_type": "markdown",
   "metadata": {},
   "source": [
    "#### Шаг 1. Сформулировать гипотезы, выбрать уровень значимости\n",
    "\n",
    "$H_0: \\mu_1 - \\mu_2 = 0$  \n",
    "$H_1: \\mu_1 - \\mu_2 \\neq 0$  \n",
    "\n",
    "Уровень значимости установим в \n",
    "$ \\alpha = 0.05 $\n",
    "\n",
    "#### Шаг 2. Установить critical region\n",
    "\n",
    "Количество степеней свободы:"
   ]
  },
  {
   "cell_type": "code",
   "execution_count": 12,
   "metadata": {},
   "outputs": [
    {
     "name": "stdout",
     "output_type": "stream",
     "text": [
      "df = 18\n"
     ]
    }
   ],
   "source": [
    "df1 = len(g1) - 1\n",
    "df2 = len(g2) - 1\n",
    "df = df1 + df2\n",
    "\n",
    "print('df = {}'.format(df))"
   ]
  },
  {
   "cell_type": "markdown",
   "metadata": {},
   "source": [
    "Из таблицы t распределения получаем, что для $ \\alpha = 0.05 $ и $df = 14$\n",
    "\n",
    "critical t-values:\n",
    "\n",
    "$2.145, –2.145$\n",
    "\n",
    "#### Шаг 3. Вычислить t статистику\n",
    "\n",
    "Pooled variance (объединенная дисперсия):"
   ]
  },
  {
   "cell_type": "code",
   "execution_count": 13,
   "metadata": {},
   "outputs": [
    {
     "name": "stdout",
     "output_type": "stream",
     "text": [
      "s_p_squared = 0.77\n"
     ]
    }
   ],
   "source": [
    "s_p_squared = (ss1 + ss2) * 1. / (df1 + df2)\n",
    "print('s_p_squared = {:.2f}'.format(s_p_squared))"
   ]
  },
  {
   "cell_type": "markdown",
   "metadata": {},
   "source": [
    "Оценка стандартного отклонения"
   ]
  },
  {
   "cell_type": "code",
   "execution_count": 14,
   "metadata": {},
   "outputs": [
    {
     "name": "stdout",
     "output_type": "stream",
     "text": [
      "s_m1_m2 = 0.39\n"
     ]
    }
   ],
   "source": [
    "s_m1_m2 = np.sqrt(s_p_squared *( 1/ len(g1) + 1 / len(g2)))\n",
    "print('s_m1_m2 = {:.2f}'.format(s_m1_m2))"
   ]
  },
  {
   "cell_type": "markdown",
   "metadata": {},
   "source": [
    "t статистика:"
   ]
  },
  {
   "cell_type": "code",
   "execution_count": 15,
   "metadata": {},
   "outputs": [
    {
     "name": "stdout",
     "output_type": "stream",
     "text": [
      "t = -1.44\n"
     ]
    }
   ],
   "source": [
    "t = ((m1 - m2) - 0) / s_m1_m2\n",
    "print('t = {:.2f}'.format(t))"
   ]
  },
  {
   "cell_type": "markdown",
   "metadata": {},
   "source": [
    "#### Шаг 4. Принятие решения\n",
    "\n",
    "Считаем критическую t статистика и проверяем попадаем ли мы в критический регион"
   ]
  },
  {
   "cell_type": "code",
   "execution_count": 16,
   "metadata": {},
   "outputs": [
    {
     "name": "stdout",
     "output_type": "stream",
     "text": [
      "left critical value: -2.10\n",
      "right critical value: -2.10\n",
      "Ttest_indResult(statistic=-1.4397099180282193, pvalue=0.1671151099247246)\n"
     ]
    }
   ],
   "source": [
    "crit_left = stats.t.ppf(alpha_div2, df)\n",
    "crit_right = stats.t.ppf(1 - alpha_div2, df)\n",
    "\n",
    "print('left critical value: {:.2f}'.format(crit_left))\n",
    "print('right critical value: {:.2f}'.format(crit_left))\n",
    "\n",
    "twosample_results = stats.ttest_ind(g1, g2)\n",
    "print(twosample_results)"
   ]
  },
  {
   "cell_type": "code",
   "execution_count": 17,
   "metadata": {},
   "outputs": [
    {
     "data": {
      "text/plain": [
       "<matplotlib.collections.LineCollection at 0x7f71240faa58>"
      ]
     },
     "execution_count": 17,
     "metadata": {},
     "output_type": "execute_result"
    },
    {
     "data": {
      "image/png": "[encoded data removed]",
      "text/plain": [
       "<Figure size 432x288 with 1 Axes>"
      ]
     },
     "metadata": {},
     "output_type": "display_data"
    }
   ],
   "source": [
    "x = np.linspace(stats.t.ppf(0.001, df), stats.t.ppf(0.999, df), 100)\n",
    "\n",
    "pdfs = stats.t.pdf(x, df)\n",
    "plt.plot(x, stats.t.pdf(x, df), 'b-', lw=2, alpha=0.6, label='t pdf')\n",
    "plt.vlines((crit_left, crit_right), (0, 0), (pdfs.max(), pdfs.max()), 'r')\n",
    "plt.vlines((t, ), (0, ), (pdfs.max(),))"
   ]
  },
  {
   "cell_type": "markdown",
   "metadata": {},
   "source": [
    "# Другие подходы\n",
    "\n",
    "## Многовариантное тестирование\n",
    "\n",
    "Применяется, когда необходимо протестировать большое количество вариантов.\n",
    "См. многовариантное тестирование, дробный факторный эксперимент, дисперсионный анализ, ANOVA"
   ]
  },
  {
   "cell_type": "markdown",
   "metadata": {},
   "source": [
    "## Байесовские бандиты \n",
    "\n",
    "Концепция.  \n",
    "Есть агент. Его окружение неизвестно.  \n",
    "Ему доступно несколько вариантов действий.  \n",
    "Каждое действие может принести, а может и не принести некоторую награду. У каждого действия свое распределение параметров возможных наград.  \n",
    "Нужно выбрать такую стратегию, чтобы заработать как можно больше наград.\n",
    "\n",
    "\n",
    "Хороший обзор: https://habr.com/company/ods/blog/325416/\n",
    "\n",
    "\n",
    "\n",
    "<img src=\"band.png\">\n"
   ]
  },
  {
   "cell_type": "markdown",
   "metadata": {},
   "source": [
    "## Ссылки\n",
    "\n",
    "1. Карл Андерсон. Аналитическая культура. Глава 8 A/B-тестирование   \n",
    "Всю книгу есть смысл прочесть для понимания некоторых концептуальных нюансов анализа данных в компаниях.\n",
    "2. Frederick J Gravetter, Larry B. Wallnau. Essentials of Statistics for the Behavioral Sciences. Глава 10  \n",
    "Книга по статистике для начинающих.\n",
    "3. http://www.evanmiller.org/ab-testing/sample-size.html  \n",
    "калькулятор для расчета размера выборки для А/Б-теста\n",
    "1. http://gopractice.ru/  \n",
    "блог по продуктовой аналитике\n",
    "2. https://classroom.udacity.com/courses/ud257/  \n",
    "курс о A/B тестировании от Google\n",
    "1. https://www.wordstream.com/blog/ws/2012/09/25/a-b-testing  \n",
    "статья \"24 of the Most Surprising A/B Tests of All Time@\"\n",
    "1. http://www.evanmiller.org/how-not-to-run-an-ab-test.html  \n",
    "статья \"How Not To Run an A/B Test\"\n",
    "1. https://habr.com/company/ods/blog/325416/  \n",
    "Байесовские бандиты"
   ]
  }
 ],
 "metadata": {
  "kernelspec": {
   "display_name": "Python 3",
   "language": "python",
   "name": "python3"
  },
  "language_info": {
   "codemirror_mode": {
    "name": "ipython",
    "version": 3
   },
   "file_extension": ".py",
   "mimetype": "text/x-python",
   "name": "python",
   "nbconvert_exporter": "python",
   "pygments_lexer": "ipython3",
   "version": "3.6.5"
  }
 },
 "nbformat": 4,
 "nbformat_minor": 2
}
