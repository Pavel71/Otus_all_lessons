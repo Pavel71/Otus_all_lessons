{
 "cells": [
  {
   "cell_type": "markdown",
   "metadata": {},
   "source": [
    "2. Реализовать и обучить сверточную нейронную сеть на Pytorch -- архитектура на ваш выбор. На датасете CIFAR10 (доступен в torchvision)."
   ]
  },
  {
   "cell_type": "code",
   "execution_count": 1,
   "metadata": {},
   "outputs": [],
   "source": [
    "from __future__ import division, print_function, unicode_literals\n",
    "import tensorflow as tf\n",
    "\n",
    "\n",
    "# Common imports\n",
    "import numpy as np\n",
    "import os\n",
    "\n",
    "# to make this notebook's output stable across runs\n",
    "def reset_graph(seed=42):\n",
    "    tf.reset_default_graph()\n",
    "    tf.set_random_seed(seed)\n",
    "    np.random.seed(seed)\n",
    "\n",
    "# To plot pretty figures\n",
    "%matplotlib inline\n",
    "import matplotlib\n",
    "import matplotlib.pyplot as plt\n",
    "plt.rcParams['axes.labelsize'] = 14\n",
    "plt.rcParams['xtick.labelsize'] = 12\n",
    "plt.rcParams['ytick.labelsize'] = 12\n",
    "\n",
    "# Where to save the figures\n",
    "PROJECT_ROOT_DIR = \".\"\n",
    "CHAPTER_ID = \"cnn\"\n",
    "\n",
    "def save_fig(fig_id, tight_layout=True):\n",
    "    path = os.path.join(PROJECT_ROOT_DIR, \"images\", CHAPTER_ID, fig_id + \".png\")\n",
    "    print(\"Saving figure\", fig_id)\n",
    "    if tight_layout:\n",
    "        plt.tight_layout()\n",
    "    plt.savefig(path, format='png', dpi=300)\n",
    "    \n",
    "    # функция для получения случайных индексов для обучения по батчам\n",
    "def fetch_batch(epoch, batch_index, batch_size):\n",
    "    \n",
    "    np.random.seed(epoch * n_batches + batch_index)  # not shown in the book\n",
    "    indices = np.random.randint(m, size=batch_size)  # not shown\n",
    "    X_batch = scaled_housing_data_plus_bias[indices] # not shown\n",
    "    y_batch = housing.target.reshape(-1, 1)[indices] # not shown\n",
    "    return X_batch, y_batch    "
   ]
  },
  {
   "cell_type": "code",
   "execution_count": 2,
   "metadata": {},
   "outputs": [
    {
     "name": "stderr",
     "output_type": "stream",
     "text": [
      "Using TensorFlow backend.\n"
     ]
    }
   ],
   "source": [
    "# Достаем данные из кераса\n",
    "from keras.datasets import cifar10"
   ]
  },
  {
   "cell_type": "code",
   "execution_count": 3,
   "metadata": {},
   "outputs": [],
   "source": [
    "(X_train, y_train), (X_test, y_test) = cifar10.load_data()"
   ]
  },
  {
   "cell_type": "code",
   "execution_count": null,
   "metadata": {},
   "outputs": [],
   "source": []
  },
  {
   "cell_type": "code",
   "execution_count": 4,
   "metadata": {},
   "outputs": [],
   "source": [
    "# Итак кол-во классов #10\n",
    "n_classes = np.unique(y_train).shape[0]\n",
    "# _ это кол-во объектов,Длинна, ширина, канал # 32 32 3\n",
    "_,height,width,channels = X_train.shape\n",
    "# Кол-во признаков\n",
    "n_future = height * width * channels"
   ]
  },
  {
   "cell_type": "code",
   "execution_count": null,
   "metadata": {},
   "outputs": [],
   "source": []
  },
  {
   "cell_type": "code",
   "execution_count": 5,
   "metadata": {},
   "outputs": [
    {
     "data": {
      "image/png": "[encoded data removed]",
      "text/plain": [
       "<Figure size 432x288 with 1 Axes>"
      ]
     },
     "metadata": {},
     "output_type": "display_data"
    }
   ],
   "source": [
    "# Смотрим на картинки! Все верно\n",
    "\n",
    "plt.imshow(X_train[2], cmap=\"gray\") # plot 1st image's 2nd feature map\n",
    "plt.title(y_train[2])\n",
    "plt.show()"
   ]
  },
  {
   "cell_type": "code",
   "execution_count": null,
   "metadata": {},
   "outputs": [],
   "source": []
  },
  {
   "cell_type": "markdown",
   "metadata": {},
   "source": [
    "# Итак пишем сверточную сеть с многоклассовой классификацией!"
   ]
  },
  {
   "cell_type": "code",
   "execution_count": 83,
   "metadata": {},
   "outputs": [],
   "source": [
    "# Итак кол-во классов #10\n",
    "n_classes = np.unique(y_train).shape[0]\n",
    "# _ это кол-во объектов,Длинна, ширина, канал # 32 32 3\n",
    "_,height,width,channels = X_train.shape\n",
    "# Кол-во признаков\n",
    "n_future = height * width * channels"
   ]
  },
  {
   "cell_type": "code",
   "execution_count": null,
   "metadata": {},
   "outputs": [],
   "source": []
  },
  {
   "cell_type": "code",
   "execution_count": null,
   "metadata": {},
   "outputs": [],
   "source": []
  },
  {
   "cell_type": "markdown",
   "metadata": {},
   "source": [
    "## MNist"
   ]
  },
  {
   "cell_type": "code",
   "execution_count": 244,
   "metadata": {},
   "outputs": [
    {
     "name": "stdout",
     "output_type": "stream",
     "text": [
      "Extracting ./Scripts/Neural_Networks/data/train-images-idx3-ubyte.gz\n",
      "Extracting ./Scripts/Neural_Networks/data/train-labels-idx1-ubyte.gz\n",
      "Extracting ./Scripts/Neural_Networks/data/t10k-images-idx3-ubyte.gz\n",
      "Extracting ./Scripts/Neural_Networks/data/t10k-labels-idx1-ubyte.gz\n"
     ]
    }
   ],
   "source": [
    "from tensorflow.examples.tutorials.mnist import input_data\n",
    "mnist = input_data.read_data_sets(\"./Scripts/Neural_Networks/data/\")"
   ]
  },
  {
   "cell_type": "code",
   "execution_count": null,
   "metadata": {},
   "outputs": [],
   "source": []
  },
  {
   "cell_type": "code",
   "execution_count": 246,
   "metadata": {},
   "outputs": [],
   "source": [
    "# Архитектура сетки 2 сверточных слоя 32 и 64 фильтра\n",
    "# окно 3 на 3 \n",
    "# шаг окна 1(2)\n",
    "# дополняем 0 недостоющие пиксели\n",
    "# Дальше объяденяющий слой по максимуму\n",
    "# 1 полносвяззный слоя\n",
    "# и выходной слой с софтмак энтропией \n",
    "\n",
    "conv1_fmaps = 32\n",
    "conv1_ksize = 3\n",
    "conv1_stride = 1\n",
    "conv1_pad = \"SAME\"\n",
    "\n",
    "conv2_fmaps = 64\n",
    "conv2_ksize = 3\n",
    "conv2_stride = 2\n",
    "conv2_pad = \"SAME\"\n",
    "\n",
    "pool3_fmaps = conv2_fmaps\n",
    "\n",
    "n_fc1 = 64\n",
    "n_outputs = 10\n",
    "n_inputs = n_future\n",
    "\n",
    "reset_graph()\n",
    "\n",
    "# 1. Определяем переменные заглушки для градиентного спуска\n",
    "X = tf.placeholder(dtype = tf.float32, shape=(None, 28*28*1), name=\"X\")\n",
    "X_reshape = tf.reshape(X , shape=(-1, 28, 28, 1))\n",
    "\n",
    "# X = tf.placeholder(dtype = tf.float32, shape = (None,height,width,channels), name = 'X')\n",
    "y = tf.placeholder(dtype = tf.int32, shape = (None), name = 'y')\n",
    "\n",
    "# 2. Прописываем архитектруру сетки\n",
    "with tf.name_scope('conv'):\n",
    "    \n",
    "    conv1d = tf.layers.conv2d(X_reshape, filters = 32, kernel_size = 3, strides = 1,padding=\"SAME\",\n",
    "                              activation = tf.nn.relu, name = 'conv1')\n",
    "    \n",
    "    conv2d = tf.layers.conv2d(conv1d,filters = 64,kernel_size = 3,strides = 2,padding='SAME',\n",
    "                              activation = tf.nn.relu, name = 'conv2')\n",
    "    \n",
    "with tf.name_scope('max_poll'):\n",
    "    \n",
    "#     pool = tf.layers.max_pooling2d(conv2d, pool_size=[2, 2], strides=2, padding='VALID')\n",
    "    \n",
    "    pool3 = tf.nn.max_pool(conv2d, ksize=[1, 2, 2, 1], strides=[1, 2, 2, 1], padding=\"VALID\")\n",
    "    pool3_flat = tf.reshape(pool3, shape=[-1, pool3_fmaps * 7 * 7])\n",
    "    \n",
    "with tf.name_scope(\"fc1\"):\n",
    "    fc1 = tf.layers.dense(pool3_flat, n_fc1, activation=tf.nn.relu, name=\"fc1\") \n",
    "\n",
    "with tf.name_scope('output'):\n",
    "    # Нужно получить выходной слой чтобы потом применить на нем софтмакс активацию\n",
    "    \n",
    "    logits = tf.layers.dense(fc1,n_outputs,name = 'logits')\n",
    "    \n",
    "    # Получаю энтропию и высчитваем ошибку\n",
    "    xentropy = tf.nn.sparse_softmax_cross_entropy_with_logits(labels=y, logits=logits)\n",
    "    loss = tf.reduce_mean(xentropy, name='loss')\n",
    "    \n",
    "    # Подсчитаем также вероятность\n",
    "    \n",
    "#     softmax = tf.layers.dense(fc1, n_outputs, activation=tf.nn.softmax, name='logits')\n",
    "    \n",
    "    \n",
    "    y_proba = tf.nn.softmax(logits, name=\"Y_proba\")\n",
    "    \n",
    "#     y_pred_cls = tf.argmax(softmax, axis=1)\n",
    "    \n",
    "#     loss = tf.reduce_mean(tf.nn.softmax_cross_entropy_with_logits_v2(logits=softmax, labels=y))\n",
    "    \n",
    "#     loss = tf.losses.softmax_cross_entropy(y, y_pred_cls) \n",
    "    \n",
    "with tf.name_scope('train'): \n",
    "    \n",
    "    # Применим АдамОптимизатор\n",
    "    optimizer = tf.train.MomentumOptimizer(learning_rate=0.01,momentum=0.9,name='optimizer').minimize(loss)\n",
    "    \n",
    "with tf.name_scope('accuracy'):\n",
    "    \n",
    "#     correct_prediction = tf.equal(y_pred_cls, tf.argmax(y, axis=1))\n",
    "#     accuracy = tf.reduce_mean(tf.cast(correct_prediction, tf.float32))\n",
    "    # Подсчитаем точность\n",
    "    # Получим булевые ответы на вероятность угадать класс\n",
    "    correct = tf.nn.in_top_k(logits, y,1)\n",
    "    # Точность\n",
    "    accuracy = tf.reduce_mean(tf.cast(correct,dtype=tf.float32),name='accuracy')\n",
    "    \n",
    "with tf.name_scope(\"init_and_save\"):\n",
    "    init = tf.global_variables_initializer()\n",
    "    saver = tf.train.Saver()   "
   ]
  },
  {
   "cell_type": "code",
   "execution_count": 247,
   "metadata": {},
   "outputs": [
    {
     "name": "stdout",
     "output_type": "stream",
     "text": [
      "0 Train accuracy: 0.97 Test accuracy: 0.9622\n",
      "1 Train accuracy: 0.98 Test accuracy: 0.9741\n",
      "2 Train accuracy: 0.97 Test accuracy: 0.9783\n",
      "3 Train accuracy: 0.98 Test accuracy: 0.9797\n",
      "4 Train accuracy: 0.98 Test accuracy: 0.9843\n",
      "5 Train accuracy: 0.97 Test accuracy: 0.9862\n",
      "6 Train accuracy: 1.0 Test accuracy: 0.9868\n",
      "7 Train accuracy: 0.99 Test accuracy: 0.9871\n",
      "8 Train accuracy: 0.99 Test accuracy: 0.9869\n",
      "9 Train accuracy: 1.0 Test accuracy: 0.9879\n"
     ]
    }
   ],
   "source": [
    "n_epochs = 10\n",
    "batch_size = 100\n",
    "\n",
    "with tf.Session() as sess:\n",
    "    init.run()\n",
    "    \n",
    "    for epoch in range(n_epochs):\n",
    "        \n",
    "        for iteration in range(mnist.train.num_examples // batch_size):\n",
    "            \n",
    "            X_batch, y_batch = mnist.train.next_batch(batch_size)\n",
    "            \n",
    "            sess.run(optimizer, feed_dict={X: X_batch, y: y_batch})\n",
    "            \n",
    "        acc_train = accuracy.eval(feed_dict={X: X_batch, y: y_batch})\n",
    "        acc_test = accuracy.eval(feed_dict={X: mnist.test.images, y: mnist.test.labels})\n",
    "        \n",
    "        print(epoch, \"Train accuracy:\", acc_train, \"Test accuracy:\", acc_test)\n",
    "\n",
    "        save_path = saver.save(sess, \"./my_mnist_model\")"
   ]
  },
  {
   "cell_type": "code",
   "execution_count": 14,
   "metadata": {},
   "outputs": [],
   "source": [
    "# Достаем данные из кераса\n",
    "from keras.datasets import cifar10\n"
   ]
  },
  {
   "cell_type": "code",
   "execution_count": null,
   "metadata": {},
   "outputs": [],
   "source": []
  },
  {
   "cell_type": "code",
   "execution_count": 15,
   "metadata": {},
   "outputs": [],
   "source": [
    "(X_train, y_train), (X_test, y_test) = cifar10.load_data()\n",
    "\n",
    "X_train_255 = X_train.astype('float32')\n",
    "X_test_255 = X_test.astype('float32') \n",
    "X_train_255 /= 255\n",
    "X_test_255 /= 255\n",
    "\n",
    "\n"
   ]
  },
  {
   "cell_type": "code",
   "execution_count": null,
   "metadata": {},
   "outputs": [],
   "source": []
  },
  {
   "cell_type": "markdown",
   "metadata": {},
   "source": [
    "# CIFAR 10"
   ]
  },
  {
   "cell_type": "code",
   "execution_count": 18,
   "metadata": {},
   "outputs": [],
   "source": [
    "# Архитектура сетки 2 сверточных слоя 32 и 64 фильтра\n",
    "# окно 3 на 3 \n",
    "# шаг окна 1(2)\n",
    "# дополняем 0 недостоющие пиксели\n",
    "# Дальше объяденяющий слой по максимуму\n",
    "# 1 полносвяззный слоя\n",
    "# и выходной слой с софтмак энтропией \n",
    "\n",
    "conv1_fmaps = 32\n",
    "conv1_ksize = 3\n",
    "conv1_stride = 1\n",
    "conv1_pad = \"SAME\"\n",
    "\n",
    "conv2_fmaps = 64\n",
    "conv2_ksize = 3\n",
    "conv2_stride = 2\n",
    "conv2_pad = \"SAME\"\n",
    "\n",
    "pool3_fmaps = conv2_fmaps\n",
    "\n",
    "n_fc1 = 64\n",
    "n_outputs = 10\n",
    "n_inputs = n_future\n",
    "\n",
    "reset_graph()\n",
    "\n",
    "# 1. Определяем переменные заглушки для градиентного спуска\n",
    "X = tf.placeholder(dtype = tf.float32, shape=(None, 32,32,3), name=\"X\")\n",
    "# X_reshape = tf.reshape(X , shape=(-1, 32, 32, 3))\n",
    "\n",
    "# X = tf.placeholder(dtype = tf.float32, shape = (None,height,width,channels), name = 'X')\n",
    "y = tf.placeholder(dtype = tf.int32, shape = (None), name = 'y')\n",
    "\n",
    "# Делаем переменную traning для батч нормализации\n",
    "training = tf.placeholder_with_default(False, shape=[], name='training')\n",
    "he_init = tf.contrib.layers.variance_scaling_initializer()\n",
    "\n",
    "# 2. Прописываем архитектруру сетки\n",
    "with tf.name_scope('conv1'):\n",
    "    \n",
    "    conv1d = tf.layers.conv2d(X, filters = 32, \n",
    "                              kernel_size = 3, \n",
    "                              strides = 1,\n",
    "                              padding=\"SAME\",\n",
    "                              activation = tf.nn.relu,\n",
    "                              kernel_initializer=he_init,\n",
    "                              name = 'conv1_1')\n",
    "    \n",
    "    conv1_2d = tf.layers.conv2d(conv1d,filters = 64,\n",
    "                                kernel_size = 3,\n",
    "                                strides = 1,\n",
    "                                padding='SAME',\n",
    "                                activation = tf.nn.relu,\n",
    "                                kernel_initializer=he_init,\n",
    "                                name = 'conv1_2')\n",
    "        \n",
    "    pool1 = tf.layers.max_pooling2d(conv1_2d, pool_size=[2, 2], strides=2, padding='VALID')\n",
    "    drop1 = tf.layers.dropout(pool1, rate=0.25, training=training, name='drop1')\n",
    "    \n",
    "with tf.variable_scope('conv2') as scope:\n",
    "    \n",
    "    conv2d = tf.layers.conv2d(\n",
    "            inputs=drop1,\n",
    "            filters=128,\n",
    "            kernel_size=[3, 3],\n",
    "            padding='SAME',\n",
    "            activation=tf.nn.relu,\n",
    "            kernel_initializer=he_init\n",
    "        )\n",
    "    \n",
    "    pool2 = tf.layers.max_pooling2d(conv2d, pool_size=[2, 2], strides=2, padding='SAME')\n",
    "    conv2_2d = tf.layers.conv2d(\n",
    "            inputs=pool2 ,\n",
    "            filters=128,\n",
    "            kernel_size=[2, 2],\n",
    "            padding='SAME',\n",
    "            activation=tf.nn.relu,\n",
    "            kernel_initializer=he_init    \n",
    "        )\n",
    "    \n",
    "    pool3 = tf.layers.max_pooling2d(conv2_2d, pool_size=[2, 2], strides=2, padding='SAME')\n",
    "    drop2 = tf.layers.dropout(pool3, rate=0.25, training=training, name='drop2')    \n",
    "    \n",
    "    \n",
    "    drop_flat = tf.reshape(drop2, shape=[-1, 128 * 4 * 4])\n",
    "    \n",
    "with tf.name_scope(\"fc1\"):\n",
    "    \n",
    "    fc1 = tf.layers.dense(drop_flat, 1500, \n",
    "                          activation=tf.nn.relu,\n",
    "                          kernel_initializer=he_init,\n",
    "                          name=\"fc1\")\n",
    "    \n",
    "\n",
    "with tf.name_scope('output'):\n",
    "    # Нужно получить выходной слой чтобы потом применить на нем софтмакс активацию\n",
    "    \n",
    "    logits = tf.layers.dense(fc1,n_outputs,name = 'logits')\n",
    "    \n",
    "    # Получаю энтропию и высчитваем ошибку\n",
    "    xentropy = tf.nn.sparse_softmax_cross_entropy_with_logits(labels=y, logits=logits)\n",
    "    loss = tf.reduce_mean(xentropy, name='loss')\n",
    "    \n",
    "    # для предикта\n",
    "    y_proba = tf.nn.softmax(logits, name=\"Y_proba\")\n",
    "    \n",
    "\n",
    "    \n",
    "with tf.name_scope('train'): \n",
    "    \n",
    "    # Применим АдамОптимизатор\n",
    "    optimizer = tf.train.AdamOptimizer(learning_rate=0.01,\n",
    "                                   beta1=0.9,\n",
    "                                   beta2=0.999,\n",
    "                                   epsilon=1e-08,\n",
    "                                   name='optimizer').minimize(loss)\n",
    "    \n",
    "with tf.name_scope('accuracy'):\n",
    "    \n",
    "#     correct_prediction = tf.equal(y_pred_cls, tf.argmax(y, axis=1))\n",
    "#     accuracy = tf.reduce_mean(tf.cast(correct_prediction, tf.float32))\n",
    "    # Подсчитаем точность\n",
    "    # Получим булевые ответы на вероятность угадать класс\n",
    "    correct = tf.nn.in_top_k(logits, y,1)\n",
    "    # Точность\n",
    "    accuracy = tf.reduce_mean(tf.cast(correct,dtype=tf.float32),name='accuracy')\n",
    "    \n",
    "with tf.name_scope(\"init_and_save\"):\n",
    "    \n",
    "    init = tf.global_variables_initializer()\n",
    "    saver = tf.train.Saver()   "
   ]
  },
  {
   "cell_type": "code",
   "execution_count": null,
   "metadata": {},
   "outputs": [],
   "source": []
  },
  {
   "cell_type": "code",
   "execution_count": 21,
   "metadata": {},
   "outputs": [
    {
     "name": "stdout",
     "output_type": "stream",
     "text": [
      "0 Train accuracy: 0.48 Test accuracy: 0.3797\n",
      "1 Train accuracy: 0.41 Test accuracy: 0.431\n",
      "2 Train accuracy: 0.39 Test accuracy: 0.4134\n",
      "3 Train accuracy: 0.46 Test accuracy: 0.4626\n",
      "4 Train accuracy: 0.41 Test accuracy: 0.4535\n",
      "5 Train accuracy: 0.45 Test accuracy: 0.4511\n",
      "6 Train accuracy: 0.53 Test accuracy: 0.4852\n",
      "7 Train accuracy: 0.41 Test accuracy: 0.4736\n",
      "8 Train accuracy: 0.48 Test accuracy: 0.4666\n",
      "9 Train accuracy: 0.57 Test accuracy: 0.4845\n"
     ]
    }
   ],
   "source": [
    "\n",
    "epochs = 10\n",
    "n_batchs = 100\n",
    "\n",
    "with tf.Session() as sess:\n",
    "    init.run()\n",
    "    \n",
    "    for epoch in range(epochs):\n",
    "        \n",
    "        for iteration in range(X_train.shape[0] // n_batchs):\n",
    "            \n",
    "            indices = np.random.randint(X_train.shape[0], size=n_batchs)\n",
    "            \n",
    "            X_batch, y_batch = X_train_255[indices],y_train[indices].flatten()\n",
    "            \n",
    "            sess.run(optimizer,feed_dict = {X:X_batch,y:y_batch,training: True})\n",
    "            \n",
    "        acc_train = accuracy.eval(feed_dict={X: X_batch, y: y_batch})            \n",
    "        accuracy_test = accuracy.eval(feed_dict = {X:X_test_255,y:y_test.flatten()}) \n",
    " \n",
    "        \n",
    "        print(epoch, \"Train accuracy:\", acc_train, \"Test accuracy:\", accuracy_test)\n",
    "\n",
    "        save_path = saver.save(sess, \"./my_cf10n_model2\")"
   ]
  },
  {
   "cell_type": "markdown",
   "metadata": {},
   "source": [
    "## Вообщем при наличии времени и технической возможности можно обучить сетку 60 -100 эпох тогда скор будет выше."
   ]
  },
  {
   "cell_type": "code",
   "execution_count": null,
   "metadata": {},
   "outputs": [],
   "source": []
  },
  {
   "cell_type": "code",
   "execution_count": null,
   "metadata": {},
   "outputs": [],
   "source": []
  },
  {
   "cell_type": "code",
   "execution_count": null,
   "metadata": {},
   "outputs": [],
   "source": []
  },
  {
   "cell_type": "code",
   "execution_count": null,
   "metadata": {},
   "outputs": [],
   "source": []
  },
  {
   "cell_type": "code",
   "execution_count": null,
   "metadata": {},
   "outputs": [],
   "source": []
  },
  {
   "cell_type": "code",
   "execution_count": null,
   "metadata": {},
   "outputs": [],
   "source": []
  },
  {
   "cell_type": "code",
   "execution_count": null,
   "metadata": {},
   "outputs": [],
   "source": []
  },
  {
   "cell_type": "code",
   "execution_count": null,
   "metadata": {},
   "outputs": [],
   "source": []
  },
  {
   "cell_type": "code",
   "execution_count": null,
   "metadata": {},
   "outputs": [],
   "source": []
  }
 ],
 "metadata": {
  "kernelspec": {
   "display_name": "Python 3",
   "language": "python",
   "name": "python3"
  },
  "language_info": {
   "codemirror_mode": {
    "name": "ipython",
    "version": 3
   },
   "file_extension": ".py",
   "mimetype": "text/x-python",
   "name": "python",
   "nbconvert_exporter": "python",
   "pygments_lexer": "ipython3",
   "version": "3.6.5"
  }
 },
 "nbformat": 4,
 "nbformat_minor": 2
}
