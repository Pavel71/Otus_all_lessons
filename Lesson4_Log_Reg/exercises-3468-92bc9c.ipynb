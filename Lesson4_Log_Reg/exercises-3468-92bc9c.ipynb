{
 "cells": [
  {
   "cell_type": "markdown",
   "metadata": {
    "collapsed": true
   },
   "source": [
    "<img src=\"pics/otus.png\">"
   ]
  },
  {
   "cell_type": "code",
<<<<<<< HEAD
   "execution_count": 2,
=======
   "execution_count": 3,
>>>>>>> 3b95acd0cf76560b7f6404a8b75ee5c39b82bc7d
   "metadata": {},
   "outputs": [],
   "source": [
    "import numpy as np\n",
    "import matplotlib\n",
    "import matplotlib.pyplot as plt\n",
    "import pandas as pd\n",
    "from sklearn import datasets\n",
    "from sklearn.preprocessing import StandardScaler\n",
    "from sklearn.linear_model import LinearRegression\n",
    "from pandas.tools.plotting import table\n",
    "from sklearn import datasets\n",
    "\n",
    "%matplotlib inline\n",
    "plt.rcParams[\"figure.figsize\"] = [12, 8]\n",
    "\n",
    "np.random.seed(42)\n"
   ]
  },
  {
   "cell_type": "markdown",
   "metadata": {},
   "source": [
    "# Логистическая регрессия"
   ]
  },
  {
   "cell_type": "markdown",
   "metadata": {},
   "source": [
    "## Как принимается решение\n",
    "\n",
    "Простой вариант - узнать, с какой стороны от гиперплоскости находится точка\n",
    "\n",
    "$$\\hat{y} = sign(x\\theta)$$\n",
    "\n",
    "Уравнение прямой\n",
    "      $$Ax+By+C=0$$\n",
    "\n",
    "Расстояние от точки $(x0, y0)$ до прямой $Ax+By+C=0$ это $$\\frac{|Ax0 + By0 + C|}{\\sqrt{(A^2 + B^2)}}$$"
   ]
  },
  {
   "cell_type": "markdown",
   "metadata": {},
   "source": [
    "## Упражнение 1"
   ]
  },
  {
   "cell_type": "code",
   "execution_count": 6,
   "metadata": {},
   "outputs": [
    {
     "name": "stdout",
     "output_type": "stream",
     "text": [
      "(10, 3)\n",
      "(10,)\n"
     ]
    }
   ],
   "source": [
    "w = np.array([7, -1, 1]) # Ax + By + C = 0\n",
    "     \n",
    "# Замечание: расстояние от точки (x0, y0) до прямой Ax + By + C это abs(Ax0 + By0 + C) / sqrt(A^2 + B^2)\n",
    "    \n",
    "def predict(x, w):\n",
    "    return np.sign(x.dot(w))\n",
    "    \n",
    "x_pred = np.hstack([np.random.rand(10, 2) * 4 - 2, np.ones(10).reshape(-1, 1)])\n",
    "y_pred = predict(x_pred, w)\n",
    "\n",
    "print (x_pred.shape)\n",
    "print (y_pred.shape)"
   ]
  },
  {
   "cell_type": "code",
   "execution_count": null,
   "metadata": {},
   "outputs": [],
   "source": []
  },
  {
   "cell_type": "code",
   "execution_count": null,
   "metadata": {},
   "outputs": [],
   "source": []
  },
  {
   "cell_type": "code",
   "execution_count": null,
   "metadata": {},
   "outputs": [],
   "source": [
    "x_naive = np.arange(-0.5, 0.5, 0.1)\n",
    "y_naive = 7 * x_naive + 1\n",
    "\n",
    "plt.scatter(x_pred[:, 0], x_pred[:, 1], c=['yellow' if y_i > 0 else 'green' for y_i in y_pred])\n",
    "plt.title(\"Classification problem \\n What is the color for the new (x1, x2) pair?\")\n",
    "plt.xlabel(\"x1 (feature)\")\n",
    "plt.ylabel(\"x2 (feature)\")\n",
    "plt.plot(x_naive, y_naive, c='red', label='descision boundary naive')\n",
    "plt.legend()\n",
    "plt.savefig('pics/classification_random_line.pdf')"
   ]
  },
  {
   "cell_type": "markdown",
   "metadata": {},
   "source": [
    "# Градиентный спуск\n",
    "\n"
   ]
  },
  {
   "cell_type": "markdown",
   "metadata": {},
   "source": [
    "Посчитаем, чему равен градиент функции потерь $RSS(\\theta)$\n",
    "\n",
    "$$ RSS = \\mathcal{L}(\\theta) = (\\hat{y} - y)^2 $$\n",
    "\n",
    "$$ \\frac{\\partial L}{\\partial \\theta_i} = 2(\\hat{y} - y)\\frac{\\partial L}{\\partial \\theta_i}(\\hat{y} - y) = 2(\\hat{y} - y)\\frac{\\partial L}{\\partial \\theta_i}(\\theta_0x_0 + ... + \\theta_1x_1 - y) = 2(\\hat{y} - y)\\cdot x_i$$\n",
    "\n",
    "$$ \\theta_i:= \\theta_i - \\alpha(\\hat{y} - y)\\cdot x_i$$\n",
    "\n",
    "Или:\n",
    "$$ \\frac{\\partial RSS(\\theta)}{\\partial \\theta_i} = 2\\sum_{i=1}^{n}(\\theta^T\\cdot x_i - y_i)x_i$$\n",
    "\n",
    "$$\\nabla_\\theta RSS(\\theta) = \\left( \\begin{matrix} \\frac{\\partial L}{\\partial \\theta_0} \\\\ \\frac{\\partial L}{\\partial \\theta_1} \\\\ ... \\\\ \\frac{\\partial L}{\\partial \\theta_p} \\end{matrix} \\right) = x^\\top(x\\theta - y)$$\n",
    "\n",
    "\n",
    "Для MSE:\n",
    "$$ \\frac{\\partial L}{\\partial \\theta} = \\frac{1}{n} X^\\top(X\\theta - y)$$"
   ]
  },
  {
   "cell_type": "code",
<<<<<<< HEAD
   "execution_count": 9,
=======
   "execution_count": 4,
>>>>>>> 3b95acd0cf76560b7f6404a8b75ee5c39b82bc7d
   "metadata": {},
   "outputs": [],
   "source": [
    "np.random.seed(42)\n",
    "X = 2 * np.random.rand(100, 1)\n",
    "y = 4 + 3 * X + np.random.randn(100, 1)"
   ]
  },
  {
   "cell_type": "code",
<<<<<<< HEAD
   "execution_count": 10,
=======
   "execution_count": 5,
>>>>>>> 3b95acd0cf76560b7f6404a8b75ee5c39b82bc7d
   "metadata": {},
   "outputs": [
    {
     "data": {
      "text/plain": [
       "(array([4.21509616]), array([[2.77011339]]))"
      ]
     },
<<<<<<< HEAD
     "execution_count": 10,
=======
     "execution_count": 5,
>>>>>>> 3b95acd0cf76560b7f6404a8b75ee5c39b82bc7d
     "metadata": {},
     "output_type": "execute_result"
    }
   ],
   "source": [
    "lin_reg = LinearRegression()\n",
    "lin_reg.fit(X, y)\n",
    "lin_reg.intercept_, lin_reg.coef_"
   ]
  },
  {
   "cell_type": "code",
<<<<<<< HEAD
   "execution_count": 11,
=======
   "execution_count": null,
   "metadata": {},
   "outputs": [],
   "source": []
  },
  {
   "cell_type": "code",
   "execution_count": 6,
>>>>>>> 3b95acd0cf76560b7f6404a8b75ee5c39b82bc7d
   "metadata": {},
   "outputs": [],
   "source": [
    "theta_best = np.vstack([lin_reg.intercept_, lin_reg.coef_.ravel()])"
   ]
  },
  {
   "cell_type": "code",
   "execution_count": null,
   "metadata": {},
   "outputs": [],
   "source": []
  },
  {
   "cell_type": "code",
<<<<<<< HEAD
   "execution_count": 12,
=======
   "execution_count": 7,
>>>>>>> 3b95acd0cf76560b7f6404a8b75ee5c39b82bc7d
   "metadata": {},
   "outputs": [
    {
     "data": {
      "text/plain": [
       "array([[4.21509616],\n",
       "       [9.75532293]])"
      ]
     },
<<<<<<< HEAD
     "execution_count": 12,
=======
     "execution_count": 7,
>>>>>>> 3b95acd0cf76560b7f6404a8b75ee5c39b82bc7d
     "metadata": {},
     "output_type": "execute_result"
    }
   ],
   "source": [
    "X_new = np.array([[0], [2]])\n",
    "X_new_b = np.c_[np.ones((2, 1)), X_new]  # add x0 = 1 to each instance\n",
    "y_predict = X_new_b.dot(theta_best)\n",
    "y_predict"
   ]
  },
  {
   "cell_type": "code",
   "execution_count": null,
   "metadata": {},
   "outputs": [],
   "source": []
  },
  {
   "cell_type": "markdown",
   "metadata": {},
   "source": [
    "## Псевдокод алгоритма\n",
    "\n",
    "```{python}\n",
    "1.function gd(X, alpha, epsilon):\n",
    "2.    initialise theta \n",
    "3.    do: \n",
    "4.        theta = new_theta\n",
    "5.        new_theta = theta - alpha * grad(X, theta)\n",
    "6.    until dist(new_theta, theta) < epsilon\n",
    "7.    return theta\n",
    "```"
   ]
  },
  {
   "cell_type": "markdown",
   "metadata": {},
   "source": [
    "## Упражнение 2"
   ]
  },
  {
   "cell_type": "code",
<<<<<<< HEAD
   "execution_count": 20,
=======
   "execution_count": 8,
>>>>>>> 3b95acd0cf76560b7f6404a8b75ee5c39b82bc7d
   "metadata": {},
   "outputs": [
    {
     "name": "stdout",
     "output_type": "stream",
     "text": [
<<<<<<< HEAD
      "168 9.835408657443886e-05 [[4.21292401]\n",
      " [2.77203128]] [[4.21299774]\n",
      " [2.77196618]]\n"
=======
      "193 9.86249315402732e-05\n"
>>>>>>> 3b95acd0cf76560b7f6404a8b75ee5c39b82bc7d
     ]
    }
   ],
   "source": [
    "X_b = np.c_[np.ones((100, 1)), X]\n",
    "\n",
    "alpha = 0.1\n",
    "n_iterations = 1000\n",
    "m = 100\n",
    "theta = np.random.randn(2,1)\n",
    "eps = 0.0001\n",
    "for iteration in range(n_iterations):\n",
<<<<<<< HEAD
    "    \n",
=======
    "    # усредняем градиент\n",
>>>>>>> 3b95acd0cf76560b7f6404a8b75ee5c39b82bc7d
    "    gradients = 2. / m * X_b.T.dot(X_b.dot(theta) - y)\n",
    "    \n",
    "    theta_old = theta\n",
    "    theta = theta - alpha * gradients\n",
<<<<<<< HEAD
    "    \n",
    "    dist = np.linalg.norm(theta - theta_old)\n",
    "    if dist < eps:\n",
    "        print (iteration, dist, theta_old,theta)\n",
    "        break\n",
    "    \n",
    "    \n",
    "        \n"
=======
    "    dist = np.linalg.norm(theta - theta_old)\n",
    "    if dist < eps:\n",
    "        break\n",
    "        \n",
    "print (iteration, dist)\n"
>>>>>>> 3b95acd0cf76560b7f6404a8b75ee5c39b82bc7d
   ]
  },
  {
   "cell_type": "code",
   "execution_count": null,
   "metadata": {},
   "outputs": [],
   "source": []
  },
  {
   "cell_type": "code",
   "execution_count": null,
   "metadata": {},
   "outputs": [],
   "source": [
    "theta"
   ]
  },
  {
   "cell_type": "markdown",
   "metadata": {},
   "source": [
    "## Стохастический градиентный спуск\n"
   ]
  },
  {
   "cell_type": "markdown",
   "metadata": {},
   "source": [
    "Проблема - используется вся обучающая выборка на каждом шаге алгоритма  \n",
    "Решение - использовать один случайный элемент выборки"
   ]
  },
  {
   "cell_type": "markdown",
   "metadata": {},
   "source": [
    "### Градиентный спуск\n",
    "\n",
    "```{python}\n",
    "1.function gd(X, alpha, epsilon):\n",
    "2.    initialise theta \n",
    "3.    do: \n",
    "4.        theta = new_theta\n",
    "5.        new_theta = theta - alpha * grad(X, theta)\n",
    "6.    until dist(new_theta, theta) < epsilon\n",
    "7.    return theta\n",
    "```\n",
    "\n",
    "### Стохастический градиентный спуск\n",
    "\n",
    "```{python}\n",
    "1.function sgd(X, alpha, epsilon):\n",
    "2. \tinitialise theta \n",
    "3. \tdo: \n",
    "4.        X = shuffle(X)\n",
    "5.        for x in X:\n",
    "6.            theta = new_theta\n",
    "7.            new_theta = theta - alpha * grad(x, theta)\n",
    "8.\tuntil dist(new_theta, theta) < epsilon\n",
    "9.\treturn theta\n",
    "```"
   ]
  },
  {
   "cell_type": "code",
   "execution_count": 16,
   "metadata": {},
   "outputs": [
    {
     "data": {
      "text/plain": [
       "array([[1.        , 1.        , 1.        , 1.        , 1.        ,\n",
       "        1.        , 1.        , 1.        , 1.        , 1.        ,\n",
       "        1.        , 1.        , 1.        , 1.        , 1.        ,\n",
       "        1.        , 1.        , 1.        , 1.        , 1.        ,\n",
       "        1.        , 1.        , 1.        , 1.        , 1.        ,\n",
       "        1.        , 1.        , 1.        , 1.        , 1.        ,\n",
       "        1.        , 1.        , 1.        , 1.        , 1.        ,\n",
       "        1.        , 1.        , 1.        , 1.        , 1.        ,\n",
       "        1.        , 1.        , 1.        , 1.        , 1.        ,\n",
       "        1.        , 1.        , 1.        , 1.        , 1.        ,\n",
       "        1.        , 1.        , 1.        , 1.        , 1.        ,\n",
       "        1.        , 1.        , 1.        , 1.        , 1.        ,\n",
       "        1.        , 1.        , 1.        , 1.        , 1.        ,\n",
       "        1.        , 1.        , 1.        , 1.        , 1.        ,\n",
       "        1.        , 1.        , 1.        , 1.        , 1.        ,\n",
       "        1.        , 1.        , 1.        , 1.        , 1.        ,\n",
       "        1.        , 1.        , 1.        , 1.        , 1.        ,\n",
       "        1.        , 1.        , 1.        , 1.        , 1.        ,\n",
       "        1.        , 1.        , 1.        , 1.        , 1.        ,\n",
       "        1.        , 1.        , 1.        , 1.        , 1.        ],\n",
       "       [0.74908024, 1.90142861, 1.46398788, 1.19731697, 0.31203728,\n",
       "        0.31198904, 0.11616722, 1.73235229, 1.20223002, 1.41614516,\n",
       "        0.04116899, 1.9398197 , 1.66488528, 0.42467822, 0.36364993,\n",
       "        0.36680902, 0.60848449, 1.04951286, 0.86389004, 0.58245828,\n",
       "        1.22370579, 0.27898772, 0.5842893 , 0.73272369, 0.91213997,\n",
       "        1.57035192, 0.39934756, 1.02846888, 1.18482914, 0.09290083,\n",
       "        1.2150897 , 0.34104825, 0.13010319, 1.89777107, 1.93126407,\n",
       "        1.6167947 , 0.60922754, 0.19534423, 1.36846605, 0.88030499,\n",
       "        0.24407647, 0.99035382, 0.06877704, 1.8186408 , 0.51755996,\n",
       "        1.32504457, 0.62342215, 1.04013604, 1.09342056, 0.36970891,\n",
       "        1.93916926, 1.55026565, 1.87899788, 1.7896547 , 1.19579996,\n",
       "        1.84374847, 0.176985  , 0.39196572, 0.09045458, 0.65066066,\n",
       "        0.77735458, 0.54269806, 1.65747502, 0.71350665, 0.56186902,\n",
       "        1.08539217, 0.28184845, 1.60439396, 0.14910129, 1.97377387,\n",
       "        1.54448954, 0.39743136, 0.01104423, 1.63092286, 1.41371469,\n",
       "        1.45801434, 1.54254069, 0.1480893 , 0.71693146, 0.23173812,\n",
       "        1.72620685, 1.24659625, 0.66179605, 0.1271167 , 0.62196464,\n",
       "        0.65036664, 1.45921236, 1.27511494, 1.77442549, 0.94442985,\n",
       "        0.23918849, 1.42648957, 1.5215701 , 1.1225544 , 1.54193436,\n",
       "        0.98759119, 1.04546566, 0.85508204, 0.05083825, 0.21578285]])"
      ]
     },
     "execution_count": 16,
     "metadata": {},
     "output_type": "execute_result"
    }
   ],
   "source": [
    "X_b.T"
   ]
  },
  {
   "cell_type": "code",
   "execution_count": 23,
   "metadata": {},
   "outputs": [
    {
     "data": {
      "text/plain": [
       "array([32, 65, 18, 73, 11, 94, 79, 21, 50, 89, 44, 70, 96, 62, 80, 87, 66,\n",
       "       93, 88,  0, 52, 86, 61, 76, 25, 74, 27, 98, 15, 43, 33, 16,  7, 60,\n",
       "        1, 10,  9, 90, 12, 14, 31, 69, 51, 82,  4, 59, 71, 28, 83, 78, 29,\n",
       "        6, 41, 99, 91, 58, 92, 45, 35, 40, 64, 36, 24, 37, 97,  3,  2, 30,\n",
       "       42, 85, 68, 39, 55, 47, 22, 13, 75,  8, 49, 19, 81, 77,  5, 56, 57,\n",
       "       38, 34, 48, 63, 72, 95, 53, 46, 67, 54, 17, 20, 26, 23, 84])"
      ]
     },
     "execution_count": 23,
     "metadata": {},
     "output_type": "execute_result"
    }
   ],
   "source": [
    "p = np.random.permutation(m)\n",
    "p"
   ]
  },
  {
   "cell_type": "code",
   "execution_count": 31,
   "metadata": {},
   "outputs": [
    {
     "data": {
      "text/plain": [
       "(array([[1.        , 0.13010319]]), array([4.64785995]))"
      ]
     },
     "execution_count": 31,
     "metadata": {},
     "output_type": "execute_result"
    }
   ],
   "source": [
    "X_b[[32], :],y[32]"
   ]
  },
  {
   "cell_type": "code",
   "execution_count": 35,
   "metadata": {},
   "outputs": [
    {
     "data": {
      "text/plain": [
       "array([[1.        ],\n",
       "       [0.13010319]])"
      ]
     },
     "execution_count": 35,
     "metadata": {},
     "output_type": "execute_result"
    }
   ],
   "source": [
    "X_b[[32]].T"
   ]
  },
  {
   "cell_type": "code",
   "execution_count": null,
   "metadata": {},
   "outputs": [],
   "source": []
  },
  {
   "cell_type": "code",
   "execution_count": 32,
   "metadata": {},
   "outputs": [
    {
     "name": "stdout",
     "output_type": "stream",
     "text": [
      "[[4.17836482]\n",
      " [2.7408517 ]]\n"
     ]
    }
   ],
   "source": [
    "m = len(X_b)\n",
    "alpha = 0.01\n",
    "n_epochs = 100\n",
    "t0, t1 = 5., 50  # learning schedule hyperparameters\n",
    "\n",
    "theta = np.random.randn(2,1)  # random initialization\n",
    "\n",
    "    \n",
<<<<<<< HEAD
    "    # your code here\n",
=======
    "for epoch in range(n_epochs):\n",
    "    \n",
    "    p = np.random.permutation(m)\n",
    "    \n",
    "    for idx in p:\n",
    "        \n",
    "        xi = X_b[[idx]]\n",
    "        yi = y[[idx]]\n",
    "        \n",
    "        gradients = 2 * xi.T.dot(xi.dot(theta) - yi)\n",
    "        theta = theta - alpha * gradients\n",
>>>>>>> 3b95acd0cf76560b7f6404a8b75ee5c39b82bc7d
    "        \n",
    "print (theta)"
   ]
  },
  {
   "cell_type": "code",
   "execution_count": null,
   "metadata": {},
   "outputs": [],
   "source": []
  },
  {
   "cell_type": "code",
   "execution_count": null,
   "metadata": {},
   "outputs": [],
   "source": []
  },
  {
   "cell_type": "code",
   "execution_count": null,
   "metadata": {},
   "outputs": [],
   "source": []
  }
 ],
 "metadata": {
  "kernelspec": {
   "display_name": "Python 3",
   "language": "python",
   "name": "python3"
  },
  "language_info": {
   "codemirror_mode": {
    "name": "ipython",
    "version": 3
   },
   "file_extension": ".py",
   "mimetype": "text/x-python",
   "name": "python",
   "nbconvert_exporter": "python",
   "pygments_lexer": "ipython3",
   "version": "3.6.4"
  }
 },
 "nbformat": 4,
 "nbformat_minor": 2
}
